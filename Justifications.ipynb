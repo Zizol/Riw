{
 "cells": [
  {
   "cell_type": "markdown",
   "metadata": {
    "heading_collapsed": true
   },
   "source": [
    "# RIW\n",
    "\n",
    "Ce notebook contient les justifications techniques pour le SRI.\n",
    "\n",
    "Hypothèses simplificatrices (parce qu'il y a beaucoup de dossiers)\n",
    "\n",
    "* Je ne prends que les fichiers HTML (1.1. LoadData)\n",
    "\n",
    "* Je ne prends que le dossier 0 (1.1. Datas)\n",
    "\n",
    "* Je ne prends que la requete 8 (3.1. requests, relevance judgements)"
   ]
  },
  {
   "cell_type": "markdown",
   "metadata": {
    "heading_collapsed": true
   },
   "source": [
    "# Index Inversé"
   ]
  },
  {
   "cell_type": "markdown",
   "metadata": {
    "heading_collapsed": true,
    "hidden": true
   },
   "source": [
    "## Etape 1 : Prise en main des données"
   ]
  },
  {
   "cell_type": "markdown",
   "metadata": {
    "hidden": true
   },
   "source": [
    "On commence par charger les données"
   ]
  },
  {
   "cell_type": "code",
   "execution_count": 2,
   "metadata": {
    "code_folding": [],
    "hidden": true
   },
   "outputs": [],
   "source": [
    "import os\n",
    "\n",
    "\n",
    "def loadData(directoryname):\n",
    "    corpus = {}\n",
    "    for file in os.listdir(directoryname):\n",
    "        if file[-5:] == \".html\":\n",
    "            with open(directoryname + file, 'r') as f:\n",
    "                # A completer\n",
    "                doc = f.readlines()\n",
    "                corpus[file] = doc[0]\n",
    "            \n",
    "    return(corpus)"
   ]
  },
  {
   "cell_type": "code",
   "execution_count": 3,
   "metadata": {
    "hidden": true
   },
   "outputs": [],
   "source": [
    "sample_file = \"3dradiology.stanford.edu_patient_care_case_studies.html\"\n",
    "sample_text = \"case studies patient care 3dq radiology laboratory stanford university school of medicine stanford school of medicine 3d and quantitative imaging in the department of radiology search this site only stanford medical sites ways to give find a person alumni lane library ways to give find a person case studies fmd pulmonary avm you are here stanford medicine school of medicine departments radiology 3dq laboratory patient care navigation for this section 3dq laboratory home education research patient care overview for physicians for patients protocol development 3dq management software case studies testimonials industry about us site navigation home education overview visiting fellowships reading list research overview research activities research opportunities patient care overview for physicians for patients protocol development 3dq management software case studies testimonials industry overview infrastructure and services about us faculty and staff history of the lab resources and equipment contact information jobs getting to the 3dq lab stanford medicine resources stanford medicine getting care overview find a physician find a clinical care center stanford hospital & clinics lucile packard children's hospital emergency research overview school of medicine news & resources clinical trials departments institutes & centers faculty profiles education & training overview school of medicine programs admissions continuing medical education alumni lane medical library community overview stanford health library community newsletter volunteering public service & community partnerships renewal & new building projects about us overview news careers ways to give find a person contact us maps & directions the dean's newsletter stanford university footer links contact us directions members only 2009 stanford school of medicine terms of use powered by irt\""
   ]
  },
  {
   "cell_type": "code",
   "execution_count": 4,
   "metadata": {
    "code_folding": [],
    "hidden": true
   },
   "outputs": [
    {
     "name": "stdout",
     "output_type": "stream",
     "text": [
      "case studies patient care 3dq radiology laboratory stanford university school of medicine stanford school of medicine 3d and quantitative imaging in the department of radiology search this site only stanford medical sites ways to give find a person alumni lane library ways to give find a person case studies fmd pulmonary avm you are here stanford medicine school of medicine departments radiology 3dq laboratory patient care navigation for this section 3dq laboratory home education research patient care overview for physicians for patients protocol development 3dq management software case studies testimonials industry about us site navigation home education overview visiting fellowships reading list research overview research activities research opportunities patient care overview for physicians for patients protocol development 3dq management software case studies testimonials industry overview infrastructure and services about us faculty and staff history of the lab resources and equipment contact information jobs getting to the 3dq lab stanford medicine resources stanford medicine getting care overview find a physician find a clinical care center stanford hospital & clinics lucile packard children's hospital emergency research overview school of medicine news & resources clinical trials departments institutes & centers faculty profiles education & training overview school of medicine programs admissions continuing medical education alumni lane medical library community overview stanford health library community newsletter volunteering public service & community partnerships renewal & new building projects about us overview news careers ways to give find a person contact us maps & directions the dean's newsletter stanford university footer links contact us directions members only 2009 stanford school of medicine terms of use powered by irt\n",
      "\n"
     ]
    }
   ],
   "source": [
    "#print(loadData(\"../CS276/pa1-data/0/\")[sample_file])\n",
    "Datas = loadData(\"../CS276/pa1-data/0/\")\n",
    "print(Datas[sample_file])"
   ]
  },
  {
   "cell_type": "markdown",
   "metadata": {
    "heading_collapsed": true,
    "hidden": true
   },
   "source": [
    "## Etape 2 : Extraction du vocabulaire d'indexation"
   ]
  },
  {
   "cell_type": "markdown",
   "metadata": {
    "heading_collapsed": true,
    "hidden": true
   },
   "source": [
    "### 1. Segmentation d'un texte en mots"
   ]
  },
  {
   "cell_type": "markdown",
   "metadata": {
    "hidden": true
   },
   "source": [
    "On segmente les textes. La fonction word_tokenize de NLTK apporte ce qu'il faut. Un raffinement possible aurait été d'éliminer les 's avec une expression régulière par exemple, mais comme ce mot va être éffacé dans la partie filtrage on a décidé de laisser tel quel"
   ]
  },
  {
   "cell_type": "code",
   "execution_count": 5,
   "metadata": {
    "hidden": true
   },
   "outputs": [],
   "source": [
    "import nltk\n",
    "from nltk.tokenize import word_tokenize\n",
    "\n",
    "def article_word_tokenize(text):\n",
    "    if type(text)!= str:\n",
    "        raise Exception(\"The function takes a string as input data\")\n",
    "    else:\n",
    "        # A COMPLETER\n",
    "        tokens = word_tokenize(text)\n",
    "        stops = ['.', ',']\n",
    "        for stop in stops:\n",
    "            while stop in tokens:\n",
    "                del tokens[tokens.index(stop)]\n",
    "        return tokens"
   ]
  },
  {
   "cell_type": "code",
   "execution_count": 6,
   "metadata": {
    "hidden": true,
    "scrolled": true
   },
   "outputs": [
    {
     "name": "stdout",
     "output_type": "stream",
     "text": [
      "['case', 'studies', 'patient', 'care', '3dq', 'radiology', 'laboratory', 'stanford', 'university', 'school', 'of', 'medicine', 'stanford', 'school', 'of', 'medicine', '3d', 'and', 'quantitative', 'imaging', 'in', 'the', 'department', 'of', 'radiology', 'search', 'this', 'site', 'only', 'stanford', 'medical', 'sites', 'ways', 'to', 'give', 'find', 'a', 'person', 'alumni', 'lane', 'library', 'ways', 'to', 'give', 'find', 'a', 'person', 'case', 'studies', 'fmd', 'pulmonary', 'avm', 'you', 'are', 'here', 'stanford', 'medicine', 'school', 'of', 'medicine', 'departments', 'radiology', '3dq', 'laboratory', 'patient', 'care', 'navigation', 'for', 'this', 'section', '3dq', 'laboratory', 'home', 'education', 'research', 'patient', 'care', 'overview', 'for', 'physicians', 'for', 'patients', 'protocol', 'development', '3dq', 'management', 'software', 'case', 'studies', 'testimonials', 'industry', 'about', 'us', 'site', 'navigation', 'home', 'education', 'overview', 'visiting', 'fellowships', 'reading', 'list', 'research', 'overview', 'research', 'activities', 'research', 'opportunities', 'patient', 'care', 'overview', 'for', 'physicians', 'for', 'patients', 'protocol', 'development', '3dq', 'management', 'software', 'case', 'studies', 'testimonials', 'industry', 'overview', 'infrastructure', 'and', 'services', 'about', 'us', 'faculty', 'and', 'staff', 'history', 'of', 'the', 'lab', 'resources', 'and', 'equipment', 'contact', 'information', 'jobs', 'getting', 'to', 'the', '3dq', 'lab', 'stanford', 'medicine', 'resources', 'stanford', 'medicine', 'getting', 'care', 'overview', 'find', 'a', 'physician', 'find', 'a', 'clinical', 'care', 'center', 'stanford', 'hospital', '&', 'clinics', 'lucile', 'packard', 'children', \"'s\", 'hospital', 'emergency', 'research', 'overview', 'school', 'of', 'medicine', 'news', '&', 'resources', 'clinical', 'trials', 'departments', 'institutes', '&', 'centers', 'faculty', 'profiles', 'education', '&', 'training', 'overview', 'school', 'of', 'medicine', 'programs', 'admissions', 'continuing', 'medical', 'education', 'alumni', 'lane', 'medical', 'library', 'community', 'overview', 'stanford', 'health', 'library', 'community', 'newsletter', 'volunteering', 'public', 'service', '&', 'community', 'partnerships', 'renewal', '&', 'new', 'building', 'projects', 'about', 'us', 'overview', 'news', 'careers', 'ways', 'to', 'give', 'find', 'a', 'person', 'contact', 'us', 'maps', '&', 'directions', 'the', 'dean', \"'s\", 'newsletter', 'stanford', 'university', 'footer', 'links', 'contact', 'us', 'directions', 'members', 'only', '2009', 'stanford', 'school', 'of', 'medicine', 'terms', 'of', 'use', 'powered', 'by', 'irt']\n"
     ]
    }
   ],
   "source": [
    "print(article_word_tokenize(Datas[sample_file]))"
   ]
  },
  {
   "cell_type": "markdown",
   "metadata": {
    "heading_collapsed": true,
    "hidden": true
   },
   "source": [
    "### 2. Filtrage des mots vides"
   ]
  },
  {
   "cell_type": "markdown",
   "metadata": {
    "hidden": true
   },
   "source": [
    "On filtre les mots vides du texte en calculant les mots de plus forte occurence. On se rend compte avec la visualisation que les 10 premiers mots les plus courants le sont de très loin comparé au reste qui ont des fréquences d'occurence plus resserées.\n",
    "\n",
    "Au vu du contenu des requetes, qui sont surtout des mots vides tels que 'a', 'the', on a décidé de ne pas supprimer trop de mots vides, sinon l'efficacité de la recherche s'en trouverait affecté, il s'agit ici d'un fine tuning."
   ]
  },
  {
   "cell_type": "code",
   "execution_count": 7,
   "metadata": {
    "hidden": true
   },
   "outputs": [],
   "source": [
    "from collections import Counter\n",
    "%matplotlib inline\n",
    "import collections\n",
    "import matplotlib.pyplot as plt\n",
    "import seaborn as sns\n",
    "import numpy as np\n",
    "\n",
    "\n",
    "def count_frequency(collection):\n",
    "    # A completer\n",
    "    tokens_count = Counter()\n",
    "    for doc in collection.keys():\n",
    "        tokens = collection[doc].split()\n",
    "        tokens_count += Counter(tokens)\n",
    "    return tokens_count\n",
    "\n",
    "def common_word(collection, n):\n",
    "    return count_frequency(collection).most_common(n)\n",
    "\n",
    "def visualize_collection_common(collection, n):\n",
    "    common_words = common_word(collection, n)\n",
    "    corpus_common_words = [word[0] for word in common_words]\n",
    "    corpus_common_counts = [word[1] for word in common_words]\n",
    "    \n",
    "    plt.style.use('dark_background')\n",
    "    plt.figure(figsize=(15, 12))\n",
    "\n",
    "\n",
    "    sns.barplot(x=corpus_common_counts, y=corpus_common_words)\n",
    "    plt.title('Most Common Tokens in the Stanford Corpus');"
   ]
  },
  {
   "cell_type": "code",
   "execution_count": 8,
   "metadata": {
    "hidden": true,
    "scrolled": true
   },
   "outputs": [
    {
     "data": {
      "image/png": "[encoded data removed]",
      "text/plain": [
       "<Figure size 1080x864 with 1 Axes>"
      ]
     },
     "metadata": {},
     "output_type": "display_data"
    }
   ],
   "source": [
    "visualize_collection_common(Datas, 100)"
   ]
  },
  {
   "cell_type": "code",
   "execution_count": 9,
   "metadata": {
    "hidden": true
   },
   "outputs": [],
   "source": [
    "def remove_stop_words(collection, stop_word_file):\n",
    "    # TO COMPLETE\n",
    "    collection_filtered = {}\n",
    "    for doc in collection.keys():\n",
    "        tokens = collection[doc].split()\n",
    "        for stop in stop_word_file:\n",
    "            while stop in tokens:\n",
    "                del tokens[tokens.index(stop)]\n",
    "        tokens = \" \".join(tokens)\n",
    "        collection_filtered[doc] = tokens\n",
    "        \n",
    "    return collection_filtered\n",
    "\n"
   ]
  },
  {
   "cell_type": "code",
   "execution_count": 10,
   "metadata": {
    "hidden": true
   },
   "outputs": [],
   "source": [
    "frequent_words = [word[0] for word in common_word(Datas, 20)]\n",
    "filtered_collection_frequent = remove_stop_words(Datas, frequent_words)\n"
   ]
  },
  {
   "cell_type": "code",
   "execution_count": 11,
   "metadata": {
    "hidden": true,
    "scrolled": false
   },
   "outputs": [
    {
     "data": {
      "image/png": "[encoded data removed]",
      "text/plain": [
       "<Figure size 1080x864 with 1 Axes>"
      ]
     },
     "metadata": {},
     "output_type": "display_data"
    }
   ],
   "source": [
    "visualize_collection_common(filtered_collection_frequent, 25)"
   ]
  },
  {
   "cell_type": "markdown",
   "metadata": {
    "heading_collapsed": true,
    "hidden": true
   },
   "source": [
    "### 3. Normalisation des termes"
   ]
  },
  {
   "cell_type": "markdown",
   "metadata": {
    "hidden": true
   },
   "source": [
    "On normalise les termes a l'aide de la racinisation et la lemmatisation, étape nécessaire pour condenser les mots similaires et obtenir de meilleurs résultats."
   ]
  },
  {
   "cell_type": "code",
   "execution_count": 12,
   "metadata": {
    "hidden": true
   },
   "outputs": [],
   "source": [
    "from nltk.stem import PorterStemmer\n",
    "\n",
    "def collection_stemming(segmented_collection):\n",
    "    stemmer = PorterStemmer () # initialisation d'un stemmer\n",
    "    stemmed_collection = {}\n",
    "    # a completer\n",
    "    for doc in segmented_collection.keys():\n",
    "        tokens = segmented_collection[doc].split(' ')\n",
    "        stemmed_words = [stemmer.stem(word) for word in tokens]\n",
    "        stemmed_string = \" \".join(stemmed_words)\n",
    "        stemmed_collection[doc] = stemmed_string\n",
    "    return stemmed_collection\n",
    "\n",
    "# test sur la collection TIME filtrée des mots vides\n",
    "\n",
    "# a completer\n",
    "stemmed_collection = collection_stemming(filtered_collection_frequent)"
   ]
  },
  {
   "cell_type": "code",
   "execution_count": 13,
   "metadata": {
    "hidden": true,
    "scrolled": true
   },
   "outputs": [
    {
     "data": {
      "image/png": "[encoded data removed]",
      "text/plain": [
       "<Figure size 1080x864 with 1 Axes>"
      ]
     },
     "metadata": {},
     "output_type": "display_data"
    }
   ],
   "source": [
    "visualize_collection_common(stemmed_collection, 25)"
   ]
  },
  {
   "cell_type": "code",
   "execution_count": 14,
   "metadata": {
    "hidden": true
   },
   "outputs": [],
   "source": [
    "from nltk.stem import WordNetLemmatizer\n",
    "\n",
    "def collection_lemmatize(segmented_collection):\n",
    "    stemmer = WordNetLemmatizer () # initialisation d'un lemmatiseur\n",
    "    # a completer\n",
    "    lemmatized_collection = {}\n",
    "    # a completer\n",
    "    for doc in segmented_collection.keys():\n",
    "        tokens = segmented_collection[doc].split(' ')\n",
    "        lemmatized_words = [stemmer.lemmatize(word) for word in tokens]\n",
    "        lemmatized_string = \" \".join(lemmatized_words)\n",
    "        lemmatized_collection[doc] = lemmatized_string\n",
    "    return lemmatized_collection\n",
    "\n",
    "# test sur la collection TIME filtrée des mots vides\n",
    "\n",
    "# a completer\n",
    "lemmatized_collection = collection_lemmatize(stemmed_collection)"
   ]
  },
  {
   "cell_type": "code",
   "execution_count": 15,
   "metadata": {
    "hidden": true,
    "scrolled": true
   },
   "outputs": [
    {
     "data": {
      "image/png": "[encoded data removed]",
      "text/plain": [
       "<Figure size 1080x864 with 1 Axes>"
      ]
     },
     "metadata": {},
     "output_type": "display_data"
    }
   ],
   "source": [
    "visualize_collection_common(lemmatized_collection, 25)"
   ]
  },
  {
   "cell_type": "markdown",
   "metadata": {
    "heading_collapsed": true,
    "hidden": true
   },
   "source": [
    "### 4. Extraction du vocabulaire"
   ]
  },
  {
   "cell_type": "markdown",
   "metadata": {
    "hidden": true
   },
   "source": [
    "On extrait le vocabulaire du corpus."
   ]
  },
  {
   "cell_type": "code",
   "execution_count": 16,
   "metadata": {
    "hidden": true
   },
   "outputs": [],
   "source": [
    "def extract_indexation_vocabulary(processed_collection):\n",
    "    vocabulary = set()\n",
    "    # a completer\n",
    "    for doc in processed_collection.keys():\n",
    "        vocabulary.update(processed_collection[doc].split(\" \"))\n",
    "    return vocabulary"
   ]
  },
  {
   "cell_type": "code",
   "execution_count": 17,
   "metadata": {
    "hidden": true
   },
   "outputs": [],
   "source": [
    "vocabulary_stanford = extract_indexation_vocabulary(lemmatized_collection)"
   ]
  },
  {
   "cell_type": "markdown",
   "metadata": {
    "heading_collapsed": true,
    "hidden": true
   },
   "source": [
    "## Etape 3 : Etude des lois de puissance du corpus"
   ]
  },
  {
   "cell_type": "markdown",
   "metadata": {
    "heading_collapsed": true,
    "hidden": true
   },
   "source": [
    "### 1. Récupération des données"
   ]
  },
  {
   "cell_type": "markdown",
   "metadata": {
    "hidden": true
   },
   "source": [
    "On va dans cette partie calculer les lois de puissances du corpus. Pour commencer on récupère le nombre de mots distincts"
   ]
  },
  {
   "cell_type": "code",
   "execution_count": 18,
   "metadata": {
    "hidden": true
   },
   "outputs": [],
   "source": [
    "def count_tokens(collection):\n",
    "    tokens_count = 0\n",
    "    terms = set()\n",
    "    for text in collection.values():\n",
    "        tokens = article_word_tokenize(text)\n",
    "        terms.update(tokens)\n",
    "    tokens_count = len(terms)\n",
    "    return tokens_count\n",
    "\n",
    "def count_terms(filtered_collection):\n",
    "    terms_count = 0\n",
    "    terms = set()\n",
    "    for text in filtered_collection.values():\n",
    "        tokens = text.split(\" \")\n",
    "        terms.update(tokens)\n",
    "    terms_count = len(terms)\n",
    "    return terms_count"
   ]
  },
  {
   "cell_type": "code",
   "execution_count": 19,
   "metadata": {
    "hidden": true
   },
   "outputs": [
    {
     "name": "stdout",
     "output_type": "stream",
     "text": [
      "36586\n"
     ]
    }
   ],
   "source": [
    "print(count_tokens(Datas))"
   ]
  },
  {
   "cell_type": "code",
   "execution_count": 20,
   "metadata": {
    "hidden": true
   },
   "outputs": [
    {
     "name": "stdout",
     "output_type": "stream",
     "text": [
      "29998\n"
     ]
    }
   ],
   "source": [
    "print(count_terms(lemmatized_collection))"
   ]
  },
  {
   "cell_type": "code",
   "execution_count": 21,
   "metadata": {
    "hidden": true
   },
   "outputs": [
    {
     "name": "stdout",
     "output_type": "stream",
     "text": [
      "25012\n"
     ]
    }
   ],
   "source": [
    "half_corpus = {}\n",
    "i = 1\n",
    "for clef, item in Datas.items():\n",
    "    if i <= len(Datas)/2:\n",
    "        half_corpus[clef] = item\n",
    "        i += 1\n",
    "print(count_tokens(half_corpus))"
   ]
  },
  {
   "cell_type": "code",
   "execution_count": 22,
   "metadata": {
    "hidden": true
   },
   "outputs": [
    {
     "name": "stdout",
     "output_type": "stream",
     "text": [
      "20378\n"
     ]
    }
   ],
   "source": [
    "half_filtered_corpus = {}\n",
    "i = 1\n",
    "for clef, item in lemmatized_collection.items():\n",
    "    if i <= len(lemmatized_collection)/2:\n",
    "        half_filtered_corpus[clef] = item\n",
    "        i += 1\n",
    "print(count_terms(half_filtered_corpus))"
   ]
  },
  {
   "cell_type": "markdown",
   "metadata": {
    "heading_collapsed": true,
    "hidden": true
   },
   "source": [
    "### 2. Calcul de la loi de Heap"
   ]
  },
  {
   "cell_type": "markdown",
   "metadata": {
    "hidden": true
   },
   "source": [
    "Loi de Heap : $$V_{R}(n) = {Kn^\\beta}$$\n",
    "\n",
    "\n",
    "Où VR est le nombre de mots distincts d'une instance de texte de taille n, K et beta sont des parametres empiriques, compris en général respectivement entre 10 et 100 et entre 0,4 et 0,6\n",
    "\n",
    "$$=>\n",
    "\\left\\{\n",
    "\\begin{array}{r c l}\n",
    "V_{R}(n) = {Kn^\\beta}\\\\\n",
    "V_{R}({n\\over 2}) = {K({n \\over 2})^\\beta}\n",
    "\\end{array}\n",
    "\\right.\n",
    "=>\n",
    "{V_{R}(n) \\over V_{R}({n\\over 2})} = 2^\\beta\n",
    "=>\n",
    "\\left\\{\n",
    "\\begin{array}{r c l}\n",
    "\\beta = {log({V_{R}(n) \\over V_{R}({n\\over 2})}) \\over log(2)}\\\\\n",
    "K = {V_{R}(n) \\over n^\\beta}\n",
    "\\end{array}\n",
    "\\right.\n",
    "$$"
   ]
  },
  {
   "cell_type": "code",
   "execution_count": 23,
   "metadata": {
    "hidden": true
   },
   "outputs": [],
   "source": [
    "import math\n",
    "\n",
    "\n",
    "def calcul_Heap(unfiltered_corpus, corpus, demi_corpus):\n",
    "    rang_n = count_terms(corpus)\n",
    "    rang_demi = count_terms(demi_corpus)\n",
    "    beta = math.log(rang_n / rang_demi) / math.log(2)\n",
    "    K = rang_n / count_tokens(Datas) ** beta\n",
    "    return beta, K"
   ]
  },
  {
   "cell_type": "code",
   "execution_count": 24,
   "metadata": {
    "hidden": true
   },
   "outputs": [
    {
     "name": "stdout",
     "output_type": "stream",
     "text": [
      "(0.5578538527830503, 85.3944185172946)\n"
     ]
    }
   ],
   "source": [
    "print(calcul_Heap(Datas, lemmatized_collection, half_filtered_corpus))\n"
   ]
  },
  {
   "cell_type": "markdown",
   "metadata": {
    "heading_collapsed": true,
    "hidden": true
   },
   "source": [
    "### 3. Tracé de la courbe de Zipf"
   ]
  },
  {
   "cell_type": "markdown",
   "metadata": {
    "hidden": true
   },
   "source": [
    "On trace la loi de zipf : la fréquence d'un terme en fonction de son rang\n",
    "On trace également la version logarithmique de la loi de Zipf, car parmi les termes de premiers rangs la variation de fréquence est forte ce qui provoque l'apparition d'un coude. Le tracé logarithmique permet de réduire l'intensité de ce coude, graphiquement."
   ]
  },
  {
   "cell_type": "code",
   "execution_count": 25,
   "metadata": {
    "hidden": true,
    "scrolled": false
   },
   "outputs": [
    {
     "data": {
      "image/png": "[encoded data removed]",
      "text/plain": [
       "<Figure size 720x720 with 1 Axes>"
      ]
     },
     "metadata": {},
     "output_type": "display_data"
    },
    {
     "data": {
      "image/png": "[encoded data removed]",
      "text/plain": [
       "<Figure size 720x720 with 1 Axes>"
      ]
     },
     "metadata": {},
     "output_type": "display_data"
    }
   ],
   "source": [
    "N = count_terms(lemmatized_collection)\n",
    "count = common_word(lemmatized_collection, 30)\n",
    "\n",
    "corpus_frequency = [word[1] / N for word in count]\n",
    "corpus_rank = [i for i in range(1, 31)]\n",
    "\n",
    "plt.figure(figsize=(10,10))\n",
    "plt.plot(corpus_rank, corpus_frequency)\n",
    "plt.title('Zipf curve - f(n)');\n",
    "plt.show()\n",
    "\n",
    "corpus_log_frequency = [math.log(word[1] / N) for word in count]\n",
    "corpus_log_rank = [math.log(i) for i in range(1, 31)]\n",
    "\n",
    "plt.figure(figsize=(10,10))\n",
    "plt.plot(corpus_log_rank, corpus_log_frequency)\n",
    "plt.title('Zipf log curve - log(f)(log(n))');\n",
    "plt.show()"
   ]
  },
  {
   "cell_type": "markdown",
   "metadata": {
    "heading_collapsed": true,
    "hidden": true
   },
   "source": [
    "## Etape 4 : Construction de l'index inversé"
   ]
  },
  {
   "cell_type": "markdown",
   "metadata": {
    "hidden": true
   },
   "source": [
    "Enfin on sauvegarde les données dans des index inversés, de fréquence et de position."
   ]
  },
  {
   "cell_type": "code",
   "execution_count": 26,
   "metadata": {
    "code_folding": [],
    "hidden": true
   },
   "outputs": [],
   "source": [
    "from collections import OrderedDict\n",
    "\n",
    "def build_inverted_index(collection,type_index):\n",
    "    # On considère ici que la collection est pré-traitée\n",
    "    inverted_index=OrderedDict()\n",
    "    if type_index == 1:\n",
    "        for document in collection:\n",
    "            for term in collection[document]:\n",
    "                if term in inverted_index.keys():\n",
    "                    if document not in inverted_index[term]:\n",
    "                        inverted_index[term].append(document)\n",
    "                else:\n",
    "                    inverted_index[term]=[document]\n",
    "    elif type_index ==2:\n",
    "        for document in collection:\n",
    "            for term in collection[document]:\n",
    "                if term in inverted_index.keys():\n",
    "                    if document in inverted_index[term].keys():\n",
    "                        inverted_index[term][document] = inverted_index[term][document] + 1\n",
    "                    else:\n",
    "                        inverted_index[term][document]= 1\n",
    "                else:\n",
    "                    inverted_index[term]=OrderedDict()\n",
    "                    inverted_index[term][document]=1\n",
    "    elif type_index==3:\n",
    "        for document in collection:\n",
    "            n=0\n",
    "            for term in collection[document]:\n",
    "                n = n+1\n",
    "                if term in inverted_index.keys():\n",
    "                    if document in inverted_index[term].keys():\n",
    "                        inverted_index[term][document][0] = inverted_index[term][document][0] + 1\n",
    "                        inverted_index[term][document][1].append(n)\n",
    "                    else:\n",
    "                        inverted_index[term][document]= [1,[n]]\n",
    "                else:\n",
    "                    inverted_index[term]=OrderedDict()\n",
    "                    inverted_index[term][document]=[1,[n]]\n",
    "                    \n",
    "    return inverted_index"
   ]
  },
  {
   "cell_type": "code",
   "execution_count": 27,
   "metadata": {
    "hidden": true
   },
   "outputs": [],
   "source": [
    "lemmatized_tokens = {}\n",
    "for document in lemmatized_collection:\n",
    "    lemmatized_tokens[document] = lemmatized_collection[document].upper().split(\" \")\n",
    "index_inverse = build_inverted_index(lemmatized_tokens, 1)\n",
    "index_frequence = build_inverted_index(lemmatized_tokens, 2)\n",
    "index_position = build_inverted_index(lemmatized_tokens, 3)"
   ]
  },
  {
   "cell_type": "code",
   "execution_count": 28,
   "metadata": {
    "hidden": true
   },
   "outputs": [
    {
     "name": "stdout",
     "output_type": "stream",
     "text": [
      "['cmgm.stanford.edu_pbrown_Lab_member_profiles_Julia_Salzman.html', 'biox.stanford.edu_clark_latombe.html', 'biox.stanford.edu_news_bugle.html', 'crc.stanford.edu_blank.html', 'cee.stanford.edu_current_phd_deg_prog.html', 'cll.stanford.edu_symposia_creativity_schedule.html', 'adl.stanford.edu_people_YoungjunKim.html', 'aero-comlab.stanford.edu_media.html', 'ccrma-mail.stanford.edu_pipermail_stk_2003-July_000111.html', 'cmgm.stanford.edu_tech_br_classes.html', 'ai.stanford.edu_users_sahami_CS2013_documents.html', 'clandininlab.stanford.edu_research.html', 'biochem218.stanford.edu_Homework%252001.html', 'cee.stanford.edu_programs_efmh_seminars_efml_nooners.html', 'biox.stanford.edu_clark_faculty.html', 'aero-comlab.stanford.edu_kasidit_awards_commencementawards2004.html', 'bioengineering.stanford.edu_coulter_chair.html', 'ccrma-mail.stanford.edu_pipermail_planetccrma_2008-November_015167.html', 'asia.stanford.edu_events_Spring04_bios_ladermanBio.html', 'biox.stanford.edu_clark_faculty_p2.html', 'bdml.stanford.edu_twiki_bin_view_Haptics_HapticsForGaitRetraining.html', 'bosp.stanford.edu_publications.html', 'aero-comlab.stanford.edu_jameson_class_notes.html', 'bioengineering.stanford.edu_research_biomeddevice.html', 'brownlab.stanford.edu_Lab_member_profiles_Julia_Salzman.html', 'cneec.stanford.edu_facilities_index.html', 'codex.stanford.edu_poulshock.html', 'ccsb.stanford.edu_about_links.html', 'crgp.stanford.edu_research_simvision_-_benefits.html', 'codex.stanford.edu_contissa.html', 'biox.stanford.edu_clark_guibas.html', 'cmgm.stanford.edu_classes_unix_permissions.html', 'biox.stanford.edu_news_archives_11_Oct.html', 'captology.stanford.edu_about_about-the-lab-1.html', 'ccrma.stanford.edu_planetccrma_mirror_fedora_linux_planetccrma_11_i386_repoview___latest__.group.html', 'cee.stanford.edu_current_phd_qual.html', 'biox.stanford.edu_faculty_affiliates_g.html', 'biox.stanford.edu_clark_batzoglou.html', 'aero.stanford.edu_reports_nonplanarwings_CWingOpt.html', 'bioengineering.stanford.edu_community_relateddepts.html', 'biox.stanford.edu_clark_covert.html', 'adg.stanford.edu_aa241_drag_wbpolar.html', 'adg.stanford.edu_aa241_appendices_atmosphere.html', 'chime.stanford.edu_courses.html', 'aero.stanford.edu_reports_MDO95Slides.html', 'codex.stanford.edu_lee.html', 'cee.stanford.edu_programs_efml_seminars_index.html', 'bmi.stanford.edu_research_featured-research.html', 'aero-comlab.stanford.edu_sichoi_index.html', 'cancerbio.stanford.edu_History_about-cancer-systems.html', 'cmgm.stanford.edu_biochem201_genome.html', 'alumni.gsb.stanford.edu_beacon_faculty.html', 'captology.stanford.edu_about_about-bj-fogg.html', 'cisl.stanford.edu_get_involved_opportunities.html', 'cmgm.stanford.edu_biochem_herschlag_techniques.html', 'crc.stanford.edu_people.html', 'ccrma-mail.stanford.edu_pipermail_planetccrma_2002-October_000311.html', 'biox.stanford.edu_grant_fellows_taylor.html', 'credo.stanford.edu_aboutStaff-Hodges.html', 'andrsn.stanford.edu_FreeBSD_linux.html', 'biox.stanford.edu_grant_iip_about.html', 'cis-old.stanford.edu_news_websites.html', 'bdml.stanford.edu_twiki_bin_view_Main_PortableHapticsSystemSoftware.html', 'chipgen.stanford.edu_researchprojects.html', 'codex.stanford.edu_surden.html', 'aero-comlab.stanford.edu_aa294_talks.html', 'adg.stanford.edu_aa241_drag_SkinFrictionCalc.html', 'biox.stanford.edu_grant_fs_postdoc2009.html', 'cee.stanford.edu_programs_seg_consideringseg_engdeg.html', 'captology.stanford.edu_invisible-resource_design-for-impact.html', 'chime.stanford.edu_contact.html', 'cmgm.stanford.edu_classes_internet_telnet2.html', 'cll.stanford.edu_scla_win00_dom.html', 'biochem218.stanford.edu_Homework%252002.html', 'arith.stanford.edu_news_index.html', 'bioengineering.stanford.edu_education_bioengconc.html', 'biox.stanford.edu_faculty_affiliates_l.html', 'ccsb.stanford.edu_people_admin.html', 'cmgm.stanford.edu_biochem201_internet.html', 'arts0910.stanford.edu_people_grad.html', 'cee.stanford.edu_programs_seg_currentstudents_labstudents.html', 'bejerano.stanford.edu_pi.html', 'codex.stanford.edu_puig.html', 'biox.stanford.edu_clark_boahen.html', 'asia.stanford.edu_events_fall05_bio_OzzieDiaz-Bio.html', 'bmi.stanford.edu_people-directory_exec.html', 'aero.stanford.edu_reports_nonplanarwings_SplitTip.html', 'ccrma-mail.stanford.edu_pipermail_planetccrmanews_2011-June_000138.html', 'bioengineering.stanford.edu_research_biomedimage.html', 'adg.stanford.edu_aa208_appendices_StdAtm.html', 'captology.stanford.edu_projects_behaviordesign.html', 'bermuda.stanford.edu_curricula_FAQ_programming.html', 'bioengineering.stanford.edu_research_facilities.html', 'crgp.stanford.edu_events_industry_frontiers_in_infrastructure_finance.html', 'biox.stanford.edu_grant_fellows_sanghvi.html', 'ai.stanford.edu_users_sahami_CS2013_committee.html', 'adl.stanford.edu_people_purbanczyk.html', 'cis.stanford.edu_events_fall_09_day2.html', 'ai.stanford.edu_people.html', 'biox.stanford.edu_clark_sallisbury.html', 'cbis.stanford.edu_people_seedgrants.html', 'biomath.stanford.edu_research.html', 'archimedes.stanford.edu_press.html', 'archimedes.stanford.edu_intern.html', 'cmgm.stanford.edu_classes_intro_account.html', 'captology.stanford.edu_invisible-resource_human-behavior.html', 'ccrma-mail.stanford.edu_pipermail_cmdist_2007-February_003720.html', 'biochemistry.stanford.edu_research_collaborators.html', 'clinicalinformatics.stanford.edu_research_chartindex.html', 'bioengineering.stanford.edu_community_support.html', 'cee.stanford.edu_programs_archdesign_program_index.html', 'clinicalinformatics.stanford.edu_background.html', 'beyondbitsandatoms.stanford.edu_pastprojects.html', 'biomath.stanford.edu_index.html', 'biox.stanford.edu_grant_fellows_wilt.html', 'adg.stanford.edu_aa208_modeling_rans.html', 'cee.stanford.edu_current_reading_comm.html', 'biochem228.stanford.edu_01HumanGenome.html', 'cpchanglab.stanford.edu_membersindex.html', 'adl.stanford.edu_people_aranake.html', 'biox.stanford.edu_clark_zarins.html', 'aero.stanford.edu_bwbfiles_Cost_CostMods.html', 'adg.stanford.edu_aa241_pass_pass4.html', 'aero-comlab.stanford.edu_andysc_index.html', 'arpes.stanford.edu_inthenews_topological.html', 'bermuda.stanford.edu_gallery_A_timeline.html', 'cee.stanford.edu_current_career.html', 'aero.stanford.edu_adgprojects.html', 'aero.stanford.edu_MapleSeed.html', 'crc.stanford.edu_ejmf_professors.html', 'adg.stanford.edu_aa241_design_exercise1.html', 'bloodcenter.stanford.edu_bcinfo_volunteer.html', 'bioengineering.stanford.edu_community_BioE_news.html', 'cneec.stanford.edu_research_trg3.html', 'adl.stanford.edu_people_ThomasEconomon.html', 'bioengineering.stanford.edu_submission.html', 'camlab.stanford.edu_projects.html', 'cee.stanford.edu_current_phd_minor.html', 'bioengineering.stanford.edu_coulter_aboutus.html', 'codex.stanford.edu_arredondo.html', 'adg.stanford.edu_aa208_fundamentals_finitewings.html', 'credibility.stanford.edu_research.html', 'bucky.stanford.edu_cef97_abstracts_villemeur.html', 'cee.stanford.edu_current_phd_cand.html', 'cmgm.stanford.edu_facilities_br_br_contact.html', 'bermuda.stanford.edu_profDev_index.html', 'biox.stanford.edu_grant_fellows_kalmar.html', 'alumni.gsb.stanford.edu_alumniemail_getready.html', 'aero.stanford.edu_planopt.html', 'crc.stanford.edu_rats-summer07.html', 'clinicalinformatics.stanford.edu_research_clustering.html', 'cee.stanford.edu_programs_efml_index.html', 'cmgm.stanford.edu_contact.html', 'aaalab.stanford.edu_face.html', 'chicory.stanford.edu_satyaki_research_TarProducerConsumer.html', 'biox.stanford.edu_clark_levitt.html', 'biox.stanford.edu_clark_huang.html', 'crc.stanford.edu_rats-fall07.html', 'cee.stanford.edu_current_summer_research.html', 'biox.stanford.edu_clark_deisseroth.html', 'bmi.stanford.edu_biomedical-informatics_history-program.html', 'captology.stanford.edu_invisible-resource_mobile-persuasion-2.html', 'adg.stanford.edu_aa241_highlift_wbclmax.html', 'ai.stanford.edu_users_sahami_CS2013_overview.html', 'biox.stanford.edu_faculty_affiliates_d-f.html', 'cis.stanford.edu_structure_tomorrowprof.html', 'chicory.stanford.edu_PAPERS_dsahoo-fmcad04.html', 'aero-comlab.stanford.edu_georgmay_Tex_node10.html', 'aero.stanford.edu_Lindbergh_old%2520files_intro.html', 'adg.stanford.edu_aa241_pass_pass1.html', 'aaalab.stanford.edu_imagery.html', 'aero-comlab.stanford.edu_psahu_index.html', 'asia.stanford.edu_events_spring05_ee402t_bio_bajajBio.html', 'cee.stanford.edu_programs_efmh_seminars_colloquia2011.html', 'biox.stanford.edu_clark_scheduling_auditorium_policy.html', 'bioengineering.stanford.edu_about_visiting_us.html', 'credibility.stanford.edu_publications.html', 'bosp.stanford.edu_abroad_past_issues.html', 'cmgm.stanford.edu_classes_internet_ftp.html', 'bmi.stanford.edu_research_topic.html', 'aero-comlab.stanford.edu_jameson_lectures.html', 'crc.stanford.edu_ejmf_workshop.html', 'aaalab.stanford.edu_complex.html', 'adg.stanford.edu_aa241_drag_ssdragcalc.html', 'bioengineering.stanford.edu_research_regenmed.html', 'cme.stanford.edu_septris_game_index.html', 'biox.stanford.edu_about_index.html', 'cis-old.stanford.edu_news_glossary.html', 'cee.stanford.edu_current_forms.html', 'cee.stanford.edu_current_orientation.html', 'caan.stanford.edu_compsiy.html', 'changlab.stanford.edu_alumni.html', 'cee.stanford.edu_programs_seg_consideringseg_secourses.html', 'compbio.stanford.edu_links.html', 'ai.stanford.edu_contact.html', 'biox.stanford.edu_grant_fellows_moreno.html', 'adg.stanford.edu_aa241_design_designprocess.html', 'codex.stanford.edu_baine.html', 'cneec.stanford.edu_research_trg2.html', 'biox.stanford.edu_grant_fellows_chang.html', 'bioengineering.stanford.edu_education_graduate.html', 'bioengineering.stanford.edu_coulter_projects.html', 'bejerano.stanford.edu_people.html', 'biox.stanford.edu_faculty_affiliates_m.html', 'cisl.stanford.edu_research_innovation.html', 'camlab.stanford.edu_publications-patents.html', 'cmgm.stanford.edu_software_unix.html', 'biox.stanford.edu_clark_pande.html', 'cee.stanford.edu_programs_seg_consideringseg_msgeo.html', 'adg.stanford.edu_aa241_drag_supersonicdrag.html', 'atbweb.stanford.edu_atb_images_brunger_cv.html', 'crypto.stanford.edu_DRM2002_prog.html', 'biox.stanford.edu_clark_delp.html', 'biochem218.stanford.edu_Homework%252007.html', 'aero.stanford.edu_reports_nonplanarwings_Results.html', 'adg.stanford.edu_aa241_intro_history_birdflight.html', 'biox.stanford.edu_news_2011events_july.html', 'bermuda.stanford.edu_gallery_A_webDesign.html', 'adg.stanford.edu_aa241_drag_parasitedrag.html', 'ccrma-mail.stanford.edu_pipermail_cmdist_2003-September_001185.html', 'asia.stanford.edu_events_spring06_ee402t_bio_chua.html', 'cee.stanford.edu_programs_seg_research_index.html', 'compbio.stanford.edu_research-labs.html', 'boole.stanford.edu_pratt.html', 'arith.stanford.edu_people.html', 'codex.stanford.edu_lai.html', 'cee.stanford.edu_current_coursework.html', 'coursework.stanford.edu_homepage_F11_F11-STATS-367-01.html', 'cis-old.stanford.edu_news_websitessummer.html', 'adg.stanford.edu_aa241_airfoils_panda.html', 'bosp.stanford.edu_orientation_orient_hs_faqs.html', 'adg.stanford.edu_aa241_performance_itakeoff.html', 'cee.stanford.edu_programs_efmh_seminars_index.html', 'bermuda.stanford.edu_gallery_A_buyingCom.html', 'captology.stanford.edu_about_what-is-capatology.html', 'crypto.stanford.edu_TIPPI_third_talks_yahoo.html', 'cmgm.stanford.edu_facilities_index.html', 'archimedes.stanford.edu_what.html', 'codex.stanford.edu_newman.html', 'aero.stanford.edu_Lindbergh_old%2520files_flights.html', 'cmgm3.stanford.edu_csbf_WhatWeDo.html', 'cbis.stanford.edu_events_MIseminar.html', 'arith.stanford.edu_book.html', 'adg.stanford.edu_aa241_assignments_assignment2b.html', 'ai.stanford.edu_users_khatib_contact.html', 'biox.stanford.edu_grant_fellows_wenger.html', 'bioengineering.stanford.edu_community_lifeatstanford.html', 'crc.stanford.edu_rats.html', 'bosp.stanford.edu_capetown_gallery.html', 'cee.stanford.edu_programs_seg_whoweare_students.html', 'cee.stanford.edu_programs_seg_consideringseg_geocourses.html', 'biochem158.stanford.edu_final_papers.html', 'bioengineering.stanford.edu_research_biomedcomp.html', 'biox.stanford.edu_clark_prakash.html', 'biox.stanford.edu_grant_fellows_subsoontorn.html', 'bioengineering.stanford.edu_coulter_tech.html', 'cee.stanford.edu_programs_efmh_students_index.html', 'aero-comlab.stanford.edu_mcmu_publications.html', 'adl.stanford.edu_people_jfike.html', 'asia.stanford.edu_events_fall02_bio_liuBio.html', 'captology.stanford.edu_resources_paper-self-disclosure-via-mobile-messaging.html', 'bosp.stanford.edu_capetown_prog_cal_capetown.html', 'crc.stanford.edu_ejmf_honors.html', 'arith.stanford.edu_ee385b.html', 'chime.stanford.edu_people.html', 'biox.stanford.edu_faculty_affiliates_b.html', 'cbis.stanford.edu_education_residency_programs.html', 'cee.stanford.edu_about_builtEnvi.html', 'captology.stanford.edu_archived-projects_persuasive-visual-stories-for-small-screens.html', 'codex.stanford.edu_rlee.html', 'biocomputing.stanford.edu_application-instructions.html', 'bioengineering.stanford.edu_education_mdphd.html', 'biox.stanford.edu_clark_gambhir.html', 'cis.stanford.edu_icl_icl_research.html', 'captology.stanford.edu_resources_paper-motivating-influencing-and-persuading-users.html', 'biox.stanford.edu_clark_wong.html', 'bosp.stanford.edu_nonstanford_req_procedures.html', 'cee.stanford.edu_programs_seg_contact_index.html', 'cis-old.stanford.edu_news_alphabet.html', 'cee.stanford.edu_admin_forms.html', 'cee.stanford.edu_current_student_orgs.html', 'aero-comlab.stanford.edu_talchum_index.html', 'biox.stanford.edu_clark_altman.html', 'biox.stanford.edu_clark_elias.html', 'biox.stanford.edu_faculty_affiliates_k.html', 'asia.stanford.edu_events_Hitachi_Oct04_bios_toshikazuBio.html', 'adg.stanford.edu_aa241_pass_passopt.html', 'ai.stanford.edu_forms.html', 'biox.stanford.edu_contact_links.html', 'bioengineering.stanford.edu_about_transportation.html', 'aero.stanford.edu_adgnews.html', 'adg.stanford.edu_aa241_wingdesign_winglift.html', 'crypto.stanford.edu_TIPPI_first_boneh.html', 'ccrma.stanford.edu_planetccrma_man_man1_vkeybd.1.html', 'ccrma.stanford.edu_planetccrma_mirror_fedora_linux_planetccrma_10_x86_64_repoview_gmorgan.html', 'aaalab.stanford.edu_teachable.html', 'adg.stanford.edu_aa241_wingdesign_wingdraw.html', 'cee.stanford.edu_programs_seg_research_sustain.html', 'bejerano.stanford.edu_resources.html', 'biox.stanford.edu_courses_list.html', 'biox.stanford.edu_clark_holmes.html', 'contra.stanford.edu_contralign_faq.html', 'adg.stanford.edu_aa241_drag_lsformfactor.html', 'adl.stanford.edu_people_kduraisamy.html', 'arith.stanford.edu_res_html_darpa_radio.html', 'arith.stanford.edu_res_html_bmdo_photonic.html', 'cee.stanford.edu_programs_seg_research_riskreliabilty.html', 'cee.stanford.edu_programs_seg_consideringseg_msse.html', 'ccsb.stanford.edu_people_executive.html', 'biox.stanford.edu_clark_khatib.html', 'biox.stanford.edu_clark_faculty_p3.html', 'adg.stanford.edu_aa241_drag_wettedarea.html', 'adl.stanford.edu_people_elin.html', 'cee.stanford.edu_programs_seg_consideringseg_faq.html', 'cmgm3.stanford.edu_tech_consulting.html', 'biox.stanford.edu_grant_iip_round6.html', 'cmgm.stanford.edu_classes_intro_hardware.html', 'cee.stanford.edu_programs_efml_seminars_efml_nooners.html', 'ccsb.stanford.edu_research_biological.html', 'bejerano.stanford.edu_directions.html', 'artist-registry.stanford.edu_html_Wheye.html', 'bejerano.stanford.edu_press.html', 'bioengineering.stanford.edu_education_courses.html', 'ccsb.stanford.edu_events_biomodclub.html', 'biox.stanford.edu_grant_r2_iip_menon.html', 'bmi.stanford.edu_biomedical-informatics-students_academics_communications-skills.html', 'adg.stanford.edu_aa241_drag_liftwavedrag.html', 'adg.stanford.edu_aa241_airfoils_interactiveaf.html', 'ccrma.stanford.edu_planetccrma_mirror_fedora_linux_planetccrma_12_i386_repoview_fomus.html', 'bosp.stanford.edu_kyoto_links_kyoto.html', 'crc.stanford.edu_BAST_huffman.html', 'compbio.stanford.edu_courses.html', 'aero.stanford.edu_reports_MDO96Slides.html', 'chime.stanford.edu_research.html', 'biox.stanford.edu_grant_fellows_petsche.html', 'bdml.stanford.edu_twiki_bin_view_Haptics_PhotonicRobots.html', 'adg.stanford.edu_aa241_assignments_sweeptcandcd.html', 'ccrma.stanford.edu_planetccrma_mirror_fedora_linux_planetccrma_13_i386_repoview_jacktrip.html', 'captology.stanford.edu_projects_psychology-of-facebook.html', 'ai.stanford.edu_links.html', 'chicory.stanford.edu_PAPERS_TD06.html', 'ccrma-mail.stanford.edu_pipermail_stk_2005-November_000251.html', 'cee.stanford.edu_about_atmoEnergy.html', 'contra.stanford.edu_contrafold_raf.html', 'bioengineering.stanford.edu_faculty_boahen.html', 'beckman.stanford.edu_facilities.html', 'archimedes.stanford.edu_research_associate.html', 'adg.stanford.edu_aa208_fundamentals_aerofun.html', 'ccrma-mail.stanford.edu_pipermail_ccrmatest_1997-November_000479.html', 'crc.stanford.edu_ejmf_donors.html', 'cbis.stanford.edu_education_graduate_TGs.html', 'captology.stanford.edu_projects_archived-projects.html', 'asia.stanford.edu_events_Hitachi_Oct04_bios_shunzoBio.html', 'adg.stanford.edu_aa208_assignment4.html', 'bioengineering.stanford.edu_research_cellmoleeng.html', 'ai.stanford.edu_meetings.html', 'cmgm.stanford.edu_classes_unix_UNIX2.html', 'bosp.stanford.edu_capetown_links_capetown.html', 'ccrma-mail.stanford.edu_pipermail_planetccrma_2007-October_013891.html', 'crc.stanford.edu_courses.html', 'cisl.stanford.edu_what_is_sim_modalities_desktop_sim.html', 'bejerano.stanford.edu_openings.html', 'chicory.stanford.edu_satyaki_research_PredicateAbstraction.html', 'bdml.stanford.edu_twiki_bin_view_Haptics_MotionDisplayKAUST.html', 'codex.stanford.edu_kahana.html', 'aero-comlab.stanford.edu_mcmu_index.html', 'codex.stanford.edu_people.html', 'biox.stanford.edu_grant_fellows_meltzer.html', 'ai.stanford.edu_users_sahami_CS2013_commenting.html', 'bejerano.stanford.edu_protocols.html', 'aero.stanford.edu_wingcalc.html', 'biox.stanford.edu_faculty_affiliates_s.html', 'crgp.stanford.edu_news_global_projects_finally_a_definition_of_globalization_that_we_can_all_understand_.html', 'aero-comlab.stanford.edu_jameson_recent_presentations.html', 'biox.stanford.edu_grant_fs_grad_0708.html', 'bioengineering.stanford.edu_about_history.html', 'bioengineering.stanford.edu_education_phd.html', 'cll.stanford.edu_scla_win98_folke.html', 'captology.stanford.edu_teaching_about-teaching.html', 'cee.stanford.edu_programs_seg_research_enginfo.html', 'cm-mail.stanford.edu_pipermail_422_2010-February_000018.html', 'comptop.stanford.edu_programs_plex.html', 'biox.stanford.edu_grant_fellows_lau.html', 'cmgm.stanford.edu_csbf_contact2.html', 'adg.stanford.edu_aa241_stability_stabilitycalc.html', 'crc.stanford.edu_ejmf_ejm.html', 'biomath.stanford.edu_oligo_bar_code_tag_sequences.html', 'biox.stanford.edu_news_archives_04_oct.html', 'biox.stanford.edu_clark_schnitzer.html', 'biox.stanford.edu_clark_newsome.html', 'cmgm.stanford.edu_biochem_harbury_research.html', 'aaalab.stanford.edu_child_development_dev_reasoning.html', 'ccrma.stanford.edu_planetccrma_man_man1_gtk-config.1.html', 'bosp.stanford.edu_upcoming_events.html', 'cee.stanford.edu_current_oral_exam.html', 'cee.stanford.edu_faculty_faculty_positions.html', 'aero.stanford.edu_stdatm.html', 'beckman.stanford.edu_services.html', 'codex.stanford.edu_gunst.html', 'crc.stanford.edu_users_saxena_welcome.html', 'biox.stanford.edu_grant_fellows_saatchi.html', 'collectives.stanford.edu_Library_index.html', 'biox.stanford.edu_grant_fs_grad_0506.html', 'biox.stanford.edu_grant_fs_grad_0607.html', 'cmgm.stanford.edu_biochem_herschlag_members.html', 'cheme.stanford.edu_faculty_nanotech.html', 'ccrma-mail.stanford.edu_pipermail_planetccrma_2010-May_016897.html', 'coursework.stanford.edu_homepage_W09_W09-PSYCH-206-01.html', 'cee.stanford.edu_current_diss_prep.html', 'adminguide.stanford.edu_ch6contents.html', 'bioengineering.stanford.edu_about_directions.html', 'collectives.stanford.edu_CDoCS03_index.html', 'biox.stanford.edu_faculty_affiliates_n-q.html', 'ccrma-mail.stanford.edu_pipermail_planetccrma_2005-October_010547.html', 'biox.stanford.edu_grant_fellows_asimenos.html', 'biox.stanford.edu_faculty_affiliates_a.html', 'clandininlab.stanford.edu_behavior.html', 'archimedes.stanford.edu_aarti.html', 'cee.stanford.edu_sitemap.html', 'biox.stanford.edu_grant_fellows_yang.html', 'aero-comlab.stanford.edu_jameson_boeing.html', 'ccrma.stanford.edu_planetccrma_software_planetology.html', 'aaalab.stanford.edu_imagery_im_complex.html', 'bootheprize.stanford.edu_0708_index.html', 'biox.stanford.edu_grant_fellows_camarillo.html', 'bdml.stanford.edu_twiki_bin_view_Haptics_ThePortableLowcostHapticDevice.html', 'bioengineering.stanford.edu_about_contact.html', 'bioengineering.stanford.edu_patient_care_translation.html', 'aero.stanford.edu_reports_MDO94Slides.html', 'biox.stanford.edu_grant_fellows_afshar.html', 'aero-comlab.stanford.edu_jxyao_publication.html', 'cmgm.stanford.edu_theriot_people.html', 'biochemistry.stanford.edu_education_admissions.html', 'aero.stanford.edu_MDO.html', 'biox.stanford.edu_faculty_faculty_affiliates_depts.html', 'codex.stanford.edu_dolin.html', 'codex.stanford.edu_cahan.html', 'bioengineering.stanford.edu_faculty_searches.html', 'cmgm.stanford.edu_search.html', 'ccrma-mail.stanford.edu_pipermail_planetccrma_2005-January_007455.html', 'cbis.stanford.edu_about_SeedGrants.html', 'adminguide.stanford.edu_tips.html']\n"
     ]
    }
   ],
   "source": [
    "print(index_inverse[\"COMPUT\"])"
   ]
  },
  {
   "cell_type": "code",
   "execution_count": 29,
   "metadata": {
    "code_folding": [],
    "hidden": true
   },
   "outputs": [],
   "source": [
    "import pickle\n",
    "\n",
    "# Ecriture sur disque\n",
    "def save_inverted_index_pickle(inverted_index, filename):\n",
    "     with open(filename, \"wb\") as f:\n",
    "            pickle.dump(inverted_index,f)\n",
    "            f.close()\n",
    "    \n",
    "\n",
    "# Chargement\n",
    "\n",
    "def load_inverted_index_pickle(filename):\n",
    "    with open(filename, 'rb') as fb:\n",
    "        index = pickle.load(fb)\n",
    "        return index"
   ]
  },
  {
   "cell_type": "code",
   "execution_count": 30,
   "metadata": {
    "hidden": true
   },
   "outputs": [],
   "source": [
    "save_inverted_index_pickle(index_inverse, 'inverted_index.pickle')\n",
    "save_inverted_index_pickle(index_frequence, 'inverted_frequency.pickle')\n",
    "save_inverted_index_pickle(index_position, 'inverted_position.pickle')"
   ]
  },
  {
   "cell_type": "markdown",
   "metadata": {
    "heading_collapsed": true
   },
   "source": [
    "# Modèle"
   ]
  },
  {
   "cell_type": "markdown",
   "metadata": {
    "heading_collapsed": true,
    "hidden": true
   },
   "source": [
    "## Modèle Booléen"
   ]
  },
  {
   "cell_type": "markdown",
   "metadata": {
    "hidden": true
   },
   "source": [
    "On construit le modèle derecherche Booléen"
   ]
  },
  {
   "cell_type": "code",
   "execution_count": 31,
   "metadata": {
    "hidden": true
   },
   "outputs": [],
   "source": [
    "from tt import BooleanExpression\n",
    "\n",
    "\n",
    "def transformation_query_to_postfixe(query):\n",
    "    b = BooleanExpression(query)\n",
    "    return b.postfix_tokens"
   ]
  },
  {
   "cell_type": "code",
   "execution_count": 32,
   "metadata": {
    "hidden": true
   },
   "outputs": [],
   "source": [
    "def transformation_lem_query_to_boolean(query):\n",
    "    boolean_query=[]\n",
    "    for token in query:\n",
    "        boolean_query.append(token)\n",
    "        boolean_query.append('AND')\n",
    "    boolean_query.pop()\n",
    "    return boolean_query"
   ]
  },
  {
   "cell_type": "code",
   "execution_count": 33,
   "metadata": {
    "hidden": true
   },
   "outputs": [],
   "source": [
    "def merge_and_postings_list(posting_term1,posting_term2):\n",
    "    result=[]\n",
    "    n = len(posting_term1)\n",
    "    m = len(posting_term2)\n",
    "    i = 0\n",
    "    j = 0\n",
    "    while i < n and j <m:\n",
    "        if posting_term1[i] == posting_term2[j]:\n",
    "            result.append(posting_term1[i])\n",
    "            i = i+1\n",
    "            j = j+1\n",
    "        else:\n",
    "            if posting_term1[i] < posting_term2[j]:\n",
    "                i = i+1\n",
    "            else:\n",
    "                j=j+1\n",
    "    return result"
   ]
  },
  {
   "cell_type": "code",
   "execution_count": 34,
   "metadata": {
    "hidden": true
   },
   "outputs": [],
   "source": [
    "def boolean_operator_processing_with_inverted_index(BoolOperator,posting_term1,posting_term2):\n",
    "    result=[]\n",
    "    if BoolOperator == \"AND\":\n",
    "        result.append(merge_and_postings_list(posting_term1,posting_term2))\n",
    "    elif BoolOperator==\"OR\" :\n",
    "        result.append(merge_or_postings_list(posting_term1,posting_term2))\n",
    "    elif BoolOperator == \"NOT\":\n",
    "        result.append(merge_and_not_postings_list(posting_term1,posting_term2))\n",
    "    return result"
   ]
  },
  {
   "cell_type": "code",
   "execution_count": 35,
   "metadata": {
    "hidden": true
   },
   "outputs": [],
   "source": [
    "def processing_boolean_query_with_inverted_index(booleanOperator,query, inverted_index):\n",
    "    relevant_docs = {}\n",
    "    evaluation_stack = []\n",
    "    for i, term in enumerate(query):\n",
    "        if term.upper() not in booleanOperator:\n",
    "            evaluation_stack.append(inverted_index[term.upper()])\n",
    "        else:\n",
    "            if term.upper() == \"NOT\":\n",
    "                operande = evaluation_stack.pop()\n",
    "                eval_prop = boolean_operator_processing_with_inverted_index(term.upper(), evaluation_stack.pop(), operande)\n",
    "                evaluation_stack.append(eval_prop[0])\n",
    "                evaluation_stack.append(eval_prop[0])\n",
    "            else:\n",
    "                operator = term.upper()\n",
    "                eval_prop = boolean_operator_processing_with_inverted_index(operator, evaluation_stack.pop(), query[i+1])\n",
    "                evaluation_stack.append(eval_prop[0])\n",
    "    return  evaluation_stack.pop()"
   ]
  },
  {
   "cell_type": "markdown",
   "metadata": {
    "heading_collapsed": true,
    "hidden": true
   },
   "source": [
    "## Modèle Vectoriel"
   ]
  },
  {
   "cell_type": "markdown",
   "metadata": {
    "hidden": true
   },
   "source": [
    "On construit le modèle de recherche Vectoriel"
   ]
  },
  {
   "cell_type": "code",
   "execution_count": 129,
   "metadata": {
    "hidden": true
   },
   "outputs": [],
   "source": [
    "from math import log\n",
    "\n",
    "def get_tf(term,doc_ID,index_frequence):\n",
    "    return index_frequence[term][doc_ID]\n",
    "\n",
    "def get_tf_logarithme_normalise(term,doc_ID, index_frequence,stats_collection):\n",
    "        tf = get_tf(term,doc_ID, index_frequence)\n",
    "        tf_logarithme_normalise = (1 +log(tf))/(1 + log(stats_collection[term][\"freq_moy\"]))\n",
    "        return tf_logarithme_normalise\n",
    "\n",
    "\n",
    "def get_idf(term,index_frequence,nb_doc):\n",
    "    return log(nb_doc/len(index_frequence[term].keys()))\n",
    "\n",
    "def get_tf_normalise(term, doc_ID, index_frequence, stats_collection):\n",
    "    tf = get_tf(term, doc_ID, index_frequence)\n",
    "    tf_normalise = 0.5 + 0.5 * (tf / stats_collection[term][\"freq_max\"])\n",
    "    return tf_normalise"
   ]
  },
  {
   "cell_type": "code",
   "execution_count": 37,
   "metadata": {
    "hidden": true
   },
   "outputs": [],
   "source": [
    "def get_stats_document(document):\n",
    "    counter= Counter()\n",
    "    for term in document:\n",
    "        counter.update([term])\n",
    "    stats={}\n",
    "    stats[\"freq_max\"] = counter.most_common(1)[0][1]\n",
    "    stats[\"unique_terms\"] = len(counter.items())\n",
    "    tf_moy = sum(counter.values())\n",
    "    stats[\"freq_moy\"] = tf_moy/len(counter.items())\n",
    "    return stats"
   ]
  },
  {
   "cell_type": "code",
   "execution_count": 38,
   "metadata": {
    "hidden": true
   },
   "outputs": [],
   "source": [
    "def get_stats_collection(collection):\n",
    "    stats={}\n",
    "    stats[\"nb_docs\"]=len(collection.keys())\n",
    "    for doc in collection:\n",
    "        stats[doc] = get_stats_document(collection[doc])\n",
    "    return stats"
   ]
  },
  {
   "cell_type": "code",
   "execution_count": 39,
   "metadata": {
    "hidden": true
   },
   "outputs": [],
   "source": [
    "def remove_non_index_term(query,inverted_index):\n",
    "    query_filt=[]\n",
    "    for token in query:\n",
    "        if token in inverted_index:\n",
    "            query_filt.append(token)\n",
    "    return query_filt"
   ]
  },
  {
   "cell_type": "code",
   "execution_count": 40,
   "metadata": {
    "hidden": true
   },
   "outputs": [],
   "source": [
    "def pre_processed_query(query,inverted_index):\n",
    "    tokenized_query = article_word_tokenize(query)\n",
    "    filt_query = remove_non_index_term(tokenized_query,inverted_index)\n",
    "    filtered_query = remove_stop_words({\"query\":\" \".join(filt_query)},frequent_words)\n",
    "    normalized_query = collection_lemmatize(filtered_query)\n",
    "    return normalized_query[\"query\"]"
   ]
  },
  {
   "cell_type": "code",
   "execution_count": 133,
   "metadata": {
    "hidden": true
   },
   "outputs": [],
   "source": [
    "def processing_vectorial_query(query, inverted_index, stats_collection, weighting_scheme_document,weighting_scheme_query, frequency_index=index_frequence):\n",
    "    relevant_docs = {}\n",
    "    counter_query= Counter()\n",
    "    query_pre_processed = pre_processed_query(query.upper(),inverted_index)\n",
    "    nb_doc = stats_collection[\"nb_docs\"]\n",
    "    norm_query=0.\n",
    "    for term in query_pre_processed:\n",
    "        if term in inverted_index:\n",
    "            w_term_query=0.\n",
    "            counter_query.update([term])\n",
    "            if weighting_scheme_query==\"binary\":\n",
    "                w_term_query = 1\n",
    "            if weighting_scheme_query==\"frequency\":\n",
    "                w_term_query = counter_query[term]\n",
    "            norm_query = norm_query + w_term_query*w_term_query\n",
    "            for doc in inverted_index[term]:\n",
    "                w_term_doc = 0.\n",
    "                relevant_docs[doc]=0.\n",
    "                if weighting_scheme_document==\"binary\":\n",
    "                    w_term_doc=1\n",
    "                if weighting_scheme_document==\"frequency\":\n",
    "                    w_term_doc = get_tf(term,doc,frequency_index)\n",
    "                if weighting_scheme_document==\"tf_idf_normalize\":\n",
    "                    w_term_doc = get_tf_normalise(term,doc, frequency_index,stats_collection)*get_idf(term,frequency_index,nb_doc)\n",
    "                if weighting_scheme_document==\"tf_idf_logarithmic\":\n",
    "                    w_term_doc = get_tf_logarithmique (term,doc, frequency_index)*get_idf(term,frequency_index,nb_doc)\n",
    "                if weighting_scheme_document==\"tf_idf_logarithmic_normalize\":\n",
    "                    w_term_doc = get_tf_logarithme_normalise (term,doc, frequency_index,stats_collection)*get_idf(term,frequency_index,nb_doc)\n",
    "                relevant_docs[doc] = relevant_docs[doc] + w_term_doc*w_term_query\n",
    "    ordered_relevant_docs = OrderedDict(sorted(relevant_docs.items(), key=lambda t: t[1], reverse=True))\n",
    "    return ordered_relevant_docs"
   ]
  },
  {
   "cell_type": "code",
   "execution_count": 127,
   "metadata": {
    "hidden": true
   },
   "outputs": [],
   "source": [
    "stat_of_collection = get_stats_collection(index_document)"
   ]
  },
  {
   "cell_type": "markdown",
   "metadata": {
    "heading_collapsed": true
   },
   "source": [
    "# Evaluation"
   ]
  },
  {
   "cell_type": "markdown",
   "metadata": {
    "heading_collapsed": true,
    "hidden": true
   },
   "source": [
    "## Récupération des données"
   ]
  },
  {
   "cell_type": "markdown",
   "metadata": {
    "hidden": true
   },
   "source": [
    "On commence par récupérer les données que l'on a filtré précédemment. Les jugements de pertinences utiles pour la réalisation de ces modèles seront les résultats d'output de query qui nous sont fournis."
   ]
  },
  {
   "cell_type": "code",
   "execution_count": 44,
   "metadata": {
    "hidden": true
   },
   "outputs": [],
   "source": [
    "index_document = load_inverted_index_pickle(\"inverted_index.pickle\")\n",
    "index_frequence = load_inverted_index_pickle(\"inverted_frequency.pickle\")\n",
    "index_position = load_inverted_index_pickle(\"inverted_position.pickle\")"
   ]
  },
  {
   "cell_type": "code",
   "execution_count": 45,
   "metadata": {
    "hidden": true
   },
   "outputs": [],
   "source": [
    "def load_relevance_judgments(filename, requests):\n",
    "    relevance_judgments = {}\n",
    "    # A completer\n",
    "    with open(filename) as f:\n",
    "        doc = f.readlines()\n",
    "        for request in requests:\n",
    "            relevance_judgments[request] = []\n",
    "            for line in doc:\n",
    "                if line[0] == str(0):\n",
    "                    relevance_judgments[request].append(line[2:].rstrip('\\n'))\n",
    "    return relevance_judgments\n",
    "\n",
    "def traitement(requetes):\n",
    "    requetes_tokenize = {}\n",
    "    for request in requetes:\n",
    "        requetes_tokenize[request] = \" \".join(article_word_tokenize(requetes[request]))\n",
    "    stop_words = frequent_words\n",
    "    requetes_stop = remove_stop_words(requetes_tokenize, stop_words)\n",
    "    requetes_lemmatize = collection_stemming(requetes_stop)\n",
    "    traites = collection_lemmatize(requetes_lemmatize)\n",
    "    return traites"
   ]
  },
  {
   "cell_type": "code",
   "execution_count": 53,
   "metadata": {
    "code_folding": [],
    "hidden": true
   },
   "outputs": [],
   "source": [
    "with open(\"../CS276/Queries/dev_queries/query.8\") as f:\n",
    "    requests = {}\n",
    "    requests[0] = f.read()\n",
    "\n",
    "traite = traitement(requests)\n",
    "\n",
    "relevance_judgments = load_relevance_judgments('../CS276/Queries/dev_output/8.out', requests)"
   ]
  },
  {
   "cell_type": "code",
   "execution_count": 54,
   "metadata": {
    "hidden": true
   },
   "outputs": [],
   "source": [
    "vocabulary = {doc for doc in list(index_document.keys())}"
   ]
  },
  {
   "cell_type": "code",
   "execution_count": 55,
   "metadata": {
    "hidden": true
   },
   "outputs": [
    {
     "data": {
      "text/plain": [
       "{0: ['aa.stanford.edu_events_50thAnniversary_program.php',\n",
       "  'aa.stanford.edu_news_marcoPavoneAppointed.php',\n",
       "  'aa.stanford.edu_students_media_graduates_grads2008_James_Diebel.pdf',\n",
       "  'aaalab.stanford.edu_child_development_dev_reasoning.html',\n",
       "  'aaalab.stanford.edu_teachable.html',\n",
       "  'aagsa.stanford.edu_event_microsoft-speaker-asians-workplace',\n",
       "  'acomp.stanford.edu_printing',\n",
       "  'adl.stanford.edu_people_YoungjunKim.html',\n",
       "  'aero-comlab.stanford.edu_jameson_',\n",
       "  'aero-comlab.stanford.edu_sichoi_index.html',\n",
       "  'aero.stanford.edu_Lindbergh_old%2520files_intro.html',\n",
       "  'ai.stanford.edu_contact.html',\n",
       "  'ai.stanford.edu_forms.html',\n",
       "  'ai.stanford.edu_links.html',\n",
       "  'ai.stanford.edu_meetings.html',\n",
       "  'ai.stanford.edu_people.html',\n",
       "  'ai.stanford.edu_users_sahami_CS2013_CS2013-1-pager.pdf',\n",
       "  'ai.stanford.edu_users_sahami_CS2013_committee.html',\n",
       "  'aims.stanford.edu_images_speakers_11-30-11_papadopoulos_papadopoulos.pdf',\n",
       "  'alumni.stanford.edu_get_page_enews_feb-2012',\n",
       "  'alumni.stanford.edu_get_page_enews_quickstudies',\n",
       "  'answers.stanford.edu_solution_can-i-use-my-spectralink-pocket-telephone-outside-medical-center',\n",
       "  'answers.stanford.edu_solution_report-hardware-failure-or-system-problem-farmshare-system-or-engineering-lab-computer',\n",
       "  'answers.stanford.edu_solution_what-pocket-telephone',\n",
       "  'aparc.stanford.edu_news_inaugural_sprie_graduate_research_fellows_selected_20050308',\n",
       "  'aparc.stanford.edu_people_heatherahn',\n",
       "  'arith.stanford.edu_book.html',\n",
       "  'arith.stanford.edu_people.html',\n",
       "  'arpes.stanford.edu_inthenews_topological.html',\n",
       "  'art.stanford.edu_profile_John%2bEdmark_',\n",
       "  'arts.stanford.edu_facultystaff_findastudent',\n",
       "  'arts.stanford.edu_gallery_2008_slork-stanford-laptop-orchestra',\n",
       "  'arts.stanford.edu_gallery_2010_slsq-chamber-music-seminar-2010',\n",
       "  'arts.stanford.edu_gallery_2011_graduate-fellows-arts',\n",
       "  'arts.stanford.edu_students_majoring',\n",
       "  'arts0910.stanford.edu_people_grad.html',\n",
       "  'asia.stanford.edu_events_fall02_bio_liuBio.html',\n",
       "  'asia.stanford.edu_events_fall05_bio_OzzieDiaz-Bio.html',\n",
       "  'asia.stanford.edu_events_fall05_bio_YoshiakiMotoyama-Bio.htm',\n",
       "  'asia.stanford.edu_events_spring05_ee402t_bio_bajajBio.html',\n",
       "  'asia.stanford.edu_events_spring06_ee402t_bio_chua.html',\n",
       "  'atbweb.stanford.edu_atb_images_brunger_cv.html',\n",
       "  'bcats.stanford.edu_previous_bcats_bcats00_bcats-poster.ps',\n",
       "  'bdml.stanford.edu_',\n",
       "  'bdml.stanford.edu_twiki_bin_view_Haptics_MotionDisplayKAUST.html',\n",
       "  'beckman.stanford.edu_services.html',\n",
       "  'bejerano.stanford.edu_',\n",
       "  'bejerano.stanford.edu_directions.html',\n",
       "  'bejerano.stanford.edu_openings.html',\n",
       "  'bejerano.stanford.edu_people.html',\n",
       "  'bejerano.stanford.edu_pi.html',\n",
       "  'bejerano.stanford.edu_press.html',\n",
       "  'bejerano.stanford.edu_protocols.html',\n",
       "  'bejerano.stanford.edu_resources.html',\n",
       "  'bermuda.stanford.edu_',\n",
       "  'biocomp.stanford.edu_ngi_',\n",
       "  'biocomputing.stanford.edu_',\n",
       "  'bioengineering.stanford.edu_community_relateddepts.html',\n",
       "  'bioengineering.stanford.edu_faculty_boahen.html',\n",
       "  'biology.stanford.edu_research-sites',\n",
       "  'biology.stanford.edu_sites_all_files_MS_Checklist.pdf',\n",
       "  'biox.stanford.edu_about_index.html',\n",
       "  'biox.stanford.edu_clark_altman.html',\n",
       "  'biox.stanford.edu_clark_batzoglou.html',\n",
       "  'biox.stanford.edu_clark_boahen.html',\n",
       "  'biox.stanford.edu_clark_faculty.html',\n",
       "  'biox.stanford.edu_clark_faculty_p2.html',\n",
       "  'biox.stanford.edu_clark_faculty_p3.html',\n",
       "  'biox.stanford.edu_clark_guibas.html',\n",
       "  'biox.stanford.edu_clark_khatib.html',\n",
       "  'biox.stanford.edu_clark_latombe.html',\n",
       "  'biox.stanford.edu_clark_levitt.html',\n",
       "  'biox.stanford.edu_clark_pande.html',\n",
       "  'biox.stanford.edu_clark_sallisbury.html',\n",
       "  'biox.stanford.edu_faculty_affiliates_l.html',\n",
       "  'biox.stanford.edu_faculty_faculty_affiliates_depts.html',\n",
       "  'biox.stanford.edu_grant_fellows_asimenos.html',\n",
       "  'biox.stanford.edu_grant_fellows_camarillo.html',\n",
       "  'biox.stanford.edu_grant_fellows_lau.html',\n",
       "  'biox.stanford.edu_grant_fellows_meltzer.html',\n",
       "  'biox.stanford.edu_grant_fellows_wenger.html',\n",
       "  'biox.stanford.edu_grant_fellows_wilt.html',\n",
       "  'biox.stanford.edu_grant_fs_grad_0506.html',\n",
       "  'biox.stanford.edu_grant_fs_grad_0607.html',\n",
       "  'biox.stanford.edu_grant_fs_grad_0708.html',\n",
       "  'biox.stanford.edu_grant_iip_about.html',\n",
       "  'biox.stanford.edu_grant_iip_round6.html',\n",
       "  'biox.stanford.edu_grant_pdf_BioX_Fellowship_2012_announcement.pdf',\n",
       "  'biox.stanford.edu_grant_pdf_R6_Request_for_letters.pdf',\n",
       "  'biox.stanford.edu_news_2011events_july.html',\n",
       "  'biox.stanford.edu_news_pdfs_IIP_Symp_Flyer_Feb2012.pdf',\n",
       "  'birds.stanford.edu_',\n",
       "  'blogs.law.stanford.edu_robotics_2012_03_16_technological-rationality-the-logos-of-slavery-or-the-enabler-of-humane-progress_',\n",
       "  'blogs.law.stanford.edu_robotics_people_',\n",
       "  'blume.stanford.edu_john-blume-distinguished-lecture_isogeometric-analysis',\n",
       "  'bmc.stanford.edu_',\n",
       "  'bmi.stanford.edu_biomedical-informatics_',\n",
       "  'bmi.stanford.edu_biomedical-informatics_history-program.html',\n",
       "  'bmi.stanford.edu_people-directory_exec.html',\n",
       "  'bmi.stanford.edu_stanford-undergraduates_',\n",
       "  'bmir.stanford.edu_pages_view.php_biomedical_and_computing_websites',\n",
       "  'bmir.stanford.edu_pages_view.php_butte_nlm_grant',\n",
       "  'bmir.stanford.edu_pages_view.php_faculty',\n",
       "  'bmir.stanford.edu_pages_view.php_faculty_searches',\n",
       "  'bmir.stanford.edu_pages_view.php_local_organizations_with_relationships_to_stanford_medical_informatics',\n",
       "  'bmir.stanford.edu_pages_view.php_national_center_for_biomedical_ontology_ncbo_receives_funding_through_2015',\n",
       "  'bmir.stanford.edu_people_',\n",
       "  'bmir.stanford.edu_people_view.php_daniel_g_bobrow',\n",
       "  'bmir.stanford.edu_people_view.php_mark_a_musen_',\n",
       "  'bmir.stanford.edu_people_view.php_russ_b_altman',\n",
       "  'bmir.stanford.edu_people_view.php_susana_b_martins',\n",
       "  'bmir.stanford.edu_people_view.php_timothy_redmond',\n",
       "  'bmir.stanford.edu_projects_view.php_epoch_das_lab',\n",
       "  'bmir.stanford.edu_publications_by_author.php_john_koza',\n",
       "  'boole.stanford.edu_pratt.html',\n",
       "  'boole.stanford.edu_thumbcode_',\n",
       "  'cancerbio.stanford.edu_Application_',\n",
       "  'cancerbio.stanford.edu_History_about-cancer-systems.html',\n",
       "  'captology.stanford.edu_teaching_about-teaching.html',\n",
       "  'cbis.stanford.edu_education_residency_programs.html',\n",
       "  'cbis.stanford.edu_events_MIseminar.html',\n",
       "  'cbis.stanford.edu_symposium_',\n",
       "  'ccsb.stanford.edu_events_biomodclub.html',\n",
       "  'cdd.stanford.edu_polls_btp_2007_',\n",
       "  'cddrl.stanford.edu_events_3_8_2012',\n",
       "  'cddrl.stanford.edu_events_7016',\n",
       "  'cee.stanford.edu_',\n",
       "  'cee.stanford.edu_about_atmoEnergy.html',\n",
       "  'cee.stanford.edu_current_orientation.html',\n",
       "  'cee.stanford.edu_current_phd_qual.html',\n",
       "  'cee.stanford.edu_programs_archdesign_program_index.html',\n",
       "  'cee.stanford.edu_programs_construction_documents_KumagaiAward.pdf',\n",
       "  'cee.stanford.edu_programs_efmh_',\n",
       "  'cee.stanford.edu_programs_efmh_seminars_colloquia2011.html',\n",
       "  'cee.stanford.edu_programs_efmh_seminars_efml_nooners.html',\n",
       "  'cee.stanford.edu_programs_efmh_seminars_index.html',\n",
       "  'cee.stanford.edu_programs_efmh_students_index.html',\n",
       "  'cee.stanford.edu_programs_efml_seminars_efml_nooners.html',\n",
       "  'cee.stanford.edu_programs_efml_seminars_index.html',\n",
       "  'cee.stanford.edu_programs_seg_consideringseg_msgeo.html',\n",
       "  'cee.stanford.edu_programs_seg_consideringseg_msse.html',\n",
       "  'cee.stanford.edu_programs_seg_consideringseg_secourses.html',\n",
       "  'cee.stanford.edu_programs_seg_research_enginfo.html',\n",
       "  'cee.stanford.edu_programs_seg_research_index.html',\n",
       "  'cee.stanford.edu_sitemap.html',\n",
       "  'cees.stanford.edu_',\n",
       "  'cees.stanford.edu_about.sesaai.php',\n",
       "  'cepa.stanford.edu_people_imeh-williams',\n",
       "  'cepa.stanford.edu_people_matt-kasman',\n",
       "  'cepa.stanford.edu_people_staff',\n",
       "  'cf.stanford.edu_',\n",
       "  'cf.stanford.edu_about_staff.php',\n",
       "  'cf.stanford.edu_help_',\n",
       "  'cf.stanford.edu_help_printer_problem.php',\n",
       "  'cf.stanford.edu_help_unix.php',\n",
       "  'charm.stanford.edu_Main_LabAlumni',\n",
       "  'cheme.stanford.edu_faculty_nanotech.html',\n",
       "  'chime.stanford.edu_people.html',\n",
       "  'cibsr.stanford.edu_training-careers_Student_Recruitment.pdf',\n",
       "  'cife.stanford.edu_sites_default_files_0%2520Mr.Luay%2520Presentation.pdf',\n",
       "  'cirge.stanford.edu_researchareas_',\n",
       "  'cis-old.stanford.edu_news_glossary.html',\n",
       "  'cis-old.stanford.edu_news_websitessummer.html',\n",
       "  'cis.stanford.edu_events_fall_09_day2.html',\n",
       "  'cis.stanford.edu_structure_tomorrowprof.html',\n",
       "  'cisac.stanford.edu_events_6862',\n",
       "  'cisac.stanford.edu_events_7001',\n",
       "  'cisac.stanford.edu_research_mapping_terrorist_organizations_',\n",
       "  'cleanslate.stanford.edu_about_cleanslate.php',\n",
       "  'cleanslate.stanford.edu_about_press.php',\n",
       "  'cleanslate.stanford.edu_events_special.php',\n",
       "  'cleanslate.stanford.edu_people.php',\n",
       "  'clinicalinformatics.stanford.edu_background.html',\n",
       "  'cll.stanford.edu_reason-learn_',\n",
       "  'cll.stanford.edu_scla_schedule.shtml',\n",
       "  'cll.stanford.edu_symposia_creativity_schedule.html',\n",
       "  'cmgm.stanford.edu_classes_',\n",
       "  'coa.stanford.edu_people_hyemin-han',\n",
       "  'codex.stanford.edu_',\n",
       "  'codex.stanford.edu_arredondo.html',\n",
       "  'codex.stanford.edu_baine.html',\n",
       "  'codex.stanford.edu_cahan.html',\n",
       "  'codex.stanford.edu_calc_',\n",
       "  'codex.stanford.edu_contissa.html',\n",
       "  'codex.stanford.edu_dolin.html',\n",
       "  'codex.stanford.edu_gunst.html',\n",
       "  'codex.stanford.edu_kahana.html',\n",
       "  'codex.stanford.edu_lai.html',\n",
       "  'codex.stanford.edu_lee.html',\n",
       "  'codex.stanford.edu_newman.html',\n",
       "  'codex.stanford.edu_people.html',\n",
       "  'codex.stanford.edu_poulshock.html',\n",
       "  'codex.stanford.edu_privacy2010',\n",
       "  'codex.stanford.edu_puig.html',\n",
       "  'codex.stanford.edu_rlee.html',\n",
       "  'collectives.stanford.edu_CDoCS03_index.html',\n",
       "  'comm.stanford.edu_coterm_',\n",
       "  'comm.stanford.edu_faculty_',\n",
       "  'comm.stanford.edu_faculty_bailenson_',\n",
       "  'comm.stanford.edu_faculty_nass_',\n",
       "  'comm.stanford.edu_faculty_roberts_',\n",
       "  'commencement.stanford.edu_traditions_archive_',\n",
       "  'compbio.stanford.edu_',\n",
       "  'compbio.stanford.edu_courses.html',\n",
       "  'compbio.stanford.edu_links.html',\n",
       "  'complaw.stanford.edu_',\n",
       "  'compmath50.stanford.edu_',\n",
       "  'compmath50.stanford.edu_organizers_',\n",
       "  'compmath50.stanford.edu_sponsors_',\n",
       "  'comptop.stanford.edu_cfp',\n",
       "  'comptop.stanford.edu_computing',\n",
       "  'comptop.stanford.edu_events_',\n",
       "  'comptop.stanford.edu_programs_',\n",
       "  'comptop.stanford.edu_seminars',\n",
       "  'cpchanglab.stanford.edu_membersindex.html',\n",
       "  'crc.stanford.edu_BAST_huffman.html',\n",
       "  'crc.stanford.edu_ejmf_donors.html',\n",
       "  'crc.stanford.edu_ejmf_ejm.html',\n",
       "  'crc.stanford.edu_ejmf_professors.html',\n",
       "  'credibility.stanford.edu_',\n",
       "  'credibility.stanford.edu_publications.html',\n",
       "  'credo.stanford.edu_aboutStaff-Hodges.html',\n",
       "  'crypto.stanford.edu_',\n",
       "  'crypto.stanford.edu_DRM2002_',\n",
       "  'crypto.stanford.edu_TIPPI_first_boneh.html']}"
      ]
     },
     "execution_count": 55,
     "metadata": {},
     "output_type": "execute_result"
    }
   ],
   "source": [
    "relevance_judgments"
   ]
  },
  {
   "cell_type": "markdown",
   "metadata": {
    "heading_collapsed": true,
    "hidden": true
   },
   "source": [
    "## Evaluation non ordonnée"
   ]
  },
  {
   "cell_type": "markdown",
   "metadata": {
    "hidden": true
   },
   "source": [
    "L'évaluation du modèle booléen se fait à l'aide de metriques telles que le rappel, la précision, mais aussi F1 et Fbeta.\n",
    "\n",
    "On renvoie les résultats et l'évaluation de ces résultats, et on se rend compte que ceux ci ne sont pas très bons, parce que dans les jugements de relevance par requete, on n'a pas appliqué les mêmes hypothèses qu'à nos données, à savoir qu'on ne prend en compte que les fichiers html du dossier 0.\n",
    "\n",
    "Quand on effectue ce filtrage, on trouve de meilleurs valeurs pour notre modèle : un rappel qui tend vers 1. La precision reste basse (0.2) mais c'est normal, car cela ne dépend pas de la taille du nombre de jugements de relevance"
   ]
  },
  {
   "cell_type": "code",
   "execution_count": 56,
   "metadata": {
    "code_folding": [],
    "hidden": true
   },
   "outputs": [],
   "source": [
    "def evaluate_boolean_model(requests, collection_index, relevance_judgments, BooleanOperator):\n",
    "    evaluation_boolean = {}\n",
    "    # A completer\n",
    "    for request in requests:\n",
    "        boolean_request = transformation_lem_query_to_boolean(requests[request])\n",
    "        result = []\n",
    "        for word in boolean_request:\n",
    "            if not(word == \"U.S\" or word.upper() not in vocabulary or word is int):\n",
    "                result.append(word)\n",
    "        print(result)\n",
    "        request_with_operator = processing_boolean_query_with_inverted_index(BooleanOperator, result, collection_index)\n",
    "        results = [0 for i in range(len(request_with_operator))]\n",
    "        for i, doc in enumerate(request_with_operator):\n",
    "            if doc in relevance_judgments[request]:\n",
    "                results[i] = 1\n",
    "        recall = np.cumsum(results) / len(relevance_judgments[request])\n",
    "        precision = np.cumsum(results) / len(results)\n",
    "        F1 = 2 / ((1 / precision) + (1 / recall))\n",
    "        beta = .5\n",
    "        Fb = (1 + beta ** 2) * precision * recall / (beta ** 2 * precision * recall)\n",
    "        evaluation_boolean[request] = {\"recall\": recall, \"precision\": precision, \"F1\": F1, \"Fb\": Fb}\n",
    "    return request_with_operator, evaluation_boolean\n"
   ]
  },
  {
   "cell_type": "code",
   "execution_count": 57,
   "metadata": {
    "hidden": true
   },
   "outputs": [
    {
     "name": "stdout",
     "output_type": "stream",
     "text": [
      "comput scienc\n",
      "['comput', 'AND', 'scienc']\n"
     ]
    },
    {
     "data": {
      "text/plain": [
       "(['biox.stanford.edu_clark_latombe.html',\n",
       "  'biox.stanford.edu_clark_zare.html',\n",
       "  'bioethics.stanford.edu_education_bemh_committee.html',\n",
       "  'annualreport.stanford.edu_2011_chairletter.html',\n",
       "  'bdml.stanford.edu_twiki_bin_view_Rise_SpinyBot.html',\n",
       "  'cheme.stanford.edu_alumni_InMemoriam.html',\n",
       "  'biox.stanford.edu_forum_index.html',\n",
       "  'cisl.stanford.edu_organization_about_gaba.html',\n",
       "  'cll.stanford.edu_symposia_creativity_schedule.html',\n",
       "  'adl.stanford.edu_people_YoungjunKim.html',\n",
       "  'cmgm.stanford.edu_biochem_harbury_publications.html',\n",
       "  'cmgm.stanford.edu_micro_fac_greenberg.html',\n",
       "  'cancer.stanford.edu_patient_care_amenities_patientBilling.html',\n",
       "  'cee.stanford.edu_seminars_index.html',\n",
       "  'ai.stanford.edu_users_sahami_CS2013_documents.html',\n",
       "  'biochem.stanford.edu_Job_Openings.html',\n",
       "  'clinicalinformatics.stanford.edu_projects_anesthesia.html',\n",
       "  'cee.stanford.edu_programs_efmh_seminars_efml_nooners.html',\n",
       "  'biox.stanford.edu_clark_faculty.html',\n",
       "  'arith.stanford.edu_snap.html',\n",
       "  'cee.stanford.edu_programs_atmosenergy_degrees_masters.html',\n",
       "  'biox.stanford.edu_about_history.html',\n",
       "  'asia.stanford.edu_events_Spring04_bios_ladermanBio.html',\n",
       "  'biox.stanford.edu_clark_faculty_p2.html',\n",
       "  'arpes.stanford.edu_inthenews_english.html',\n",
       "  'bdml.stanford.edu_twiki_bin_view_Haptics_HapticsForGaitRetraining.html',\n",
       "  'bmecs.stanford.edu_2011_html_bmecs-keynote.html',\n",
       "  'bioengineering.stanford.edu_research_biomeddevice.html',\n",
       "  'cneec.stanford.edu_facilities_index.html',\n",
       "  'codex.stanford.edu_poulshock.html',\n",
       "  'codex.stanford.edu_contissa.html',\n",
       "  'biox.stanford.edu_clark_guibas.html',\n",
       "  'biox.stanford.edu_about_exec_committee.html',\n",
       "  'cneec.stanford.edu_programs_researchopps.html',\n",
       "  'bloodcenter.stanford.edu_news_inventory.html',\n",
       "  'artist-registry.stanford.edu_html_Stermer.html',\n",
       "  'captology.stanford.edu_about_about-the-lab-1.html',\n",
       "  'cee.stanford.edu_current_phd_qual.html',\n",
       "  'biox.stanford.edu_clark_batzoglou.html',\n",
       "  'creees.stanford.edu_about_contact.html',\n",
       "  'cis.stanford.edu_events_spring_09_day2.html',\n",
       "  'creees.stanford.edu_events_sess2staging.html',\n",
       "  'creees.stanford.edu_events_ukraine10_11.html',\n",
       "  'bioengineering.stanford.edu_community_relateddepts.html',\n",
       "  'arpes.stanford.edu_research_timeresolved.html',\n",
       "  'creees.stanford.edu_events_levi.html',\n",
       "  'codex.stanford.edu_lee.html',\n",
       "  'cee.stanford.edu_programs_efml_seminars_index.html',\n",
       "  'bmi.stanford.edu_research_featured-research.html',\n",
       "  'crgp.stanford.edu_news_crgp_david_altshuler_appointed_as_visiting_scholar.html',\n",
       "  'aero-comlab.stanford.edu_sichoi_index.html',\n",
       "  'cancerbio.stanford.edu_History_about-cancer-systems.html',\n",
       "  'creees.stanford.edu_academic_stanford-in-moscow.html',\n",
       "  'bentgroup.stanford.edu_stacey.html',\n",
       "  'alumni.gsb.stanford.edu_women_index.html',\n",
       "  'cmgm.stanford.edu_biochem201_genome.html',\n",
       "  'biox.stanford.edu_news_workshop-tc.html',\n",
       "  'cee.stanford.edu_programs_efmh_faculty_index.html',\n",
       "  'bioethics.stanford.edu_arts_ProgramPeople.html',\n",
       "  'creees.stanford.edu_events_fixer.html',\n",
       "  'biox.stanford.edu_grant_fellows_wong.html',\n",
       "  'cneec.stanford.edu_programs_outreach.html',\n",
       "  'credo.stanford.edu_aboutStaff-Hodges.html',\n",
       "  'biox.stanford.edu_grant_iip_about.html',\n",
       "  'coe.stanford.edu_pre-med_admissions.html',\n",
       "  'ashleylab.stanford.edu_tools_tools_synthetic_index.html',\n",
       "  'codex.stanford.edu_surden.html',\n",
       "  'biochem158.stanford.edu_Stem%2520Cells.html',\n",
       "  'cee.stanford.edu_programs_seg_consideringseg_engdeg.html',\n",
       "  'cancerbio.stanford.edu_History_about-cancerbio.html',\n",
       "  'biox.stanford.edu_news_2011events_may.html',\n",
       "  'cee.stanford.edu_programs_atmosenergy_index.html',\n",
       "  'cee.stanford.edu_research_ees.html',\n",
       "  'biox.stanford.edu_news_index.html',\n",
       "  'creees.stanford.edu_events_starr.html',\n",
       "  'asia.stanford.edu_events_Spring04_bios_yanBio.html',\n",
       "  'cneec.stanford.edu_tutorials_synchrotron_techniques_06302011.html',\n",
       "  'biox.stanford.edu_faculty_affiliates_l.html',\n",
       "  'biox.stanford.edu_grant_fs_grad_0910.html',\n",
       "  'arts0910.stanford.edu_people_grad.html',\n",
       "  'cee.stanford.edu_programs_seg_currentstudents_labstudents.html',\n",
       "  'bejerano.stanford.edu_pi.html',\n",
       "  'codex.stanford.edu_puig.html',\n",
       "  'biox.stanford.edu_clark_boahen.html',\n",
       "  'cee.stanford.edu_programs_construction_current_internships.html',\n",
       "  'corporate.stanford.edu_recruiting_index.html',\n",
       "  'asia.stanford.edu_events_fall05_bio_OzzieDiaz-Bio.html',\n",
       "  'bmi.stanford.edu_people-directory_exec.html',\n",
       "  'bartholomew.stanford.edu_authors_algazel.html',\n",
       "  'bartholomew.stanford.edu_ages.html',\n",
       "  'cneec.stanford.edu_tutorials_index.html',\n",
       "  'artist-registry.stanford.edu_html_html2_Sloan.html',\n",
       "  'comm.stanford.edu_mcclatchy_2003_spr.html',\n",
       "  'catnet.stanford.edu_articles_s_n_facts.html',\n",
       "  'bioengineering.stanford.edu_research_facilities.html',\n",
       "  'biox.stanford.edu_grant_r5_iip_sylvester.html',\n",
       "  'ai.stanford.edu_users_sahami_CS2013_committee.html',\n",
       "  'biochem158.stanford.edu_Human%2520Genome.html',\n",
       "  'cis.stanford.edu_events_fall_09_day2.html',\n",
       "  'ai.stanford.edu_people.html',\n",
       "  'biox.stanford.edu_clark_sallisbury.html',\n",
       "  'cbis.stanford.edu_people_seedgrants.html',\n",
       "  'creees.stanford.edu_events_sysyn.html',\n",
       "  'cheme.stanford.edu_prospective_students_curriculum.html',\n",
       "  'clinicalinformatics.stanford.edu_research_oncoshare.html',\n",
       "  'cee.stanford.edu_programs_archdesign_events_index.html',\n",
       "  'creees.stanford.edu_events_central-asia-film.html',\n",
       "  'biochemistry.stanford.edu_research_collaborators.html',\n",
       "  'bartholomew.stanford.edu_authors_hildegard.html',\n",
       "  'bioengineering.stanford.edu_community_support.html',\n",
       "  'cee.stanford.edu_programs_archdesign_program_index.html',\n",
       "  'biochem.stanford.edu_admissionsSBD.html',\n",
       "  'clinicalinformatics.stanford.edu_background.html',\n",
       "  'biochem158.stanford.edu_finishing.html',\n",
       "  'biox.stanford.edu_grant_fellows_wilt.html',\n",
       "  'bartholomew.stanford.edu_authors_richardrufus.html',\n",
       "  'bartholomew.stanford.edu_authors_gertrude.html',\n",
       "  'biox.stanford.edu_about_biosci_council.html',\n",
       "  'credo.stanford.edu_aboutStaff-Raymond.html',\n",
       "  'cee.stanford.edu_programs_construction_current_advisors_index.html',\n",
       "  'cnsvp.stanford.edu_studies_literature.html',\n",
       "  'cpchanglab.stanford.edu_membersindex.html',\n",
       "  'arpes.stanford.edu_research.html',\n",
       "  'cneec.stanford.edu_tutorials_plasmonics_02142011.html',\n",
       "  'ashleylab.stanford.edu_contactus.html',\n",
       "  'aero-comlab.stanford.edu_andysc_index.html',\n",
       "  'arpes.stanford.edu_inthenews_topological.html',\n",
       "  'chenglab.stanford.edu_people_Emy.html',\n",
       "  'cee.stanford.edu_programs_construction_who_cem-cee.html',\n",
       "  'cee.stanford.edu_programs_archdesign_programVideo.html',\n",
       "  'cneec.stanford.edu_contact_index.html',\n",
       "  'artist-registry.stanford.edu_html_Zittin.html',\n",
       "  'chen.stanford.edu_links.html',\n",
       "  'crc.stanford.edu_ejmf_professors.html',\n",
       "  'ccis.stanford.edu_people.html',\n",
       "  'biox.stanford.edu_clark_brunger.html',\n",
       "  'changlab.stanford.edu_people.html',\n",
       "  'asia.stanford.edu_events_spring02_bio_soneBio.html',\n",
       "  'asia.stanford.edu_events_fall03_bio_forbesBio.html',\n",
       "  'beckman.stanford.edu_history.html',\n",
       "  'brownlab.stanford.edu_Alumni_Viola_Ellison.html',\n",
       "  'cee.stanford.edu_programs_archdesign_about_index.html',\n",
       "  'cee.stanford.edu_programs_construction_industry_cInstitute_members.html',\n",
       "  'cancer.stanford.edu_research_populationsci_BugosProfile.html',\n",
       "  'cneec.stanford.edu_research_trg3.html',\n",
       "  'bartholomew.stanford.edu_authors_averroes.html',\n",
       "  'cee.stanford.edu_about_waterEnvi.html',\n",
       "  'creees.stanford.edu_events_Fall10.html',\n",
       "  'creees.stanford.edu_events_chalbi.html',\n",
       "  'adl.stanford.edu_people_ThomasEconomon.html',\n",
       "  'cee.stanford.edu_programs_construction_current_class_sched.html',\n",
       "  'codex.stanford.edu_arredondo.html',\n",
       "  'biochem.stanford.edu_newsSBD.html',\n",
       "  'bio84.stanford.edu_03%2520Human%2520Genome.html',\n",
       "  'creees.stanford.edu_grants_summer-undergraduate.html',\n",
       "  'cee.stanford.edu_programs_construction_current_advisors_advisors.html',\n",
       "  'biox.stanford.edu_news_2011events_june.html',\n",
       "  'biox.stanford.edu_grant_fellows_vanDersarl.html',\n",
       "  'conte.stanford.edu_administration.html',\n",
       "  'bmi.stanford.edu_biomedical-informatics_jobs.html',\n",
       "  'artist-registry.stanford.edu_html_Gaede.html',\n",
       "  'aero-comlab.stanford.edu_mharbeck_index.html',\n",
       "  'aero.stanford.edu_People_Sean.html',\n",
       "  'casb.stanford.edu_dorfmanlecture_index.html',\n",
       "  'arts0910.stanford.edu_parts_anna.html',\n",
       "  'bingschool.stanford.edu_researchpub_cdweck.html',\n",
       "  'biox.stanford.edu_grant_r5_iip_fontaine.html',\n",
       "  'cmgm.stanford.edu_pbrown_Lab_member_profiles_Dan_Riordan.html',\n",
       "  'asia.stanford.edu_people_dasher.html',\n",
       "  'bioel.stanford.edu_CIPer_figure_s5.html',\n",
       "  'cee.stanford.edu_programs_efml_index.html',\n",
       "  'cmgm.stanford.edu_contact.html',\n",
       "  'cancer.stanford.edu_research_populationsci_McGuireProfile.html',\n",
       "  'aaalab.stanford.edu_face.html',\n",
       "  'chicory.stanford.edu_satyaki_research_TarProducerConsumer.html',\n",
       "  'biox.stanford.edu_clark_levitt.html',\n",
       "  'communication.stanford.edu_mcclatchy_2000_spr.html',\n",
       "  'biox.stanford.edu_news_2008events_jan.html',\n",
       "  'cneec.stanford.edu_faculty_photos.html',\n",
       "  'bentgroup.stanford.edu_research.html',\n",
       "  'bioadd.stanford.edu_people_zhou.html',\n",
       "  'bioethics.stanford.edu_people_affiliates.html',\n",
       "  'bmi.stanford.edu_biomedical-informatics_history-program.html',\n",
       "  'cheme.stanford.edu_prospective_students_whatis_cheme.html',\n",
       "  'credo.stanford.edu_aboutStaff-Mazzola.html',\n",
       "  'ai.stanford.edu_users_sahami_CS2013_overview.html',\n",
       "  'creees.stanford.edu_events_Nickell.html',\n",
       "  'cee.stanford.edu_programs_construction_current_organizations.html',\n",
       "  'asia.stanford.edu_events_Hitachi_Oct04_bios_nishiBio.html',\n",
       "  'cis.stanford.edu_structure_tomorrowprof.html',\n",
       "  'bartholomew.stanford.edu_scholasticism.html',\n",
       "  'aero.stanford.edu_Lindbergh_old%2520files_intro.html',\n",
       "  'cee.stanford.edu_programs_construction_current_ta.application.form.html',\n",
       "  'aaalab.stanford.edu_imagery.html',\n",
       "  'arpes.stanford.edu_research_combinedPVthermo.html',\n",
       "  'biox.stanford.edu_faculty_faculty_themes_intro.html',\n",
       "  'aero-comlab.stanford.edu_psahu_index.html',\n",
       "  'asia.stanford.edu_events_spring05_ee402t_bio_bajajBio.html',\n",
       "  'cee.stanford.edu_programs_efmh_seminars_colloquia2011.html',\n",
       "  'credibility.stanford.edu_publications.html',\n",
       "  'clinicalinformatics.stanford.edu_mission.html',\n",
       "  'cegelskilab.stanford.edu_outreach.html',\n",
       "  'aramis.stanford.edu_investigators.html',\n",
       "  'aero-comlab.stanford.edu_jameson_collaborators.html',\n",
       "  'bartholomew.stanford.edu_authors_rogerbacon.html',\n",
       "  'childpsychiatry.stanford.edu_contacts.html',\n",
       "  'creees.stanford.edu_about_history.html',\n",
       "  'aero-comlab.stanford.edu_jameson_lectures.html',\n",
       "  'arpes.stanford.edu_research_stronglycorrelatedelectrons.html',\n",
       "  'aaalab.stanford.edu_complex.html',\n",
       "  'bmi.stanford.edu_people-directory_distance-education-alums-biomedical-informatics.html',\n",
       "  'cee.stanford.edu_programs_construction_what_awards.html',\n",
       "  'creees.stanford.edu_grants_index.html',\n",
       "  'biox.stanford.edu_about_index.html',\n",
       "  'credo.stanford.edu_aboutStaff-Dickey.html',\n",
       "  'cis-old.stanford.edu_news_glossary.html',\n",
       "  'bingschool.stanford.edu_researchpub_eclark.html',\n",
       "  'cneec.stanford.edu_about_index.html',\n",
       "  'aaalab.stanford.edu_development.html',\n",
       "  'cee.stanford.edu_current_orientation.html',\n",
       "  'changlab.stanford.edu_alumni.html',\n",
       "  'cee.stanford.edu_programs_seg_consideringseg_secourses.html',\n",
       "  'biochem118.stanford.edu_projects-2008.html',\n",
       "  'clinicalinformatics.stanford.edu_projects_orthopedics.html',\n",
       "  'compbio.stanford.edu_links.html',\n",
       "  'connectingthedots.stanford.edu_2011-index.html',\n",
       "  'clinicalinformatics.stanford.edu_projects_sumc.html',\n",
       "  'biox.stanford.edu_clark_spormann.html',\n",
       "  'ai.stanford.edu_contact.html',\n",
       "  'codex.stanford.edu_baine.html',\n",
       "  'bootheprize.stanford.edu_0304_index.html',\n",
       "  'cee.stanford.edu_programs_construction_considering_engineer.html',\n",
       "  'cee.stanford.edu_programs_archdesign_about_message.html',\n",
       "  'cneec.stanford.edu_research_trg2.html',\n",
       "  'bioengineering.stanford.edu_education_graduate.html',\n",
       "  'creees.stanford.edu_events_centralasianfilmseries.html',\n",
       "  'bartholomew.stanford.edu_magnacarta_excerpt.html',\n",
       "  'artist-registry.stanford.edu_html_Lasack.html',\n",
       "  'bejerano.stanford.edu_people.html',\n",
       "  'biox.stanford.edu_courses_459.html',\n",
       "  'cee.stanford.edu_programs_construction_considering_addtl_reqs-CEM-DCI-SDC.html',\n",
       "  'cee.stanford.edu_programs_construction_industry_cInstitute.html',\n",
       "  'captology.stanford.edu_resources_paper-the-behavior-chain-for-online-participation.html',\n",
       "  'asia.stanford.edu_events_Spring06_ee402t_index.html',\n",
       "  'cee.stanford.edu_programs_index.html',\n",
       "  'aaalab.stanford.edu_transfer.html',\n",
       "  'biox.stanford.edu_clark_pande.html',\n",
       "  'cee.stanford.edu_programs_seg_consideringseg_msgeo.html',\n",
       "  'atbweb.stanford.edu_atb_images_brunger_cv.html',\n",
       "  'cee.stanford.edu_programs_efmh_faculty_affiliates.html',\n",
       "  'creees.stanford.edu_grants_shieh-grant-exp.html',\n",
       "  'coe.stanford.edu_spotlight_Yvonne-Maldonado.html',\n",
       "  'biox.stanford.edu_faculty_dept_geology.html',\n",
       "  'adem.stanford.edu_videos.html',\n",
       "  'biox.stanford.edu_news_2011events_july.html',\n",
       "  'bioethics.stanford.edu_people_steering_committee.html',\n",
       "  'asia.stanford.edu_events_spring06_ee402t_bio_chua.html',\n",
       "  'cee.stanford.edu_programs_seg_research_index.html',\n",
       "  'boole.stanford.edu_pratt.html',\n",
       "  'arith.stanford.edu_people.html',\n",
       "  'codex.stanford.edu_lai.html',\n",
       "  'cee.stanford.edu_events_visitation_day.html',\n",
       "  'cee.stanford.edu_programs_construction_who_students.html',\n",
       "  'cis-old.stanford.edu_news_websitessummer.html',\n",
       "  'cneec.stanford.edu_tutorials_photovoltaics_06142011.html',\n",
       "  'creees.stanford.edu_events_cimdina.html',\n",
       "  'cee.stanford.edu_programs_efmh_seminars_index.html',\n",
       "  'biox.stanford.edu_grant_grad2012.html',\n",
       "  'creees.stanford.edu_events_dyak.html',\n",
       "  'cmgm.stanford.edu_facilities_index.html',\n",
       "  'bartholomew.stanford.edu_magnacarta_trans1.html',\n",
       "  'codex.stanford.edu_newman.html',\n",
       "  'cbis.stanford.edu_events_MIseminar.html',\n",
       "  'arith.stanford.edu_book.html',\n",
       "  'ai.stanford.edu_users_khatib_contact.html',\n",
       "  'biox.stanford.edu_grant_fellows_wenger.html',\n",
       "  'creees.stanford.edu_events_Klezmeruski.html',\n",
       "  'cee.stanford.edu_programs_construction_considering_CEM_Webinar.html',\n",
       "  'bioengineering.stanford.edu_community_lifeatstanford.html',\n",
       "  'asia.stanford.edu_events_NEC_soneBio.html',\n",
       "  'cisl.stanford.edu_organization_history.html',\n",
       "  'cee.stanford.edu_programs_construction_industry_guests.html',\n",
       "  'cee.stanford.edu_programs_atmosenergy_events_index.html',\n",
       "  'cee.stanford.edu_programs_seg_whoweare_students.html',\n",
       "  'aero-comlab.stanford.edu_sbalaji_index.html',\n",
       "  'cee.stanford.edu_programs_seg_consideringseg_geocourses.html',\n",
       "  'cneec.stanford.edu_events.html',\n",
       "  'creees.stanford.edu_about_steering.html',\n",
       "  'artist-registry.stanford.edu_html_Zickefoose.html',\n",
       "  'bdml.stanford.edu_twiki_bin_view_Main_ClimbingAdhesion.html',\n",
       "  'bartholomew.stanford.edu_etymology.html',\n",
       "  'clinicalinformatics.stanford.edu_projects_cancercenter.html',\n",
       "  'comm.stanford.edu_internships_pearl_2004_index.html',\n",
       "  'biox.stanford.edu_faculty_dept_matSci.html',\n",
       "  'bioengineering.stanford.edu_coulter_tech.html',\n",
       "  'cee.stanford.edu_programs_efmh_students_index.html',\n",
       "  'aero-comlab.stanford.edu_mcmu_publications.html',\n",
       "  'adl.stanford.edu_people_jfike.html',\n",
       "  'asia.stanford.edu_events_fall02_bio_liuBio.html',\n",
       "  'cancer.stanford.edu_patient_care_howToMakeAnAppointment.html',\n",
       "  'crc.stanford.edu_ejmf_honors.html',\n",
       "  'credo.stanford.edu_aboutStaff-Peltason.html',\n",
       "  'cee.stanford.edu_programs_atmosenergy_degrees_phd.html',\n",
       "  'chime.stanford.edu_people.html',\n",
       "  'cegs.stanford.edu_zebrafish_genome_hoxcomp.html',\n",
       "  'biochemistry.stanford.edu_education_graduate.html',\n",
       "  'ambadylab.stanford.edu_ambady.html',\n",
       "  'arpes.stanford.edu_aboutus.html',\n",
       "  'cee.stanford.edu_research_other_res.html',\n",
       "  'chemenew.stanford.edu_faculty_profiles_cwfrank_cwfrank.html',\n",
       "  'creees.stanford.edu_about_directions.html',\n",
       "  'cbis.stanford.edu_education_residency_programs.html',\n",
       "  'ambadylab.stanford.edu_barth.html',\n",
       "  'cee.stanford.edu_programs_atmosenergy_gallery_index.html',\n",
       "  'captology.stanford.edu_archived-projects_persuasive-visual-stories-for-small-screens.html',\n",
       "  'creees.stanford.edu_events_film-series.html',\n",
       "  'bingschool.stanford.edu_aboutbing_advisory.html',\n",
       "  'codex.stanford.edu_rlee.html',\n",
       "  'creees.stanford.edu_events_audio-visual-index.html',\n",
       "  'biochem158.stanford.edu_nextgenseq.html',\n",
       "  'clinicalinformatics.stanford.edu_projects_pediatrics.html',\n",
       "  'biox.stanford.edu_clark_kopito.html',\n",
       "  'biox.stanford.edu_clark_gambhir.html',\n",
       "  'childpsychiatry.stanford.edu_training_fellowships.html',\n",
       "  'cmgm.stanford.edu_biology_long_presentmembers.html',\n",
       "  'cee.stanford.edu_programs_seg_contact_index.html',\n",
       "  'cis-old.stanford.edu_news_alphabet.html',\n",
       "  'bartholomew.stanford.edu_welcome.html',\n",
       "  'biox.stanford.edu_clark_altman.html',\n",
       "  'bartholomew.stanford.edu_authors_avicenna.html',\n",
       "  'chemogenomics.stanford.edu_supplements_03nuc_nuc_image.html',\n",
       "  'ai.stanford.edu_forms.html',\n",
       "  'biox.stanford.edu_contact_links.html',\n",
       "  'cee.stanford.edu_programs_atmosenergy_faculty_cee.html',\n",
       "  'creees.stanford.edu_grants_summer-graduate-travel.html',\n",
       "  'cneec.stanford.edu_research_index.html',\n",
       "  'crypto.stanford.edu_TIPPI_first_boneh.html',\n",
       "  'aaalab.stanford.edu_teachable.html',\n",
       "  'cee.stanford.edu_programs_seg_research_sustain.html',\n",
       "  'creees.stanford.edu_events_CurrentLectures.html',\n",
       "  'bejerano.stanford.edu_resources.html',\n",
       "  'creees.stanford.edu_academic_coterminal-masters.html',\n",
       "  'canarycenter.stanford.edu_news-events_seminars_early-detection-seminar.html',\n",
       "  'creees.stanford.edu_events_trenin.html',\n",
       "  'cmgm.stanford.edu_biology_long_labalumni.html',\n",
       "  'biox.stanford.edu_clark_holmes.html',\n",
       "  'cee.stanford.edu_programs_atmosenergy_events_ae_seminar.html',\n",
       "  'cee.stanford.edu_programs_seg_research_riskreliabilty.html',\n",
       "  'bartholomew.stanford.edu_authors_bartholomew.html',\n",
       "  'cee.stanford.edu_programs_seg_consideringseg_msse.html',\n",
       "  'arpes.stanford.edu_research_electronphonon.html',\n",
       "  'biox.stanford.edu_clark_khatib.html',\n",
       "  'biox.stanford.edu_clark_faculty_p3.html',\n",
       "  'asia.stanford.edu_events_fall05_bio_Bio-Kim-SKTelecom.html',\n",
       "  'cheme.stanford.edu_faculty_nih_about_news_and_events.html',\n",
       "  'cee.stanford.edu_programs_seg_consideringseg_faq.html',\n",
       "  'creees.stanford.edu_about_support-creees.html',\n",
       "  'aaastop.stanford.edu_students_fellows_cvi_calendar.html',\n",
       "  'biox.stanford.edu_grant_iip_round6.html',\n",
       "  'cee.stanford.edu_programs_efml_seminars_efml_nooners.html',\n",
       "  'bartholomew.stanford.edu_ongodockham_intro.html',\n",
       "  'biox.stanford.edu_grant_fellows_program.html',\n",
       "  'cee.stanford.edu_programs_atmosenergy_degrees_index.html',\n",
       "  'biox.stanford.edu_clark_bldg2.html',\n",
       "  'biox.stanford.edu_news_archives_11_Apr.html',\n",
       "  'creees.stanford.edu_about_staff.html',\n",
       "  'cee.stanford.edu_prospective_undergrad_declaring.html',\n",
       "  'ambadylab.stanford.edu_pauker.html',\n",
       "  'bejerano.stanford.edu_directions.html',\n",
       "  'cee.stanford.edu_contact_index.html',\n",
       "  'cee.stanford.edu_programs_construction_who_visiting_scholars.html',\n",
       "  'bejerano.stanford.edu_press.html',\n",
       "  'cee.stanford.edu_programs_archdesign_contact_index.html',\n",
       "  'ccsb.stanford.edu_events_biomodclub.html',\n",
       "  'biox.stanford.edu_grant_r2_iip_menon.html',\n",
       "  'cee.stanford.edu_programs_archdesign_about_announcement.html',\n",
       "  'bartholomew.stanford.edu_magnacarta_intro.html',\n",
       "  'biox.stanford.edu_grant_fellows_tayebi.html',\n",
       "  'adg.stanford.edu_aa241_drag_liftwavedrag.html',\n",
       "  'asia.stanford.edu_events_spring06_ee402s_bio_garner.html',\n",
       "  'beckman.stanford.edu_programs_other.html',\n",
       "  'arpes.stanford.edu_research_novelformofcarbon.html',\n",
       "  'creees.stanford.edu_events_StanfordBerkeley.html',\n",
       "  'crc.stanford.edu_BAST_huffman.html',\n",
       "  'compbio.stanford.edu_courses.html',\n",
       "  'cegelskilab.stanford.edu_links.html',\n",
       "  'bartholomew.stanford.edu_authors_wmauvergne.html',\n",
       "  'arpes.stanford.edu_research_antifm.html',\n",
       "  'ai.stanford.edu_links.html',\n",
       "  'cee.stanford.edu_about_atmoEnergy.html',\n",
       "  'clinicalinformatics.stanford.edu_projects_community.html',\n",
       "  'bioengineering.stanford.edu_faculty_boahen.html',\n",
       "  'cee.stanford.edu_programs_construction_safety_safety.html',\n",
       "  'childpsychiatry.stanford.edu_Parent%2520Support%2520Group.html',\n",
       "  'clinicalinformatics.stanford.edu_projects_otherProjects.html',\n",
       "  'crc.stanford.edu_ejmf_donors.html',\n",
       "  'atbweb.stanford.edu_scripts_address.html',\n",
       "  'cheme.stanford.edu_prospective_students_ugrad_admiss_over.html',\n",
       "  'captology.stanford.edu_projects_archived-projects.html',\n",
       "  'bloodcenter.stanford.edu_about_blood_PRISM.html',\n",
       "  'arpes.stanford.edu_research_polarons.html',\n",
       "  'ai.stanford.edu_meetings.html',\n",
       "  'cee.stanford.edu_programs_efmh_students_undergrad_prereqs.html',\n",
       "  'creees.stanford.edu_events_astrakhan.html',\n",
       "  'cee.stanford.edu_programs_archdesign_program_courseSites.html',\n",
       "  'biochem.stanford.edu_mobile_newsSBD.html',\n",
       "  'bingschool.stanford.edu_researchpub_wmischel.html',\n",
       "  'cancer.stanford.edu_patient_care_InternationalPatients.html',\n",
       "  'bejerano.stanford.edu_openings.html',\n",
       "  'cancer.stanford.edu_directions_buildingDirectory.html',\n",
       "  'cneec.stanford.edu_research_trg1.html',\n",
       "  'chicory.stanford.edu_satyaki_research_PredicateAbstraction.html',\n",
       "  'bdml.stanford.edu_twiki_bin_view_Haptics_MotionDisplayKAUST.html',\n",
       "  'changlab.stanford.edu_news.html',\n",
       "  'biox.stanford.edu_biox_awards.html',\n",
       "  'cee.stanford.edu_programs_construction_industry_field_trips.html',\n",
       "  'codex.stanford.edu_kahana.html',\n",
       "  'aaalab.stanford.edu_teachable_agents_ta_moby.html',\n",
       "  'biox.stanford.edu_grant_r5_iip_riedel.html',\n",
       "  'aero-comlab.stanford.edu_mcmu_index.html',\n",
       "  'cneec.stanford.edu_contact_inquiry.html',\n",
       "  'codex.stanford.edu_people.html',\n",
       "  'biox.stanford.edu_grant_fellows_meltzer.html',\n",
       "  'creees.stanford.edu_events_sadowska.html',\n",
       "  'ai.stanford.edu_users_sahami_CS2013_commenting.html',\n",
       "  'bejerano.stanford.edu_protocols.html',\n",
       "  'cneec.stanford.edu_faculty_partners.html',\n",
       "  'aero-comlab.stanford.edu_jameson_recent_presentations.html',\n",
       "  'biox.stanford.edu_grant_fs_grad_0708.html',\n",
       "  'bioengineering.stanford.edu_about_history.html',\n",
       "  'biox.stanford.edu_grant_r4_iip_cui.html',\n",
       "  'captology.stanford.edu_teaching_about-teaching.html',\n",
       "  'cee.stanford.edu_programs_seg_research_enginfo.html',\n",
       "  'bioethics.stanford.edu_arts_events_MedicineandtheMuse.html',\n",
       "  'biox.stanford.edu_grant_fellows_lau.html',\n",
       "  'crc.stanford.edu_ejmf_ejm.html',\n",
       "  'cee.stanford.edu_visit_visitors.html',\n",
       "  'biox.stanford.edu_biox_index.html',\n",
       "  'aaalab.stanford.edu_child_development_dev_reasoning.html',\n",
       "  'casb.stanford.edu_postdoctoral_anonymous.html',\n",
       "  'arpes.stanford.edu_personnel.html',\n",
       "  'beckman.stanford.edu_services.html',\n",
       "  'chemogenomics.stanford.edu_people.html',\n",
       "  'codex.stanford.edu_gunst.html',\n",
       "  'brownlab.stanford.edu_Alumni_Samson_Chow.html',\n",
       "  'creees.stanford.edu_events_kitka-kedry.html',\n",
       "  'collectives.stanford.edu_Library_index.html',\n",
       "  'biox.stanford.edu_grant_fs_grad_0506.html',\n",
       "  'biox.stanford.edu_grant_fs_grad_0607.html',\n",
       "  'cee.stanford.edu_programs_archdesign_links_index.html',\n",
       "  'creees.stanford.edu_events_film%2520events.html',\n",
       "  'cis.stanford.edu_structure_reis.html',\n",
       "  'cheme.stanford.edu_faculty_nanotech.html',\n",
       "  'barschall.stanford.edu_press_gb970828.html',\n",
       "  'cee.stanford.edu_programs_atmosenergy_events_ae_seminar_archive.html',\n",
       "  'creees.stanford.edu_outreach_california-teachers.html',\n",
       "  'aero.stanford.edu_people_kroo.html',\n",
       "  'cneec.stanford.edu_about_overview.html',\n",
       "  'aero-comlab.stanford.edu_acmarta_index.html',\n",
       "  'creees.stanford.edu_academic_undergraduate-minors.html',\n",
       "  'bentgroup.stanford.edu_links.html',\n",
       "  'collectives.stanford.edu_CDoCS03_index.html',\n",
       "  'creees.stanford.edu_events_ResSeminarSpring2011.html',\n",
       "  'cee.stanford.edu_programs_construction_current_afterStanford.html',\n",
       "  'brownlab.stanford.edu_Alumni_Dari_Shalon.html',\n",
       "  'biox.stanford.edu_grant_fellows_asimenos.html',\n",
       "  'cee.stanford.edu_programs_archdesign_faculty_index.html',\n",
       "  'alumni.gsb.stanford.edu_suggested-reading_index.html',\n",
       "  'creees.stanford.edu_events_international-film-series.html',\n",
       "  'cee.stanford.edu_sitemap.html',\n",
       "  'cis.stanford.edu_events_spring_10_day2.html',\n",
       "  'cee.stanford.edu_prospective_grad_grad_overview.html',\n",
       "  'constantinou.stanford.edu_contact.html',\n",
       "  'cheme.stanford.edu_faculty_faculty.html',\n",
       "  'cee.stanford.edu_faculty_faculty_topic.html',\n",
       "  'bootheprize.stanford.edu_0708_index.html',\n",
       "  'biox.stanford.edu_grant_fellows_camarillo.html',\n",
       "  'cneec.stanford.edu_programs_seed.html',\n",
       "  'bartholomew.stanford.edu_magnacarta_exercise4.html',\n",
       "  'bioengineering.stanford.edu_patient_care_translation.html',\n",
       "  'cmgm.stanford.edu_pmgm.html',\n",
       "  'creees.stanford.edu_grants_summer-graduate.html',\n",
       "  'cee.stanford.edu_programs_archdesign_index.html',\n",
       "  'aero-comlab.stanford.edu_jxyao_publication.html',\n",
       "  'beckman.stanford.edu_resources.html',\n",
       "  'creees.stanford.edu_grants_exp.html',\n",
       "  'biochemistry.stanford.edu_contact_job.html',\n",
       "  'biox.stanford.edu_faculty_faculty_affiliates_depts.html',\n",
       "  'codex.stanford.edu_dolin.html',\n",
       "  'codex.stanford.edu_cahan.html',\n",
       "  'creees.stanford.edu_events_bukharain.html',\n",
       "  'cneec.stanford.edu_tutorials_size_matters_07112011.html',\n",
       "  'bioadd.stanford.edu_people_malkovskiy.html',\n",
       "  'bioengineering.stanford.edu_faculty_searches.html',\n",
       "  'creees.stanford.edu_events_radeljic.html',\n",
       "  'cee.stanford.edu_programs_atmosenergy_gallery_pic2012.html',\n",
       "  'arpes.stanford.edu_research_electrons_pressure.html',\n",
       "  'biox.stanford.edu_news_2010events_june.html',\n",
       "  'cheme.stanford.edu_about_index.html',\n",
       "  'cancer.stanford.edu_directions_hotelGuide.html'],\n",
       " {0: {'F1': array([0.00275862, 0.00275862, 0.00275862, 0.00275862, 0.00275862,\n",
       "          0.00275862, 0.00275862, 0.00275862, 0.00551724, 0.00827586,\n",
       "          0.00827586, 0.00827586, 0.00827586, 0.00827586, 0.00827586,\n",
       "          0.00827586, 0.00827586, 0.01103448, 0.0137931 , 0.0137931 ,\n",
       "          0.0137931 , 0.0137931 , 0.0137931 , 0.01655172, 0.01655172,\n",
       "          0.01655172, 0.01655172, 0.01655172, 0.01655172, 0.01931034,\n",
       "          0.02206897, 0.02482759, 0.02482759, 0.02482759, 0.02482759,\n",
       "          0.02482759, 0.02482759, 0.02758621, 0.03034483, 0.03034483,\n",
       "          0.03034483, 0.03034483, 0.03034483, 0.03310345, 0.03310345,\n",
       "          0.03310345, 0.03586207, 0.03862069, 0.03862069, 0.03862069,\n",
       "          0.04137931, 0.04413793, 0.04413793, 0.04413793, 0.04413793,\n",
       "          0.04413793, 0.04413793, 0.04413793, 0.04413793, 0.04413793,\n",
       "          0.04413793, 0.04413793, 0.04689655, 0.04965517, 0.04965517,\n",
       "          0.04965517, 0.04965517, 0.04965517, 0.04965517, 0.04965517,\n",
       "          0.04965517, 0.04965517, 0.04965517, 0.04965517, 0.04965517,\n",
       "          0.04965517, 0.04965517, 0.05241379, 0.05241379, 0.05517241,\n",
       "          0.05517241, 0.05793103, 0.06068966, 0.06344828, 0.06344828,\n",
       "          0.06344828, 0.0662069 , 0.06896552, 0.06896552, 0.06896552,\n",
       "          0.06896552, 0.06896552, 0.06896552, 0.06896552, 0.06896552,\n",
       "          0.06896552, 0.07172414, 0.07172414, 0.07448276, 0.07724138,\n",
       "          0.08      , 0.08      , 0.08      , 0.08      , 0.08      ,\n",
       "          0.08      , 0.08      , 0.08      , 0.08      , 0.08      ,\n",
       "          0.08275862, 0.08275862, 0.08551724, 0.08551724, 0.08827586,\n",
       "          0.08827586, 0.08827586, 0.08827586, 0.08827586, 0.08827586,\n",
       "          0.08827586, 0.09103448, 0.09103448, 0.09103448, 0.09103448,\n",
       "          0.09103448, 0.0937931 , 0.0937931 , 0.0937931 , 0.0937931 ,\n",
       "          0.0937931 , 0.0937931 , 0.0937931 , 0.09655172, 0.09655172,\n",
       "          0.09655172, 0.09655172, 0.09655172, 0.09655172, 0.09655172,\n",
       "          0.09655172, 0.09655172, 0.09655172, 0.09655172, 0.09655172,\n",
       "          0.09655172, 0.09655172, 0.09655172, 0.09655172, 0.09655172,\n",
       "          0.09655172, 0.09931034, 0.09931034, 0.09931034, 0.09931034,\n",
       "          0.09931034, 0.09931034, 0.09931034, 0.09931034, 0.09931034,\n",
       "          0.09931034, 0.09931034, 0.09931034, 0.09931034, 0.09931034,\n",
       "          0.09931034, 0.09931034, 0.09931034, 0.09931034, 0.09931034,\n",
       "          0.09931034, 0.09931034, 0.09931034, 0.09931034, 0.09931034,\n",
       "          0.10206897, 0.10206897, 0.10206897, 0.10206897, 0.10206897,\n",
       "          0.10206897, 0.10206897, 0.10482759, 0.10482759, 0.10482759,\n",
       "          0.10482759, 0.10482759, 0.10482759, 0.10482759, 0.10758621,\n",
       "          0.10758621, 0.11034483, 0.11034483, 0.11034483, 0.11034483,\n",
       "          0.11034483, 0.11034483, 0.11310345, 0.11586207, 0.11862069,\n",
       "          0.11862069, 0.11862069, 0.11862069, 0.11862069, 0.11862069,\n",
       "          0.11862069, 0.11862069, 0.11862069, 0.11862069, 0.11862069,\n",
       "          0.11862069, 0.11862069, 0.11862069, 0.12137931, 0.12137931,\n",
       "          0.12413793, 0.12413793, 0.12413793, 0.12413793, 0.12689655,\n",
       "          0.12689655, 0.12965517, 0.12965517, 0.12965517, 0.13241379,\n",
       "          0.13241379, 0.13241379, 0.13241379, 0.13517241, 0.13793103,\n",
       "          0.13793103, 0.13793103, 0.13793103, 0.13793103, 0.13793103,\n",
       "          0.13793103, 0.13793103, 0.13793103, 0.14068966, 0.14068966,\n",
       "          0.14068966, 0.14068966, 0.14068966, 0.14068966, 0.14068966,\n",
       "          0.14068966, 0.14344828, 0.1462069 , 0.14896552, 0.14896552,\n",
       "          0.14896552, 0.14896552, 0.14896552, 0.14896552, 0.15172414,\n",
       "          0.15172414, 0.15448276, 0.15724138, 0.16      , 0.16275862,\n",
       "          0.16551724, 0.16551724, 0.16551724, 0.16827586, 0.16827586,\n",
       "          0.16827586, 0.17103448, 0.17103448, 0.17103448, 0.17103448,\n",
       "          0.17103448, 0.1737931 , 0.17655172, 0.17931034, 0.17931034,\n",
       "          0.18206897, 0.18206897, 0.18206897, 0.18206897, 0.18206897,\n",
       "          0.18206897, 0.18206897, 0.18206897, 0.18206897, 0.18206897,\n",
       "          0.18206897, 0.18206897, 0.18206897, 0.18206897, 0.18206897,\n",
       "          0.18206897, 0.18206897, 0.18206897, 0.18206897, 0.18206897,\n",
       "          0.18482759, 0.18482759, 0.18482759, 0.18758621, 0.18758621,\n",
       "          0.18758621, 0.18758621, 0.18758621, 0.19034483, 0.19034483,\n",
       "          0.19034483, 0.19034483, 0.19034483, 0.19034483, 0.19034483,\n",
       "          0.19034483, 0.19310345, 0.19310345, 0.19310345, 0.19310345,\n",
       "          0.19310345, 0.19310345, 0.19586207, 0.19586207, 0.19586207,\n",
       "          0.19586207, 0.19586207, 0.19586207, 0.19586207, 0.19586207,\n",
       "          0.19586207, 0.19586207, 0.19586207, 0.19862069, 0.19862069,\n",
       "          0.19862069, 0.20137931, 0.20137931, 0.20137931, 0.20137931,\n",
       "          0.20137931, 0.20413793, 0.20689655, 0.20689655, 0.20689655,\n",
       "          0.20965517, 0.20965517, 0.20965517, 0.20965517, 0.20965517,\n",
       "          0.20965517, 0.20965517, 0.20965517, 0.20965517, 0.21241379,\n",
       "          0.21241379, 0.21517241, 0.21793103, 0.21793103, 0.21793103,\n",
       "          0.21793103, 0.21793103, 0.21793103, 0.22068966, 0.22344828,\n",
       "          0.22344828, 0.22344828, 0.22344828, 0.22344828, 0.22344828,\n",
       "          0.22344828, 0.22344828, 0.22344828, 0.2262069 , 0.2262069 ,\n",
       "          0.2262069 , 0.22896552, 0.22896552, 0.23172414, 0.23172414,\n",
       "          0.23172414, 0.23172414, 0.23172414, 0.23172414, 0.23172414,\n",
       "          0.23172414, 0.23172414, 0.23172414, 0.23448276, 0.23724138,\n",
       "          0.23724138, 0.23724138, 0.23724138, 0.24      , 0.24275862,\n",
       "          0.24275862, 0.24551724, 0.24551724, 0.24551724, 0.24551724,\n",
       "          0.24827586, 0.24827586, 0.24827586, 0.24827586, 0.24827586,\n",
       "          0.24827586, 0.25103448, 0.25103448, 0.25103448, 0.25103448,\n",
       "          0.25103448, 0.25103448, 0.25103448, 0.2537931 , 0.2537931 ,\n",
       "          0.2537931 , 0.2537931 , 0.25655172, 0.25655172, 0.25655172,\n",
       "          0.25655172, 0.25931034, 0.25931034, 0.25931034, 0.25931034,\n",
       "          0.25931034, 0.26206897, 0.26482759, 0.26482759, 0.26482759,\n",
       "          0.26758621, 0.26758621, 0.26758621, 0.27034483, 0.27034483,\n",
       "          0.27034483, 0.27310345, 0.27586207, 0.27586207, 0.27862069,\n",
       "          0.28137931, 0.28137931, 0.28137931, 0.28413793, 0.28413793,\n",
       "          0.28413793, 0.28689655, 0.28689655, 0.28965517, 0.28965517,\n",
       "          0.28965517, 0.28965517, 0.29241379, 0.29517241, 0.29517241,\n",
       "          0.29517241, 0.29517241, 0.29793103, 0.29793103, 0.29793103,\n",
       "          0.29793103, 0.29793103, 0.29793103, 0.29793103, 0.29793103,\n",
       "          0.29793103, 0.30068966, 0.30068966, 0.30068966, 0.30068966,\n",
       "          0.30344828, 0.30344828, 0.30344828, 0.30344828, 0.3062069 ,\n",
       "          0.3062069 , 0.3062069 , 0.3062069 , 0.3062069 , 0.3062069 ,\n",
       "          0.3062069 , 0.30896552, 0.30896552, 0.30896552, 0.30896552,\n",
       "          0.30896552, 0.30896552, 0.30896552, 0.30896552, 0.30896552,\n",
       "          0.30896552, 0.30896552, 0.31172414, 0.31448276, 0.31724138,\n",
       "          0.31724138, 0.31724138, 0.31724138, 0.31724138, 0.31724138,\n",
       "          0.31724138, 0.31724138, 0.31724138, 0.31724138, 0.31724138]),\n",
       "   'Fb': array([5., 5., 5., 5., 5., 5., 5., 5., 5., 5., 5., 5., 5., 5., 5., 5., 5.,\n",
       "          5., 5., 5., 5., 5., 5., 5., 5., 5., 5., 5., 5., 5., 5., 5., 5., 5.,\n",
       "          5., 5., 5., 5., 5., 5., 5., 5., 5., 5., 5., 5., 5., 5., 5., 5., 5.,\n",
       "          5., 5., 5., 5., 5., 5., 5., 5., 5., 5., 5., 5., 5., 5., 5., 5., 5.,\n",
       "          5., 5., 5., 5., 5., 5., 5., 5., 5., 5., 5., 5., 5., 5., 5., 5., 5.,\n",
       "          5., 5., 5., 5., 5., 5., 5., 5., 5., 5., 5., 5., 5., 5., 5., 5., 5.,\n",
       "          5., 5., 5., 5., 5., 5., 5., 5., 5., 5., 5., 5., 5., 5., 5., 5., 5.,\n",
       "          5., 5., 5., 5., 5., 5., 5., 5., 5., 5., 5., 5., 5., 5., 5., 5., 5.,\n",
       "          5., 5., 5., 5., 5., 5., 5., 5., 5., 5., 5., 5., 5., 5., 5., 5., 5.,\n",
       "          5., 5., 5., 5., 5., 5., 5., 5., 5., 5., 5., 5., 5., 5., 5., 5., 5.,\n",
       "          5., 5., 5., 5., 5., 5., 5., 5., 5., 5., 5., 5., 5., 5., 5., 5., 5.,\n",
       "          5., 5., 5., 5., 5., 5., 5., 5., 5., 5., 5., 5., 5., 5., 5., 5., 5.,\n",
       "          5., 5., 5., 5., 5., 5., 5., 5., 5., 5., 5., 5., 5., 5., 5., 5., 5.,\n",
       "          5., 5., 5., 5., 5., 5., 5., 5., 5., 5., 5., 5., 5., 5., 5., 5., 5.,\n",
       "          5., 5., 5., 5., 5., 5., 5., 5., 5., 5., 5., 5., 5., 5., 5., 5., 5.,\n",
       "          5., 5., 5., 5., 5., 5., 5., 5., 5., 5., 5., 5., 5., 5., 5., 5., 5.,\n",
       "          5., 5., 5., 5., 5., 5., 5., 5., 5., 5., 5., 5., 5., 5., 5., 5., 5.,\n",
       "          5., 5., 5., 5., 5., 5., 5., 5., 5., 5., 5., 5., 5., 5., 5., 5., 5.,\n",
       "          5., 5., 5., 5., 5., 5., 5., 5., 5., 5., 5., 5., 5., 5., 5., 5., 5.,\n",
       "          5., 5., 5., 5., 5., 5., 5., 5., 5., 5., 5., 5., 5., 5., 5., 5., 5.,\n",
       "          5., 5., 5., 5., 5., 5., 5., 5., 5., 5., 5., 5., 5., 5., 5., 5., 5.,\n",
       "          5., 5., 5., 5., 5., 5., 5., 5., 5., 5., 5., 5., 5., 5., 5., 5., 5.,\n",
       "          5., 5., 5., 5., 5., 5., 5., 5., 5., 5., 5., 5., 5., 5., 5., 5., 5.,\n",
       "          5., 5., 5., 5., 5., 5., 5., 5., 5., 5., 5., 5., 5., 5., 5., 5., 5.,\n",
       "          5., 5., 5., 5., 5., 5., 5., 5., 5., 5., 5., 5., 5., 5., 5., 5., 5.,\n",
       "          5., 5., 5., 5., 5., 5., 5., 5., 5., 5., 5., 5., 5., 5., 5., 5., 5.,\n",
       "          5., 5., 5., 5., 5., 5., 5., 5., 5., 5., 5., 5., 5., 5., 5., 5., 5.,\n",
       "          5., 5., 5., 5., 5., 5., 5., 5., 5., 5., 5., 5., 5., 5., 5., 5., 5.,\n",
       "          5., 5., 5., 5., 5., 5., 5., 5., 5., 5., 5., 5., 5., 5., 5., 5., 5.,\n",
       "          5., 5., 5., 5., 5., 5., 5.]),\n",
       "   'precision': array([0.002, 0.002, 0.002, 0.002, 0.002, 0.002, 0.002, 0.002, 0.004,\n",
       "          0.006, 0.006, 0.006, 0.006, 0.006, 0.006, 0.006, 0.006, 0.008,\n",
       "          0.01 , 0.01 , 0.01 , 0.01 , 0.01 , 0.012, 0.012, 0.012, 0.012,\n",
       "          0.012, 0.012, 0.014, 0.016, 0.018, 0.018, 0.018, 0.018, 0.018,\n",
       "          0.018, 0.02 , 0.022, 0.022, 0.022, 0.022, 0.022, 0.024, 0.024,\n",
       "          0.024, 0.026, 0.028, 0.028, 0.028, 0.03 , 0.032, 0.032, 0.032,\n",
       "          0.032, 0.032, 0.032, 0.032, 0.032, 0.032, 0.032, 0.032, 0.034,\n",
       "          0.036, 0.036, 0.036, 0.036, 0.036, 0.036, 0.036, 0.036, 0.036,\n",
       "          0.036, 0.036, 0.036, 0.036, 0.036, 0.038, 0.038, 0.04 , 0.04 ,\n",
       "          0.042, 0.044, 0.046, 0.046, 0.046, 0.048, 0.05 , 0.05 , 0.05 ,\n",
       "          0.05 , 0.05 , 0.05 , 0.05 , 0.05 , 0.05 , 0.052, 0.052, 0.054,\n",
       "          0.056, 0.058, 0.058, 0.058, 0.058, 0.058, 0.058, 0.058, 0.058,\n",
       "          0.058, 0.058, 0.06 , 0.06 , 0.062, 0.062, 0.064, 0.064, 0.064,\n",
       "          0.064, 0.064, 0.064, 0.064, 0.066, 0.066, 0.066, 0.066, 0.066,\n",
       "          0.068, 0.068, 0.068, 0.068, 0.068, 0.068, 0.068, 0.07 , 0.07 ,\n",
       "          0.07 , 0.07 , 0.07 , 0.07 , 0.07 , 0.07 , 0.07 , 0.07 , 0.07 ,\n",
       "          0.07 , 0.07 , 0.07 , 0.07 , 0.07 , 0.07 , 0.07 , 0.072, 0.072,\n",
       "          0.072, 0.072, 0.072, 0.072, 0.072, 0.072, 0.072, 0.072, 0.072,\n",
       "          0.072, 0.072, 0.072, 0.072, 0.072, 0.072, 0.072, 0.072, 0.072,\n",
       "          0.072, 0.072, 0.072, 0.072, 0.074, 0.074, 0.074, 0.074, 0.074,\n",
       "          0.074, 0.074, 0.076, 0.076, 0.076, 0.076, 0.076, 0.076, 0.076,\n",
       "          0.078, 0.078, 0.08 , 0.08 , 0.08 , 0.08 , 0.08 , 0.08 , 0.082,\n",
       "          0.084, 0.086, 0.086, 0.086, 0.086, 0.086, 0.086, 0.086, 0.086,\n",
       "          0.086, 0.086, 0.086, 0.086, 0.086, 0.086, 0.088, 0.088, 0.09 ,\n",
       "          0.09 , 0.09 , 0.09 , 0.092, 0.092, 0.094, 0.094, 0.094, 0.096,\n",
       "          0.096, 0.096, 0.096, 0.098, 0.1  , 0.1  , 0.1  , 0.1  , 0.1  ,\n",
       "          0.1  , 0.1  , 0.1  , 0.1  , 0.102, 0.102, 0.102, 0.102, 0.102,\n",
       "          0.102, 0.102, 0.102, 0.104, 0.106, 0.108, 0.108, 0.108, 0.108,\n",
       "          0.108, 0.108, 0.11 , 0.11 , 0.112, 0.114, 0.116, 0.118, 0.12 ,\n",
       "          0.12 , 0.12 , 0.122, 0.122, 0.122, 0.124, 0.124, 0.124, 0.124,\n",
       "          0.124, 0.126, 0.128, 0.13 , 0.13 , 0.132, 0.132, 0.132, 0.132,\n",
       "          0.132, 0.132, 0.132, 0.132, 0.132, 0.132, 0.132, 0.132, 0.132,\n",
       "          0.132, 0.132, 0.132, 0.132, 0.132, 0.132, 0.132, 0.134, 0.134,\n",
       "          0.134, 0.136, 0.136, 0.136, 0.136, 0.136, 0.138, 0.138, 0.138,\n",
       "          0.138, 0.138, 0.138, 0.138, 0.138, 0.14 , 0.14 , 0.14 , 0.14 ,\n",
       "          0.14 , 0.14 , 0.142, 0.142, 0.142, 0.142, 0.142, 0.142, 0.142,\n",
       "          0.142, 0.142, 0.142, 0.142, 0.144, 0.144, 0.144, 0.146, 0.146,\n",
       "          0.146, 0.146, 0.146, 0.148, 0.15 , 0.15 , 0.15 , 0.152, 0.152,\n",
       "          0.152, 0.152, 0.152, 0.152, 0.152, 0.152, 0.152, 0.154, 0.154,\n",
       "          0.156, 0.158, 0.158, 0.158, 0.158, 0.158, 0.158, 0.16 , 0.162,\n",
       "          0.162, 0.162, 0.162, 0.162, 0.162, 0.162, 0.162, 0.162, 0.164,\n",
       "          0.164, 0.164, 0.166, 0.166, 0.168, 0.168, 0.168, 0.168, 0.168,\n",
       "          0.168, 0.168, 0.168, 0.168, 0.168, 0.17 , 0.172, 0.172, 0.172,\n",
       "          0.172, 0.174, 0.176, 0.176, 0.178, 0.178, 0.178, 0.178, 0.18 ,\n",
       "          0.18 , 0.18 , 0.18 , 0.18 , 0.18 , 0.182, 0.182, 0.182, 0.182,\n",
       "          0.182, 0.182, 0.182, 0.184, 0.184, 0.184, 0.184, 0.186, 0.186,\n",
       "          0.186, 0.186, 0.188, 0.188, 0.188, 0.188, 0.188, 0.19 , 0.192,\n",
       "          0.192, 0.192, 0.194, 0.194, 0.194, 0.196, 0.196, 0.196, 0.198,\n",
       "          0.2  , 0.2  , 0.202, 0.204, 0.204, 0.204, 0.206, 0.206, 0.206,\n",
       "          0.208, 0.208, 0.21 , 0.21 , 0.21 , 0.21 , 0.212, 0.214, 0.214,\n",
       "          0.214, 0.214, 0.216, 0.216, 0.216, 0.216, 0.216, 0.216, 0.216,\n",
       "          0.216, 0.216, 0.218, 0.218, 0.218, 0.218, 0.22 , 0.22 , 0.22 ,\n",
       "          0.22 , 0.222, 0.222, 0.222, 0.222, 0.222, 0.222, 0.222, 0.224,\n",
       "          0.224, 0.224, 0.224, 0.224, 0.224, 0.224, 0.224, 0.224, 0.224,\n",
       "          0.224, 0.226, 0.228, 0.23 , 0.23 , 0.23 , 0.23 , 0.23 , 0.23 ,\n",
       "          0.23 , 0.23 , 0.23 , 0.23 , 0.23 ]),\n",
       "   'recall': array([0.00444444, 0.00444444, 0.00444444, 0.00444444, 0.00444444,\n",
       "          0.00444444, 0.00444444, 0.00444444, 0.00888889, 0.01333333,\n",
       "          0.01333333, 0.01333333, 0.01333333, 0.01333333, 0.01333333,\n",
       "          0.01333333, 0.01333333, 0.01777778, 0.02222222, 0.02222222,\n",
       "          0.02222222, 0.02222222, 0.02222222, 0.02666667, 0.02666667,\n",
       "          0.02666667, 0.02666667, 0.02666667, 0.02666667, 0.03111111,\n",
       "          0.03555556, 0.04      , 0.04      , 0.04      , 0.04      ,\n",
       "          0.04      , 0.04      , 0.04444444, 0.04888889, 0.04888889,\n",
       "          0.04888889, 0.04888889, 0.04888889, 0.05333333, 0.05333333,\n",
       "          0.05333333, 0.05777778, 0.06222222, 0.06222222, 0.06222222,\n",
       "          0.06666667, 0.07111111, 0.07111111, 0.07111111, 0.07111111,\n",
       "          0.07111111, 0.07111111, 0.07111111, 0.07111111, 0.07111111,\n",
       "          0.07111111, 0.07111111, 0.07555556, 0.08      , 0.08      ,\n",
       "          0.08      , 0.08      , 0.08      , 0.08      , 0.08      ,\n",
       "          0.08      , 0.08      , 0.08      , 0.08      , 0.08      ,\n",
       "          0.08      , 0.08      , 0.08444444, 0.08444444, 0.08888889,\n",
       "          0.08888889, 0.09333333, 0.09777778, 0.10222222, 0.10222222,\n",
       "          0.10222222, 0.10666667, 0.11111111, 0.11111111, 0.11111111,\n",
       "          0.11111111, 0.11111111, 0.11111111, 0.11111111, 0.11111111,\n",
       "          0.11111111, 0.11555556, 0.11555556, 0.12      , 0.12444444,\n",
       "          0.12888889, 0.12888889, 0.12888889, 0.12888889, 0.12888889,\n",
       "          0.12888889, 0.12888889, 0.12888889, 0.12888889, 0.12888889,\n",
       "          0.13333333, 0.13333333, 0.13777778, 0.13777778, 0.14222222,\n",
       "          0.14222222, 0.14222222, 0.14222222, 0.14222222, 0.14222222,\n",
       "          0.14222222, 0.14666667, 0.14666667, 0.14666667, 0.14666667,\n",
       "          0.14666667, 0.15111111, 0.15111111, 0.15111111, 0.15111111,\n",
       "          0.15111111, 0.15111111, 0.15111111, 0.15555556, 0.15555556,\n",
       "          0.15555556, 0.15555556, 0.15555556, 0.15555556, 0.15555556,\n",
       "          0.15555556, 0.15555556, 0.15555556, 0.15555556, 0.15555556,\n",
       "          0.15555556, 0.15555556, 0.15555556, 0.15555556, 0.15555556,\n",
       "          0.15555556, 0.16      , 0.16      , 0.16      , 0.16      ,\n",
       "          0.16      , 0.16      , 0.16      , 0.16      , 0.16      ,\n",
       "          0.16      , 0.16      , 0.16      , 0.16      , 0.16      ,\n",
       "          0.16      , 0.16      , 0.16      , 0.16      , 0.16      ,\n",
       "          0.16      , 0.16      , 0.16      , 0.16      , 0.16      ,\n",
       "          0.16444444, 0.16444444, 0.16444444, 0.16444444, 0.16444444,\n",
       "          0.16444444, 0.16444444, 0.16888889, 0.16888889, 0.16888889,\n",
       "          0.16888889, 0.16888889, 0.16888889, 0.16888889, 0.17333333,\n",
       "          0.17333333, 0.17777778, 0.17777778, 0.17777778, 0.17777778,\n",
       "          0.17777778, 0.17777778, 0.18222222, 0.18666667, 0.19111111,\n",
       "          0.19111111, 0.19111111, 0.19111111, 0.19111111, 0.19111111,\n",
       "          0.19111111, 0.19111111, 0.19111111, 0.19111111, 0.19111111,\n",
       "          0.19111111, 0.19111111, 0.19111111, 0.19555556, 0.19555556,\n",
       "          0.2       , 0.2       , 0.2       , 0.2       , 0.20444444,\n",
       "          0.20444444, 0.20888889, 0.20888889, 0.20888889, 0.21333333,\n",
       "          0.21333333, 0.21333333, 0.21333333, 0.21777778, 0.22222222,\n",
       "          0.22222222, 0.22222222, 0.22222222, 0.22222222, 0.22222222,\n",
       "          0.22222222, 0.22222222, 0.22222222, 0.22666667, 0.22666667,\n",
       "          0.22666667, 0.22666667, 0.22666667, 0.22666667, 0.22666667,\n",
       "          0.22666667, 0.23111111, 0.23555556, 0.24      , 0.24      ,\n",
       "          0.24      , 0.24      , 0.24      , 0.24      , 0.24444444,\n",
       "          0.24444444, 0.24888889, 0.25333333, 0.25777778, 0.26222222,\n",
       "          0.26666667, 0.26666667, 0.26666667, 0.27111111, 0.27111111,\n",
       "          0.27111111, 0.27555556, 0.27555556, 0.27555556, 0.27555556,\n",
       "          0.27555556, 0.28      , 0.28444444, 0.28888889, 0.28888889,\n",
       "          0.29333333, 0.29333333, 0.29333333, 0.29333333, 0.29333333,\n",
       "          0.29333333, 0.29333333, 0.29333333, 0.29333333, 0.29333333,\n",
       "          0.29333333, 0.29333333, 0.29333333, 0.29333333, 0.29333333,\n",
       "          0.29333333, 0.29333333, 0.29333333, 0.29333333, 0.29333333,\n",
       "          0.29777778, 0.29777778, 0.29777778, 0.30222222, 0.30222222,\n",
       "          0.30222222, 0.30222222, 0.30222222, 0.30666667, 0.30666667,\n",
       "          0.30666667, 0.30666667, 0.30666667, 0.30666667, 0.30666667,\n",
       "          0.30666667, 0.31111111, 0.31111111, 0.31111111, 0.31111111,\n",
       "          0.31111111, 0.31111111, 0.31555556, 0.31555556, 0.31555556,\n",
       "          0.31555556, 0.31555556, 0.31555556, 0.31555556, 0.31555556,\n",
       "          0.31555556, 0.31555556, 0.31555556, 0.32      , 0.32      ,\n",
       "          0.32      , 0.32444444, 0.32444444, 0.32444444, 0.32444444,\n",
       "          0.32444444, 0.32888889, 0.33333333, 0.33333333, 0.33333333,\n",
       "          0.33777778, 0.33777778, 0.33777778, 0.33777778, 0.33777778,\n",
       "          0.33777778, 0.33777778, 0.33777778, 0.33777778, 0.34222222,\n",
       "          0.34222222, 0.34666667, 0.35111111, 0.35111111, 0.35111111,\n",
       "          0.35111111, 0.35111111, 0.35111111, 0.35555556, 0.36      ,\n",
       "          0.36      , 0.36      , 0.36      , 0.36      , 0.36      ,\n",
       "          0.36      , 0.36      , 0.36      , 0.36444444, 0.36444444,\n",
       "          0.36444444, 0.36888889, 0.36888889, 0.37333333, 0.37333333,\n",
       "          0.37333333, 0.37333333, 0.37333333, 0.37333333, 0.37333333,\n",
       "          0.37333333, 0.37333333, 0.37333333, 0.37777778, 0.38222222,\n",
       "          0.38222222, 0.38222222, 0.38222222, 0.38666667, 0.39111111,\n",
       "          0.39111111, 0.39555556, 0.39555556, 0.39555556, 0.39555556,\n",
       "          0.4       , 0.4       , 0.4       , 0.4       , 0.4       ,\n",
       "          0.4       , 0.40444444, 0.40444444, 0.40444444, 0.40444444,\n",
       "          0.40444444, 0.40444444, 0.40444444, 0.40888889, 0.40888889,\n",
       "          0.40888889, 0.40888889, 0.41333333, 0.41333333, 0.41333333,\n",
       "          0.41333333, 0.41777778, 0.41777778, 0.41777778, 0.41777778,\n",
       "          0.41777778, 0.42222222, 0.42666667, 0.42666667, 0.42666667,\n",
       "          0.43111111, 0.43111111, 0.43111111, 0.43555556, 0.43555556,\n",
       "          0.43555556, 0.44      , 0.44444444, 0.44444444, 0.44888889,\n",
       "          0.45333333, 0.45333333, 0.45333333, 0.45777778, 0.45777778,\n",
       "          0.45777778, 0.46222222, 0.46222222, 0.46666667, 0.46666667,\n",
       "          0.46666667, 0.46666667, 0.47111111, 0.47555556, 0.47555556,\n",
       "          0.47555556, 0.47555556, 0.48      , 0.48      , 0.48      ,\n",
       "          0.48      , 0.48      , 0.48      , 0.48      , 0.48      ,\n",
       "          0.48      , 0.48444444, 0.48444444, 0.48444444, 0.48444444,\n",
       "          0.48888889, 0.48888889, 0.48888889, 0.48888889, 0.49333333,\n",
       "          0.49333333, 0.49333333, 0.49333333, 0.49333333, 0.49333333,\n",
       "          0.49333333, 0.49777778, 0.49777778, 0.49777778, 0.49777778,\n",
       "          0.49777778, 0.49777778, 0.49777778, 0.49777778, 0.49777778,\n",
       "          0.49777778, 0.49777778, 0.50222222, 0.50666667, 0.51111111,\n",
       "          0.51111111, 0.51111111, 0.51111111, 0.51111111, 0.51111111,\n",
       "          0.51111111, 0.51111111, 0.51111111, 0.51111111, 0.51111111])}})"
      ]
     },
     "execution_count": 57,
     "metadata": {},
     "output_type": "execute_result"
    }
   ],
   "source": [
    "print(traite[0])\n",
    "#traite_polonaise = {0: transformation_query_to_postfixe(\"comput scienc\")}\n",
    "evaluate_boolean_model({0: \"comput scienc\".split()}, index_document, relevance_judgments, \"AND\")"
   ]
  },
  {
   "cell_type": "code",
   "execution_count": 74,
   "metadata": {
    "hidden": true
   },
   "outputs": [],
   "source": [
    "def load_filtered_relevance_judgments(filename, requests):\n",
    "    relevance_judgments = {}\n",
    "    # A completer\n",
    "    with open(filename) as f:\n",
    "        doc = f.readlines()\n",
    "        for request in requests:\n",
    "            relevance_judgments[request] = []\n",
    "            for line in doc:\n",
    "                if line[0] == str(0) and line.rstrip('\\n').split('.')[-1] == \"html\":\n",
    "                    relevance_judgments[request].append(line[2:].rstrip('\\n'))\n",
    "    return relevance_judgments\n",
    "\n",
    "filtered_relevance_judgments = load_filtered_relevance_judgments('../CS276/Queries/dev_output/8.out', requests)"
   ]
  },
  {
   "cell_type": "code",
   "execution_count": 75,
   "metadata": {
    "hidden": true
   },
   "outputs": [
    {
     "data": {
      "text/plain": [
       "{0: ['aaalab.stanford.edu_child_development_dev_reasoning.html',\n",
       "  'aaalab.stanford.edu_teachable.html',\n",
       "  'adl.stanford.edu_people_YoungjunKim.html',\n",
       "  'aero-comlab.stanford.edu_sichoi_index.html',\n",
       "  'aero.stanford.edu_Lindbergh_old%2520files_intro.html',\n",
       "  'ai.stanford.edu_contact.html',\n",
       "  'ai.stanford.edu_forms.html',\n",
       "  'ai.stanford.edu_links.html',\n",
       "  'ai.stanford.edu_meetings.html',\n",
       "  'ai.stanford.edu_people.html',\n",
       "  'ai.stanford.edu_users_sahami_CS2013_committee.html',\n",
       "  'arith.stanford.edu_book.html',\n",
       "  'arith.stanford.edu_people.html',\n",
       "  'arpes.stanford.edu_inthenews_topological.html',\n",
       "  'arts0910.stanford.edu_people_grad.html',\n",
       "  'asia.stanford.edu_events_fall02_bio_liuBio.html',\n",
       "  'asia.stanford.edu_events_fall05_bio_OzzieDiaz-Bio.html',\n",
       "  'asia.stanford.edu_events_spring05_ee402t_bio_bajajBio.html',\n",
       "  'asia.stanford.edu_events_spring06_ee402t_bio_chua.html',\n",
       "  'atbweb.stanford.edu_atb_images_brunger_cv.html',\n",
       "  'bdml.stanford.edu_twiki_bin_view_Haptics_MotionDisplayKAUST.html',\n",
       "  'beckman.stanford.edu_services.html',\n",
       "  'bejerano.stanford.edu_directions.html',\n",
       "  'bejerano.stanford.edu_openings.html',\n",
       "  'bejerano.stanford.edu_people.html',\n",
       "  'bejerano.stanford.edu_pi.html',\n",
       "  'bejerano.stanford.edu_press.html',\n",
       "  'bejerano.stanford.edu_protocols.html',\n",
       "  'bejerano.stanford.edu_resources.html',\n",
       "  'bioengineering.stanford.edu_community_relateddepts.html',\n",
       "  'bioengineering.stanford.edu_faculty_boahen.html',\n",
       "  'biox.stanford.edu_about_index.html',\n",
       "  'biox.stanford.edu_clark_altman.html',\n",
       "  'biox.stanford.edu_clark_batzoglou.html',\n",
       "  'biox.stanford.edu_clark_boahen.html',\n",
       "  'biox.stanford.edu_clark_faculty.html',\n",
       "  'biox.stanford.edu_clark_faculty_p2.html',\n",
       "  'biox.stanford.edu_clark_faculty_p3.html',\n",
       "  'biox.stanford.edu_clark_guibas.html',\n",
       "  'biox.stanford.edu_clark_khatib.html',\n",
       "  'biox.stanford.edu_clark_latombe.html',\n",
       "  'biox.stanford.edu_clark_levitt.html',\n",
       "  'biox.stanford.edu_clark_pande.html',\n",
       "  'biox.stanford.edu_clark_sallisbury.html',\n",
       "  'biox.stanford.edu_faculty_affiliates_l.html',\n",
       "  'biox.stanford.edu_faculty_faculty_affiliates_depts.html',\n",
       "  'biox.stanford.edu_grant_fellows_asimenos.html',\n",
       "  'biox.stanford.edu_grant_fellows_camarillo.html',\n",
       "  'biox.stanford.edu_grant_fellows_lau.html',\n",
       "  'biox.stanford.edu_grant_fellows_meltzer.html',\n",
       "  'biox.stanford.edu_grant_fellows_wenger.html',\n",
       "  'biox.stanford.edu_grant_fellows_wilt.html',\n",
       "  'biox.stanford.edu_grant_fs_grad_0506.html',\n",
       "  'biox.stanford.edu_grant_fs_grad_0607.html',\n",
       "  'biox.stanford.edu_grant_fs_grad_0708.html',\n",
       "  'biox.stanford.edu_grant_iip_about.html',\n",
       "  'biox.stanford.edu_grant_iip_round6.html',\n",
       "  'biox.stanford.edu_news_2011events_july.html',\n",
       "  'bmi.stanford.edu_biomedical-informatics_history-program.html',\n",
       "  'bmi.stanford.edu_people-directory_exec.html',\n",
       "  'boole.stanford.edu_pratt.html',\n",
       "  'cancerbio.stanford.edu_History_about-cancer-systems.html',\n",
       "  'captology.stanford.edu_teaching_about-teaching.html',\n",
       "  'cbis.stanford.edu_education_residency_programs.html',\n",
       "  'cbis.stanford.edu_events_MIseminar.html',\n",
       "  'ccsb.stanford.edu_events_biomodclub.html',\n",
       "  'cee.stanford.edu_about_atmoEnergy.html',\n",
       "  'cee.stanford.edu_current_orientation.html',\n",
       "  'cee.stanford.edu_current_phd_qual.html',\n",
       "  'cee.stanford.edu_programs_archdesign_program_index.html',\n",
       "  'cee.stanford.edu_programs_efmh_seminars_colloquia2011.html',\n",
       "  'cee.stanford.edu_programs_efmh_seminars_efml_nooners.html',\n",
       "  'cee.stanford.edu_programs_efmh_seminars_index.html',\n",
       "  'cee.stanford.edu_programs_efmh_students_index.html',\n",
       "  'cee.stanford.edu_programs_efml_seminars_efml_nooners.html',\n",
       "  'cee.stanford.edu_programs_efml_seminars_index.html',\n",
       "  'cee.stanford.edu_programs_seg_consideringseg_msgeo.html',\n",
       "  'cee.stanford.edu_programs_seg_consideringseg_msse.html',\n",
       "  'cee.stanford.edu_programs_seg_consideringseg_secourses.html',\n",
       "  'cee.stanford.edu_programs_seg_research_enginfo.html',\n",
       "  'cee.stanford.edu_programs_seg_research_index.html',\n",
       "  'cee.stanford.edu_sitemap.html',\n",
       "  'cheme.stanford.edu_faculty_nanotech.html',\n",
       "  'chime.stanford.edu_people.html',\n",
       "  'cis-old.stanford.edu_news_glossary.html',\n",
       "  'cis-old.stanford.edu_news_websitessummer.html',\n",
       "  'cis.stanford.edu_events_fall_09_day2.html',\n",
       "  'cis.stanford.edu_structure_tomorrowprof.html',\n",
       "  'clinicalinformatics.stanford.edu_background.html',\n",
       "  'cll.stanford.edu_symposia_creativity_schedule.html',\n",
       "  'codex.stanford.edu_arredondo.html',\n",
       "  'codex.stanford.edu_baine.html',\n",
       "  'codex.stanford.edu_cahan.html',\n",
       "  'codex.stanford.edu_contissa.html',\n",
       "  'codex.stanford.edu_dolin.html',\n",
       "  'codex.stanford.edu_gunst.html',\n",
       "  'codex.stanford.edu_kahana.html',\n",
       "  'codex.stanford.edu_lai.html',\n",
       "  'codex.stanford.edu_lee.html',\n",
       "  'codex.stanford.edu_newman.html',\n",
       "  'codex.stanford.edu_people.html',\n",
       "  'codex.stanford.edu_poulshock.html',\n",
       "  'codex.stanford.edu_puig.html',\n",
       "  'codex.stanford.edu_rlee.html',\n",
       "  'collectives.stanford.edu_CDoCS03_index.html',\n",
       "  'compbio.stanford.edu_courses.html',\n",
       "  'compbio.stanford.edu_links.html',\n",
       "  'cpchanglab.stanford.edu_membersindex.html',\n",
       "  'crc.stanford.edu_BAST_huffman.html',\n",
       "  'crc.stanford.edu_ejmf_donors.html',\n",
       "  'crc.stanford.edu_ejmf_ejm.html',\n",
       "  'crc.stanford.edu_ejmf_professors.html',\n",
       "  'credibility.stanford.edu_publications.html',\n",
       "  'credo.stanford.edu_aboutStaff-Hodges.html',\n",
       "  'crypto.stanford.edu_TIPPI_first_boneh.html']}"
      ]
     },
     "execution_count": 75,
     "metadata": {},
     "output_type": "execute_result"
    }
   ],
   "source": [
    "filtered_relevance_judgments"
   ]
  },
  {
   "cell_type": "code",
   "execution_count": 76,
   "metadata": {
    "hidden": true
   },
   "outputs": [
    {
     "name": "stdout",
     "output_type": "stream",
     "text": [
      "['comput', 'AND', 'scienc']\n"
     ]
    },
    {
     "data": {
      "text/plain": [
       "(['biox.stanford.edu_clark_latombe.html',\n",
       "  'biox.stanford.edu_clark_zare.html',\n",
       "  'bioethics.stanford.edu_education_bemh_committee.html',\n",
       "  'annualreport.stanford.edu_2011_chairletter.html',\n",
       "  'bdml.stanford.edu_twiki_bin_view_Rise_SpinyBot.html',\n",
       "  'cheme.stanford.edu_alumni_InMemoriam.html',\n",
       "  'biox.stanford.edu_forum_index.html',\n",
       "  'cisl.stanford.edu_organization_about_gaba.html',\n",
       "  'cll.stanford.edu_symposia_creativity_schedule.html',\n",
       "  'adl.stanford.edu_people_YoungjunKim.html',\n",
       "  'cmgm.stanford.edu_biochem_harbury_publications.html',\n",
       "  'cmgm.stanford.edu_micro_fac_greenberg.html',\n",
       "  'cancer.stanford.edu_patient_care_amenities_patientBilling.html',\n",
       "  'cee.stanford.edu_seminars_index.html',\n",
       "  'ai.stanford.edu_users_sahami_CS2013_documents.html',\n",
       "  'biochem.stanford.edu_Job_Openings.html',\n",
       "  'clinicalinformatics.stanford.edu_projects_anesthesia.html',\n",
       "  'cee.stanford.edu_programs_efmh_seminars_efml_nooners.html',\n",
       "  'biox.stanford.edu_clark_faculty.html',\n",
       "  'arith.stanford.edu_snap.html',\n",
       "  'cee.stanford.edu_programs_atmosenergy_degrees_masters.html',\n",
       "  'biox.stanford.edu_about_history.html',\n",
       "  'asia.stanford.edu_events_Spring04_bios_ladermanBio.html',\n",
       "  'biox.stanford.edu_clark_faculty_p2.html',\n",
       "  'arpes.stanford.edu_inthenews_english.html',\n",
       "  'bdml.stanford.edu_twiki_bin_view_Haptics_HapticsForGaitRetraining.html',\n",
       "  'bmecs.stanford.edu_2011_html_bmecs-keynote.html',\n",
       "  'bioengineering.stanford.edu_research_biomeddevice.html',\n",
       "  'cneec.stanford.edu_facilities_index.html',\n",
       "  'codex.stanford.edu_poulshock.html',\n",
       "  'codex.stanford.edu_contissa.html',\n",
       "  'biox.stanford.edu_clark_guibas.html',\n",
       "  'biox.stanford.edu_about_exec_committee.html',\n",
       "  'cneec.stanford.edu_programs_researchopps.html',\n",
       "  'bloodcenter.stanford.edu_news_inventory.html',\n",
       "  'artist-registry.stanford.edu_html_Stermer.html',\n",
       "  'captology.stanford.edu_about_about-the-lab-1.html',\n",
       "  'cee.stanford.edu_current_phd_qual.html',\n",
       "  'biox.stanford.edu_clark_batzoglou.html',\n",
       "  'creees.stanford.edu_about_contact.html',\n",
       "  'cis.stanford.edu_events_spring_09_day2.html',\n",
       "  'creees.stanford.edu_events_sess2staging.html',\n",
       "  'creees.stanford.edu_events_ukraine10_11.html',\n",
       "  'bioengineering.stanford.edu_community_relateddepts.html',\n",
       "  'arpes.stanford.edu_research_timeresolved.html',\n",
       "  'creees.stanford.edu_events_levi.html',\n",
       "  'codex.stanford.edu_lee.html',\n",
       "  'cee.stanford.edu_programs_efml_seminars_index.html',\n",
       "  'bmi.stanford.edu_research_featured-research.html',\n",
       "  'crgp.stanford.edu_news_crgp_david_altshuler_appointed_as_visiting_scholar.html',\n",
       "  'aero-comlab.stanford.edu_sichoi_index.html',\n",
       "  'cancerbio.stanford.edu_History_about-cancer-systems.html',\n",
       "  'creees.stanford.edu_academic_stanford-in-moscow.html',\n",
       "  'bentgroup.stanford.edu_stacey.html',\n",
       "  'alumni.gsb.stanford.edu_women_index.html',\n",
       "  'cmgm.stanford.edu_biochem201_genome.html',\n",
       "  'biox.stanford.edu_news_workshop-tc.html',\n",
       "  'cee.stanford.edu_programs_efmh_faculty_index.html',\n",
       "  'bioethics.stanford.edu_arts_ProgramPeople.html',\n",
       "  'creees.stanford.edu_events_fixer.html',\n",
       "  'biox.stanford.edu_grant_fellows_wong.html',\n",
       "  'cneec.stanford.edu_programs_outreach.html',\n",
       "  'credo.stanford.edu_aboutStaff-Hodges.html',\n",
       "  'biox.stanford.edu_grant_iip_about.html',\n",
       "  'coe.stanford.edu_pre-med_admissions.html',\n",
       "  'ashleylab.stanford.edu_tools_tools_synthetic_index.html',\n",
       "  'codex.stanford.edu_surden.html',\n",
       "  'biochem158.stanford.edu_Stem%2520Cells.html',\n",
       "  'cee.stanford.edu_programs_seg_consideringseg_engdeg.html',\n",
       "  'cancerbio.stanford.edu_History_about-cancerbio.html',\n",
       "  'biox.stanford.edu_news_2011events_may.html',\n",
       "  'cee.stanford.edu_programs_atmosenergy_index.html',\n",
       "  'cee.stanford.edu_research_ees.html',\n",
       "  'biox.stanford.edu_news_index.html',\n",
       "  'creees.stanford.edu_events_starr.html',\n",
       "  'asia.stanford.edu_events_Spring04_bios_yanBio.html',\n",
       "  'cneec.stanford.edu_tutorials_synchrotron_techniques_06302011.html',\n",
       "  'biox.stanford.edu_faculty_affiliates_l.html',\n",
       "  'biox.stanford.edu_grant_fs_grad_0910.html',\n",
       "  'arts0910.stanford.edu_people_grad.html',\n",
       "  'cee.stanford.edu_programs_seg_currentstudents_labstudents.html',\n",
       "  'bejerano.stanford.edu_pi.html',\n",
       "  'codex.stanford.edu_puig.html',\n",
       "  'biox.stanford.edu_clark_boahen.html',\n",
       "  'cee.stanford.edu_programs_construction_current_internships.html',\n",
       "  'corporate.stanford.edu_recruiting_index.html',\n",
       "  'asia.stanford.edu_events_fall05_bio_OzzieDiaz-Bio.html',\n",
       "  'bmi.stanford.edu_people-directory_exec.html',\n",
       "  'bartholomew.stanford.edu_authors_algazel.html',\n",
       "  'bartholomew.stanford.edu_ages.html',\n",
       "  'cneec.stanford.edu_tutorials_index.html',\n",
       "  'artist-registry.stanford.edu_html_html2_Sloan.html',\n",
       "  'comm.stanford.edu_mcclatchy_2003_spr.html',\n",
       "  'catnet.stanford.edu_articles_s_n_facts.html',\n",
       "  'bioengineering.stanford.edu_research_facilities.html',\n",
       "  'biox.stanford.edu_grant_r5_iip_sylvester.html',\n",
       "  'ai.stanford.edu_users_sahami_CS2013_committee.html',\n",
       "  'biochem158.stanford.edu_Human%2520Genome.html',\n",
       "  'cis.stanford.edu_events_fall_09_day2.html',\n",
       "  'ai.stanford.edu_people.html',\n",
       "  'biox.stanford.edu_clark_sallisbury.html',\n",
       "  'cbis.stanford.edu_people_seedgrants.html',\n",
       "  'creees.stanford.edu_events_sysyn.html',\n",
       "  'cheme.stanford.edu_prospective_students_curriculum.html',\n",
       "  'clinicalinformatics.stanford.edu_research_oncoshare.html',\n",
       "  'cee.stanford.edu_programs_archdesign_events_index.html',\n",
       "  'creees.stanford.edu_events_central-asia-film.html',\n",
       "  'biochemistry.stanford.edu_research_collaborators.html',\n",
       "  'bartholomew.stanford.edu_authors_hildegard.html',\n",
       "  'bioengineering.stanford.edu_community_support.html',\n",
       "  'cee.stanford.edu_programs_archdesign_program_index.html',\n",
       "  'biochem.stanford.edu_admissionsSBD.html',\n",
       "  'clinicalinformatics.stanford.edu_background.html',\n",
       "  'biochem158.stanford.edu_finishing.html',\n",
       "  'biox.stanford.edu_grant_fellows_wilt.html',\n",
       "  'bartholomew.stanford.edu_authors_richardrufus.html',\n",
       "  'bartholomew.stanford.edu_authors_gertrude.html',\n",
       "  'biox.stanford.edu_about_biosci_council.html',\n",
       "  'credo.stanford.edu_aboutStaff-Raymond.html',\n",
       "  'cee.stanford.edu_programs_construction_current_advisors_index.html',\n",
       "  'cnsvp.stanford.edu_studies_literature.html',\n",
       "  'cpchanglab.stanford.edu_membersindex.html',\n",
       "  'arpes.stanford.edu_research.html',\n",
       "  'cneec.stanford.edu_tutorials_plasmonics_02142011.html',\n",
       "  'ashleylab.stanford.edu_contactus.html',\n",
       "  'aero-comlab.stanford.edu_andysc_index.html',\n",
       "  'arpes.stanford.edu_inthenews_topological.html',\n",
       "  'chenglab.stanford.edu_people_Emy.html',\n",
       "  'cee.stanford.edu_programs_construction_who_cem-cee.html',\n",
       "  'cee.stanford.edu_programs_archdesign_programVideo.html',\n",
       "  'cneec.stanford.edu_contact_index.html',\n",
       "  'artist-registry.stanford.edu_html_Zittin.html',\n",
       "  'chen.stanford.edu_links.html',\n",
       "  'crc.stanford.edu_ejmf_professors.html',\n",
       "  'ccis.stanford.edu_people.html',\n",
       "  'biox.stanford.edu_clark_brunger.html',\n",
       "  'changlab.stanford.edu_people.html',\n",
       "  'asia.stanford.edu_events_spring02_bio_soneBio.html',\n",
       "  'asia.stanford.edu_events_fall03_bio_forbesBio.html',\n",
       "  'beckman.stanford.edu_history.html',\n",
       "  'brownlab.stanford.edu_Alumni_Viola_Ellison.html',\n",
       "  'cee.stanford.edu_programs_archdesign_about_index.html',\n",
       "  'cee.stanford.edu_programs_construction_industry_cInstitute_members.html',\n",
       "  'cancer.stanford.edu_research_populationsci_BugosProfile.html',\n",
       "  'cneec.stanford.edu_research_trg3.html',\n",
       "  'bartholomew.stanford.edu_authors_averroes.html',\n",
       "  'cee.stanford.edu_about_waterEnvi.html',\n",
       "  'creees.stanford.edu_events_Fall10.html',\n",
       "  'creees.stanford.edu_events_chalbi.html',\n",
       "  'adl.stanford.edu_people_ThomasEconomon.html',\n",
       "  'cee.stanford.edu_programs_construction_current_class_sched.html',\n",
       "  'codex.stanford.edu_arredondo.html',\n",
       "  'biochem.stanford.edu_newsSBD.html',\n",
       "  'bio84.stanford.edu_03%2520Human%2520Genome.html',\n",
       "  'creees.stanford.edu_grants_summer-undergraduate.html',\n",
       "  'cee.stanford.edu_programs_construction_current_advisors_advisors.html',\n",
       "  'biox.stanford.edu_news_2011events_june.html',\n",
       "  'biox.stanford.edu_grant_fellows_vanDersarl.html',\n",
       "  'conte.stanford.edu_administration.html',\n",
       "  'bmi.stanford.edu_biomedical-informatics_jobs.html',\n",
       "  'artist-registry.stanford.edu_html_Gaede.html',\n",
       "  'aero-comlab.stanford.edu_mharbeck_index.html',\n",
       "  'aero.stanford.edu_People_Sean.html',\n",
       "  'casb.stanford.edu_dorfmanlecture_index.html',\n",
       "  'arts0910.stanford.edu_parts_anna.html',\n",
       "  'bingschool.stanford.edu_researchpub_cdweck.html',\n",
       "  'biox.stanford.edu_grant_r5_iip_fontaine.html',\n",
       "  'cmgm.stanford.edu_pbrown_Lab_member_profiles_Dan_Riordan.html',\n",
       "  'asia.stanford.edu_people_dasher.html',\n",
       "  'bioel.stanford.edu_CIPer_figure_s5.html',\n",
       "  'cee.stanford.edu_programs_efml_index.html',\n",
       "  'cmgm.stanford.edu_contact.html',\n",
       "  'cancer.stanford.edu_research_populationsci_McGuireProfile.html',\n",
       "  'aaalab.stanford.edu_face.html',\n",
       "  'chicory.stanford.edu_satyaki_research_TarProducerConsumer.html',\n",
       "  'biox.stanford.edu_clark_levitt.html',\n",
       "  'communication.stanford.edu_mcclatchy_2000_spr.html',\n",
       "  'biox.stanford.edu_news_2008events_jan.html',\n",
       "  'cneec.stanford.edu_faculty_photos.html',\n",
       "  'bentgroup.stanford.edu_research.html',\n",
       "  'bioadd.stanford.edu_people_zhou.html',\n",
       "  'bioethics.stanford.edu_people_affiliates.html',\n",
       "  'bmi.stanford.edu_biomedical-informatics_history-program.html',\n",
       "  'cheme.stanford.edu_prospective_students_whatis_cheme.html',\n",
       "  'credo.stanford.edu_aboutStaff-Mazzola.html',\n",
       "  'ai.stanford.edu_users_sahami_CS2013_overview.html',\n",
       "  'creees.stanford.edu_events_Nickell.html',\n",
       "  'cee.stanford.edu_programs_construction_current_organizations.html',\n",
       "  'asia.stanford.edu_events_Hitachi_Oct04_bios_nishiBio.html',\n",
       "  'cis.stanford.edu_structure_tomorrowprof.html',\n",
       "  'bartholomew.stanford.edu_scholasticism.html',\n",
       "  'aero.stanford.edu_Lindbergh_old%2520files_intro.html',\n",
       "  'cee.stanford.edu_programs_construction_current_ta.application.form.html',\n",
       "  'aaalab.stanford.edu_imagery.html',\n",
       "  'arpes.stanford.edu_research_combinedPVthermo.html',\n",
       "  'biox.stanford.edu_faculty_faculty_themes_intro.html',\n",
       "  'aero-comlab.stanford.edu_psahu_index.html',\n",
       "  'asia.stanford.edu_events_spring05_ee402t_bio_bajajBio.html',\n",
       "  'cee.stanford.edu_programs_efmh_seminars_colloquia2011.html',\n",
       "  'credibility.stanford.edu_publications.html',\n",
       "  'clinicalinformatics.stanford.edu_mission.html',\n",
       "  'cegelskilab.stanford.edu_outreach.html',\n",
       "  'aramis.stanford.edu_investigators.html',\n",
       "  'aero-comlab.stanford.edu_jameson_collaborators.html',\n",
       "  'bartholomew.stanford.edu_authors_rogerbacon.html',\n",
       "  'childpsychiatry.stanford.edu_contacts.html',\n",
       "  'creees.stanford.edu_about_history.html',\n",
       "  'aero-comlab.stanford.edu_jameson_lectures.html',\n",
       "  'arpes.stanford.edu_research_stronglycorrelatedelectrons.html',\n",
       "  'aaalab.stanford.edu_complex.html',\n",
       "  'bmi.stanford.edu_people-directory_distance-education-alums-biomedical-informatics.html',\n",
       "  'cee.stanford.edu_programs_construction_what_awards.html',\n",
       "  'creees.stanford.edu_grants_index.html',\n",
       "  'biox.stanford.edu_about_index.html',\n",
       "  'credo.stanford.edu_aboutStaff-Dickey.html',\n",
       "  'cis-old.stanford.edu_news_glossary.html',\n",
       "  'bingschool.stanford.edu_researchpub_eclark.html',\n",
       "  'cneec.stanford.edu_about_index.html',\n",
       "  'aaalab.stanford.edu_development.html',\n",
       "  'cee.stanford.edu_current_orientation.html',\n",
       "  'changlab.stanford.edu_alumni.html',\n",
       "  'cee.stanford.edu_programs_seg_consideringseg_secourses.html',\n",
       "  'biochem118.stanford.edu_projects-2008.html',\n",
       "  'clinicalinformatics.stanford.edu_projects_orthopedics.html',\n",
       "  'compbio.stanford.edu_links.html',\n",
       "  'connectingthedots.stanford.edu_2011-index.html',\n",
       "  'clinicalinformatics.stanford.edu_projects_sumc.html',\n",
       "  'biox.stanford.edu_clark_spormann.html',\n",
       "  'ai.stanford.edu_contact.html',\n",
       "  'codex.stanford.edu_baine.html',\n",
       "  'bootheprize.stanford.edu_0304_index.html',\n",
       "  'cee.stanford.edu_programs_construction_considering_engineer.html',\n",
       "  'cee.stanford.edu_programs_archdesign_about_message.html',\n",
       "  'cneec.stanford.edu_research_trg2.html',\n",
       "  'bioengineering.stanford.edu_education_graduate.html',\n",
       "  'creees.stanford.edu_events_centralasianfilmseries.html',\n",
       "  'bartholomew.stanford.edu_magnacarta_excerpt.html',\n",
       "  'artist-registry.stanford.edu_html_Lasack.html',\n",
       "  'bejerano.stanford.edu_people.html',\n",
       "  'biox.stanford.edu_courses_459.html',\n",
       "  'cee.stanford.edu_programs_construction_considering_addtl_reqs-CEM-DCI-SDC.html',\n",
       "  'cee.stanford.edu_programs_construction_industry_cInstitute.html',\n",
       "  'captology.stanford.edu_resources_paper-the-behavior-chain-for-online-participation.html',\n",
       "  'asia.stanford.edu_events_Spring06_ee402t_index.html',\n",
       "  'cee.stanford.edu_programs_index.html',\n",
       "  'aaalab.stanford.edu_transfer.html',\n",
       "  'biox.stanford.edu_clark_pande.html',\n",
       "  'cee.stanford.edu_programs_seg_consideringseg_msgeo.html',\n",
       "  'atbweb.stanford.edu_atb_images_brunger_cv.html',\n",
       "  'cee.stanford.edu_programs_efmh_faculty_affiliates.html',\n",
       "  'creees.stanford.edu_grants_shieh-grant-exp.html',\n",
       "  'coe.stanford.edu_spotlight_Yvonne-Maldonado.html',\n",
       "  'biox.stanford.edu_faculty_dept_geology.html',\n",
       "  'adem.stanford.edu_videos.html',\n",
       "  'biox.stanford.edu_news_2011events_july.html',\n",
       "  'bioethics.stanford.edu_people_steering_committee.html',\n",
       "  'asia.stanford.edu_events_spring06_ee402t_bio_chua.html',\n",
       "  'cee.stanford.edu_programs_seg_research_index.html',\n",
       "  'boole.stanford.edu_pratt.html',\n",
       "  'arith.stanford.edu_people.html',\n",
       "  'codex.stanford.edu_lai.html',\n",
       "  'cee.stanford.edu_events_visitation_day.html',\n",
       "  'cee.stanford.edu_programs_construction_who_students.html',\n",
       "  'cis-old.stanford.edu_news_websitessummer.html',\n",
       "  'cneec.stanford.edu_tutorials_photovoltaics_06142011.html',\n",
       "  'creees.stanford.edu_events_cimdina.html',\n",
       "  'cee.stanford.edu_programs_efmh_seminars_index.html',\n",
       "  'biox.stanford.edu_grant_grad2012.html',\n",
       "  'creees.stanford.edu_events_dyak.html',\n",
       "  'cmgm.stanford.edu_facilities_index.html',\n",
       "  'bartholomew.stanford.edu_magnacarta_trans1.html',\n",
       "  'codex.stanford.edu_newman.html',\n",
       "  'cbis.stanford.edu_events_MIseminar.html',\n",
       "  'arith.stanford.edu_book.html',\n",
       "  'ai.stanford.edu_users_khatib_contact.html',\n",
       "  'biox.stanford.edu_grant_fellows_wenger.html',\n",
       "  'creees.stanford.edu_events_Klezmeruski.html',\n",
       "  'cee.stanford.edu_programs_construction_considering_CEM_Webinar.html',\n",
       "  'bioengineering.stanford.edu_community_lifeatstanford.html',\n",
       "  'asia.stanford.edu_events_NEC_soneBio.html',\n",
       "  'cisl.stanford.edu_organization_history.html',\n",
       "  'cee.stanford.edu_programs_construction_industry_guests.html',\n",
       "  'cee.stanford.edu_programs_atmosenergy_events_index.html',\n",
       "  'cee.stanford.edu_programs_seg_whoweare_students.html',\n",
       "  'aero-comlab.stanford.edu_sbalaji_index.html',\n",
       "  'cee.stanford.edu_programs_seg_consideringseg_geocourses.html',\n",
       "  'cneec.stanford.edu_events.html',\n",
       "  'creees.stanford.edu_about_steering.html',\n",
       "  'artist-registry.stanford.edu_html_Zickefoose.html',\n",
       "  'bdml.stanford.edu_twiki_bin_view_Main_ClimbingAdhesion.html',\n",
       "  'bartholomew.stanford.edu_etymology.html',\n",
       "  'clinicalinformatics.stanford.edu_projects_cancercenter.html',\n",
       "  'comm.stanford.edu_internships_pearl_2004_index.html',\n",
       "  'biox.stanford.edu_faculty_dept_matSci.html',\n",
       "  'bioengineering.stanford.edu_coulter_tech.html',\n",
       "  'cee.stanford.edu_programs_efmh_students_index.html',\n",
       "  'aero-comlab.stanford.edu_mcmu_publications.html',\n",
       "  'adl.stanford.edu_people_jfike.html',\n",
       "  'asia.stanford.edu_events_fall02_bio_liuBio.html',\n",
       "  'cancer.stanford.edu_patient_care_howToMakeAnAppointment.html',\n",
       "  'crc.stanford.edu_ejmf_honors.html',\n",
       "  'credo.stanford.edu_aboutStaff-Peltason.html',\n",
       "  'cee.stanford.edu_programs_atmosenergy_degrees_phd.html',\n",
       "  'chime.stanford.edu_people.html',\n",
       "  'cegs.stanford.edu_zebrafish_genome_hoxcomp.html',\n",
       "  'biochemistry.stanford.edu_education_graduate.html',\n",
       "  'ambadylab.stanford.edu_ambady.html',\n",
       "  'arpes.stanford.edu_aboutus.html',\n",
       "  'cee.stanford.edu_research_other_res.html',\n",
       "  'chemenew.stanford.edu_faculty_profiles_cwfrank_cwfrank.html',\n",
       "  'creees.stanford.edu_about_directions.html',\n",
       "  'cbis.stanford.edu_education_residency_programs.html',\n",
       "  'ambadylab.stanford.edu_barth.html',\n",
       "  'cee.stanford.edu_programs_atmosenergy_gallery_index.html',\n",
       "  'captology.stanford.edu_archived-projects_persuasive-visual-stories-for-small-screens.html',\n",
       "  'creees.stanford.edu_events_film-series.html',\n",
       "  'bingschool.stanford.edu_aboutbing_advisory.html',\n",
       "  'codex.stanford.edu_rlee.html',\n",
       "  'creees.stanford.edu_events_audio-visual-index.html',\n",
       "  'biochem158.stanford.edu_nextgenseq.html',\n",
       "  'clinicalinformatics.stanford.edu_projects_pediatrics.html',\n",
       "  'biox.stanford.edu_clark_kopito.html',\n",
       "  'biox.stanford.edu_clark_gambhir.html',\n",
       "  'childpsychiatry.stanford.edu_training_fellowships.html',\n",
       "  'cmgm.stanford.edu_biology_long_presentmembers.html',\n",
       "  'cee.stanford.edu_programs_seg_contact_index.html',\n",
       "  'cis-old.stanford.edu_news_alphabet.html',\n",
       "  'bartholomew.stanford.edu_welcome.html',\n",
       "  'biox.stanford.edu_clark_altman.html',\n",
       "  'bartholomew.stanford.edu_authors_avicenna.html',\n",
       "  'chemogenomics.stanford.edu_supplements_03nuc_nuc_image.html',\n",
       "  'ai.stanford.edu_forms.html',\n",
       "  'biox.stanford.edu_contact_links.html',\n",
       "  'cee.stanford.edu_programs_atmosenergy_faculty_cee.html',\n",
       "  'creees.stanford.edu_grants_summer-graduate-travel.html',\n",
       "  'cneec.stanford.edu_research_index.html',\n",
       "  'crypto.stanford.edu_TIPPI_first_boneh.html',\n",
       "  'aaalab.stanford.edu_teachable.html',\n",
       "  'cee.stanford.edu_programs_seg_research_sustain.html',\n",
       "  'creees.stanford.edu_events_CurrentLectures.html',\n",
       "  'bejerano.stanford.edu_resources.html',\n",
       "  'creees.stanford.edu_academic_coterminal-masters.html',\n",
       "  'canarycenter.stanford.edu_news-events_seminars_early-detection-seminar.html',\n",
       "  'creees.stanford.edu_events_trenin.html',\n",
       "  'cmgm.stanford.edu_biology_long_labalumni.html',\n",
       "  'biox.stanford.edu_clark_holmes.html',\n",
       "  'cee.stanford.edu_programs_atmosenergy_events_ae_seminar.html',\n",
       "  'cee.stanford.edu_programs_seg_research_riskreliabilty.html',\n",
       "  'bartholomew.stanford.edu_authors_bartholomew.html',\n",
       "  'cee.stanford.edu_programs_seg_consideringseg_msse.html',\n",
       "  'arpes.stanford.edu_research_electronphonon.html',\n",
       "  'biox.stanford.edu_clark_khatib.html',\n",
       "  'biox.stanford.edu_clark_faculty_p3.html',\n",
       "  'asia.stanford.edu_events_fall05_bio_Bio-Kim-SKTelecom.html',\n",
       "  'cheme.stanford.edu_faculty_nih_about_news_and_events.html',\n",
       "  'cee.stanford.edu_programs_seg_consideringseg_faq.html',\n",
       "  'creees.stanford.edu_about_support-creees.html',\n",
       "  'aaastop.stanford.edu_students_fellows_cvi_calendar.html',\n",
       "  'biox.stanford.edu_grant_iip_round6.html',\n",
       "  'cee.stanford.edu_programs_efml_seminars_efml_nooners.html',\n",
       "  'bartholomew.stanford.edu_ongodockham_intro.html',\n",
       "  'biox.stanford.edu_grant_fellows_program.html',\n",
       "  'cee.stanford.edu_programs_atmosenergy_degrees_index.html',\n",
       "  'biox.stanford.edu_clark_bldg2.html',\n",
       "  'biox.stanford.edu_news_archives_11_Apr.html',\n",
       "  'creees.stanford.edu_about_staff.html',\n",
       "  'cee.stanford.edu_prospective_undergrad_declaring.html',\n",
       "  'ambadylab.stanford.edu_pauker.html',\n",
       "  'bejerano.stanford.edu_directions.html',\n",
       "  'cee.stanford.edu_contact_index.html',\n",
       "  'cee.stanford.edu_programs_construction_who_visiting_scholars.html',\n",
       "  'bejerano.stanford.edu_press.html',\n",
       "  'cee.stanford.edu_programs_archdesign_contact_index.html',\n",
       "  'ccsb.stanford.edu_events_biomodclub.html',\n",
       "  'biox.stanford.edu_grant_r2_iip_menon.html',\n",
       "  'cee.stanford.edu_programs_archdesign_about_announcement.html',\n",
       "  'bartholomew.stanford.edu_magnacarta_intro.html',\n",
       "  'biox.stanford.edu_grant_fellows_tayebi.html',\n",
       "  'adg.stanford.edu_aa241_drag_liftwavedrag.html',\n",
       "  'asia.stanford.edu_events_spring06_ee402s_bio_garner.html',\n",
       "  'beckman.stanford.edu_programs_other.html',\n",
       "  'arpes.stanford.edu_research_novelformofcarbon.html',\n",
       "  'creees.stanford.edu_events_StanfordBerkeley.html',\n",
       "  'crc.stanford.edu_BAST_huffman.html',\n",
       "  'compbio.stanford.edu_courses.html',\n",
       "  'cegelskilab.stanford.edu_links.html',\n",
       "  'bartholomew.stanford.edu_authors_wmauvergne.html',\n",
       "  'arpes.stanford.edu_research_antifm.html',\n",
       "  'ai.stanford.edu_links.html',\n",
       "  'cee.stanford.edu_about_atmoEnergy.html',\n",
       "  'clinicalinformatics.stanford.edu_projects_community.html',\n",
       "  'bioengineering.stanford.edu_faculty_boahen.html',\n",
       "  'cee.stanford.edu_programs_construction_safety_safety.html',\n",
       "  'childpsychiatry.stanford.edu_Parent%2520Support%2520Group.html',\n",
       "  'clinicalinformatics.stanford.edu_projects_otherProjects.html',\n",
       "  'crc.stanford.edu_ejmf_donors.html',\n",
       "  'atbweb.stanford.edu_scripts_address.html',\n",
       "  'cheme.stanford.edu_prospective_students_ugrad_admiss_over.html',\n",
       "  'captology.stanford.edu_projects_archived-projects.html',\n",
       "  'bloodcenter.stanford.edu_about_blood_PRISM.html',\n",
       "  'arpes.stanford.edu_research_polarons.html',\n",
       "  'ai.stanford.edu_meetings.html',\n",
       "  'cee.stanford.edu_programs_efmh_students_undergrad_prereqs.html',\n",
       "  'creees.stanford.edu_events_astrakhan.html',\n",
       "  'cee.stanford.edu_programs_archdesign_program_courseSites.html',\n",
       "  'biochem.stanford.edu_mobile_newsSBD.html',\n",
       "  'bingschool.stanford.edu_researchpub_wmischel.html',\n",
       "  'cancer.stanford.edu_patient_care_InternationalPatients.html',\n",
       "  'bejerano.stanford.edu_openings.html',\n",
       "  'cancer.stanford.edu_directions_buildingDirectory.html',\n",
       "  'cneec.stanford.edu_research_trg1.html',\n",
       "  'chicory.stanford.edu_satyaki_research_PredicateAbstraction.html',\n",
       "  'bdml.stanford.edu_twiki_bin_view_Haptics_MotionDisplayKAUST.html',\n",
       "  'changlab.stanford.edu_news.html',\n",
       "  'biox.stanford.edu_biox_awards.html',\n",
       "  'cee.stanford.edu_programs_construction_industry_field_trips.html',\n",
       "  'codex.stanford.edu_kahana.html',\n",
       "  'aaalab.stanford.edu_teachable_agents_ta_moby.html',\n",
       "  'biox.stanford.edu_grant_r5_iip_riedel.html',\n",
       "  'aero-comlab.stanford.edu_mcmu_index.html',\n",
       "  'cneec.stanford.edu_contact_inquiry.html',\n",
       "  'codex.stanford.edu_people.html',\n",
       "  'biox.stanford.edu_grant_fellows_meltzer.html',\n",
       "  'creees.stanford.edu_events_sadowska.html',\n",
       "  'ai.stanford.edu_users_sahami_CS2013_commenting.html',\n",
       "  'bejerano.stanford.edu_protocols.html',\n",
       "  'cneec.stanford.edu_faculty_partners.html',\n",
       "  'aero-comlab.stanford.edu_jameson_recent_presentations.html',\n",
       "  'biox.stanford.edu_grant_fs_grad_0708.html',\n",
       "  'bioengineering.stanford.edu_about_history.html',\n",
       "  'biox.stanford.edu_grant_r4_iip_cui.html',\n",
       "  'captology.stanford.edu_teaching_about-teaching.html',\n",
       "  'cee.stanford.edu_programs_seg_research_enginfo.html',\n",
       "  'bioethics.stanford.edu_arts_events_MedicineandtheMuse.html',\n",
       "  'biox.stanford.edu_grant_fellows_lau.html',\n",
       "  'crc.stanford.edu_ejmf_ejm.html',\n",
       "  'cee.stanford.edu_visit_visitors.html',\n",
       "  'biox.stanford.edu_biox_index.html',\n",
       "  'aaalab.stanford.edu_child_development_dev_reasoning.html',\n",
       "  'casb.stanford.edu_postdoctoral_anonymous.html',\n",
       "  'arpes.stanford.edu_personnel.html',\n",
       "  'beckman.stanford.edu_services.html',\n",
       "  'chemogenomics.stanford.edu_people.html',\n",
       "  'codex.stanford.edu_gunst.html',\n",
       "  'brownlab.stanford.edu_Alumni_Samson_Chow.html',\n",
       "  'creees.stanford.edu_events_kitka-kedry.html',\n",
       "  'collectives.stanford.edu_Library_index.html',\n",
       "  'biox.stanford.edu_grant_fs_grad_0506.html',\n",
       "  'biox.stanford.edu_grant_fs_grad_0607.html',\n",
       "  'cee.stanford.edu_programs_archdesign_links_index.html',\n",
       "  'creees.stanford.edu_events_film%2520events.html',\n",
       "  'cis.stanford.edu_structure_reis.html',\n",
       "  'cheme.stanford.edu_faculty_nanotech.html',\n",
       "  'barschall.stanford.edu_press_gb970828.html',\n",
       "  'cee.stanford.edu_programs_atmosenergy_events_ae_seminar_archive.html',\n",
       "  'creees.stanford.edu_outreach_california-teachers.html',\n",
       "  'aero.stanford.edu_people_kroo.html',\n",
       "  'cneec.stanford.edu_about_overview.html',\n",
       "  'aero-comlab.stanford.edu_acmarta_index.html',\n",
       "  'creees.stanford.edu_academic_undergraduate-minors.html',\n",
       "  'bentgroup.stanford.edu_links.html',\n",
       "  'collectives.stanford.edu_CDoCS03_index.html',\n",
       "  'creees.stanford.edu_events_ResSeminarSpring2011.html',\n",
       "  'cee.stanford.edu_programs_construction_current_afterStanford.html',\n",
       "  'brownlab.stanford.edu_Alumni_Dari_Shalon.html',\n",
       "  'biox.stanford.edu_grant_fellows_asimenos.html',\n",
       "  'cee.stanford.edu_programs_archdesign_faculty_index.html',\n",
       "  'alumni.gsb.stanford.edu_suggested-reading_index.html',\n",
       "  'creees.stanford.edu_events_international-film-series.html',\n",
       "  'cee.stanford.edu_sitemap.html',\n",
       "  'cis.stanford.edu_events_spring_10_day2.html',\n",
       "  'cee.stanford.edu_prospective_grad_grad_overview.html',\n",
       "  'constantinou.stanford.edu_contact.html',\n",
       "  'cheme.stanford.edu_faculty_faculty.html',\n",
       "  'cee.stanford.edu_faculty_faculty_topic.html',\n",
       "  'bootheprize.stanford.edu_0708_index.html',\n",
       "  'biox.stanford.edu_grant_fellows_camarillo.html',\n",
       "  'cneec.stanford.edu_programs_seed.html',\n",
       "  'bartholomew.stanford.edu_magnacarta_exercise4.html',\n",
       "  'bioengineering.stanford.edu_patient_care_translation.html',\n",
       "  'cmgm.stanford.edu_pmgm.html',\n",
       "  'creees.stanford.edu_grants_summer-graduate.html',\n",
       "  'cee.stanford.edu_programs_archdesign_index.html',\n",
       "  'aero-comlab.stanford.edu_jxyao_publication.html',\n",
       "  'beckman.stanford.edu_resources.html',\n",
       "  'creees.stanford.edu_grants_exp.html',\n",
       "  'biochemistry.stanford.edu_contact_job.html',\n",
       "  'biox.stanford.edu_faculty_faculty_affiliates_depts.html',\n",
       "  'codex.stanford.edu_dolin.html',\n",
       "  'codex.stanford.edu_cahan.html',\n",
       "  'creees.stanford.edu_events_bukharain.html',\n",
       "  'cneec.stanford.edu_tutorials_size_matters_07112011.html',\n",
       "  'bioadd.stanford.edu_people_malkovskiy.html',\n",
       "  'bioengineering.stanford.edu_faculty_searches.html',\n",
       "  'creees.stanford.edu_events_radeljic.html',\n",
       "  'cee.stanford.edu_programs_atmosenergy_gallery_pic2012.html',\n",
       "  'arpes.stanford.edu_research_electrons_pressure.html',\n",
       "  'biox.stanford.edu_news_2010events_june.html',\n",
       "  'cheme.stanford.edu_about_index.html',\n",
       "  'cancer.stanford.edu_directions_hotelGuide.html'],\n",
       " {0: {'F1': array([0.00325203, 0.00325203, 0.00325203, 0.00325203, 0.00325203,\n",
       "          0.00325203, 0.00325203, 0.00325203, 0.00650407, 0.0097561 ,\n",
       "          0.0097561 , 0.0097561 , 0.0097561 , 0.0097561 , 0.0097561 ,\n",
       "          0.0097561 , 0.0097561 , 0.01300813, 0.01626016, 0.01626016,\n",
       "          0.01626016, 0.01626016, 0.01626016, 0.0195122 , 0.0195122 ,\n",
       "          0.0195122 , 0.0195122 , 0.0195122 , 0.0195122 , 0.02276423,\n",
       "          0.02601626, 0.02926829, 0.02926829, 0.02926829, 0.02926829,\n",
       "          0.02926829, 0.02926829, 0.03252033, 0.03577236, 0.03577236,\n",
       "          0.03577236, 0.03577236, 0.03577236, 0.03902439, 0.03902439,\n",
       "          0.03902439, 0.04227642, 0.04552846, 0.04552846, 0.04552846,\n",
       "          0.04878049, 0.05203252, 0.05203252, 0.05203252, 0.05203252,\n",
       "          0.05203252, 0.05203252, 0.05203252, 0.05203252, 0.05203252,\n",
       "          0.05203252, 0.05203252, 0.05528455, 0.05853659, 0.05853659,\n",
       "          0.05853659, 0.05853659, 0.05853659, 0.05853659, 0.05853659,\n",
       "          0.05853659, 0.05853659, 0.05853659, 0.05853659, 0.05853659,\n",
       "          0.05853659, 0.05853659, 0.06178862, 0.06178862, 0.06504065,\n",
       "          0.06504065, 0.06829268, 0.07154472, 0.07479675, 0.07479675,\n",
       "          0.07479675, 0.07804878, 0.08130081, 0.08130081, 0.08130081,\n",
       "          0.08130081, 0.08130081, 0.08130081, 0.08130081, 0.08130081,\n",
       "          0.08130081, 0.08455285, 0.08455285, 0.08780488, 0.09105691,\n",
       "          0.09430894, 0.09430894, 0.09430894, 0.09430894, 0.09430894,\n",
       "          0.09430894, 0.09430894, 0.09430894, 0.09430894, 0.09430894,\n",
       "          0.09756098, 0.09756098, 0.10081301, 0.10081301, 0.10406504,\n",
       "          0.10406504, 0.10406504, 0.10406504, 0.10406504, 0.10406504,\n",
       "          0.10406504, 0.10731707, 0.10731707, 0.10731707, 0.10731707,\n",
       "          0.10731707, 0.11056911, 0.11056911, 0.11056911, 0.11056911,\n",
       "          0.11056911, 0.11056911, 0.11056911, 0.11382114, 0.11382114,\n",
       "          0.11382114, 0.11382114, 0.11382114, 0.11382114, 0.11382114,\n",
       "          0.11382114, 0.11382114, 0.11382114, 0.11382114, 0.11382114,\n",
       "          0.11382114, 0.11382114, 0.11382114, 0.11382114, 0.11382114,\n",
       "          0.11382114, 0.11707317, 0.11707317, 0.11707317, 0.11707317,\n",
       "          0.11707317, 0.11707317, 0.11707317, 0.11707317, 0.11707317,\n",
       "          0.11707317, 0.11707317, 0.11707317, 0.11707317, 0.11707317,\n",
       "          0.11707317, 0.11707317, 0.11707317, 0.11707317, 0.11707317,\n",
       "          0.11707317, 0.11707317, 0.11707317, 0.11707317, 0.11707317,\n",
       "          0.1203252 , 0.1203252 , 0.1203252 , 0.1203252 , 0.1203252 ,\n",
       "          0.1203252 , 0.1203252 , 0.12357724, 0.12357724, 0.12357724,\n",
       "          0.12357724, 0.12357724, 0.12357724, 0.12357724, 0.12682927,\n",
       "          0.12682927, 0.1300813 , 0.1300813 , 0.1300813 , 0.1300813 ,\n",
       "          0.1300813 , 0.1300813 , 0.13333333, 0.13658537, 0.1398374 ,\n",
       "          0.1398374 , 0.1398374 , 0.1398374 , 0.1398374 , 0.1398374 ,\n",
       "          0.1398374 , 0.1398374 , 0.1398374 , 0.1398374 , 0.1398374 ,\n",
       "          0.1398374 , 0.1398374 , 0.1398374 , 0.14308943, 0.14308943,\n",
       "          0.14634146, 0.14634146, 0.14634146, 0.14634146, 0.1495935 ,\n",
       "          0.1495935 , 0.15284553, 0.15284553, 0.15284553, 0.15609756,\n",
       "          0.15609756, 0.15609756, 0.15609756, 0.15934959, 0.16260163,\n",
       "          0.16260163, 0.16260163, 0.16260163, 0.16260163, 0.16260163,\n",
       "          0.16260163, 0.16260163, 0.16260163, 0.16585366, 0.16585366,\n",
       "          0.16585366, 0.16585366, 0.16585366, 0.16585366, 0.16585366,\n",
       "          0.16585366, 0.16910569, 0.17235772, 0.17560976, 0.17560976,\n",
       "          0.17560976, 0.17560976, 0.17560976, 0.17560976, 0.17886179,\n",
       "          0.17886179, 0.18211382, 0.18536585, 0.18861789, 0.19186992,\n",
       "          0.19512195, 0.19512195, 0.19512195, 0.19837398, 0.19837398,\n",
       "          0.19837398, 0.20162602, 0.20162602, 0.20162602, 0.20162602,\n",
       "          0.20162602, 0.20487805, 0.20813008, 0.21138211, 0.21138211,\n",
       "          0.21463415, 0.21463415, 0.21463415, 0.21463415, 0.21463415,\n",
       "          0.21463415, 0.21463415, 0.21463415, 0.21463415, 0.21463415,\n",
       "          0.21463415, 0.21463415, 0.21463415, 0.21463415, 0.21463415,\n",
       "          0.21463415, 0.21463415, 0.21463415, 0.21463415, 0.21463415,\n",
       "          0.21788618, 0.21788618, 0.21788618, 0.22113821, 0.22113821,\n",
       "          0.22113821, 0.22113821, 0.22113821, 0.22439024, 0.22439024,\n",
       "          0.22439024, 0.22439024, 0.22439024, 0.22439024, 0.22439024,\n",
       "          0.22439024, 0.22764228, 0.22764228, 0.22764228, 0.22764228,\n",
       "          0.22764228, 0.22764228, 0.23089431, 0.23089431, 0.23089431,\n",
       "          0.23089431, 0.23089431, 0.23089431, 0.23089431, 0.23089431,\n",
       "          0.23089431, 0.23089431, 0.23089431, 0.23414634, 0.23414634,\n",
       "          0.23414634, 0.23739837, 0.23739837, 0.23739837, 0.23739837,\n",
       "          0.23739837, 0.24065041, 0.24390244, 0.24390244, 0.24390244,\n",
       "          0.24715447, 0.24715447, 0.24715447, 0.24715447, 0.24715447,\n",
       "          0.24715447, 0.24715447, 0.24715447, 0.24715447, 0.2504065 ,\n",
       "          0.2504065 , 0.25365854, 0.25691057, 0.25691057, 0.25691057,\n",
       "          0.25691057, 0.25691057, 0.25691057, 0.2601626 , 0.26341463,\n",
       "          0.26341463, 0.26341463, 0.26341463, 0.26341463, 0.26341463,\n",
       "          0.26341463, 0.26341463, 0.26341463, 0.26666667, 0.26666667,\n",
       "          0.26666667, 0.2699187 , 0.2699187 , 0.27317073, 0.27317073,\n",
       "          0.27317073, 0.27317073, 0.27317073, 0.27317073, 0.27317073,\n",
       "          0.27317073, 0.27317073, 0.27317073, 0.27642276, 0.2796748 ,\n",
       "          0.2796748 , 0.2796748 , 0.2796748 , 0.28292683, 0.28617886,\n",
       "          0.28617886, 0.28943089, 0.28943089, 0.28943089, 0.28943089,\n",
       "          0.29268293, 0.29268293, 0.29268293, 0.29268293, 0.29268293,\n",
       "          0.29268293, 0.29593496, 0.29593496, 0.29593496, 0.29593496,\n",
       "          0.29593496, 0.29593496, 0.29593496, 0.29918699, 0.29918699,\n",
       "          0.29918699, 0.29918699, 0.30243902, 0.30243902, 0.30243902,\n",
       "          0.30243902, 0.30569106, 0.30569106, 0.30569106, 0.30569106,\n",
       "          0.30569106, 0.30894309, 0.31219512, 0.31219512, 0.31219512,\n",
       "          0.31544715, 0.31544715, 0.31544715, 0.31869919, 0.31869919,\n",
       "          0.31869919, 0.32195122, 0.32520325, 0.32520325, 0.32845528,\n",
       "          0.33170732, 0.33170732, 0.33170732, 0.33495935, 0.33495935,\n",
       "          0.33495935, 0.33821138, 0.33821138, 0.34146341, 0.34146341,\n",
       "          0.34146341, 0.34146341, 0.34471545, 0.34796748, 0.34796748,\n",
       "          0.34796748, 0.34796748, 0.35121951, 0.35121951, 0.35121951,\n",
       "          0.35121951, 0.35121951, 0.35121951, 0.35121951, 0.35121951,\n",
       "          0.35121951, 0.35447154, 0.35447154, 0.35447154, 0.35447154,\n",
       "          0.35772358, 0.35772358, 0.35772358, 0.35772358, 0.36097561,\n",
       "          0.36097561, 0.36097561, 0.36097561, 0.36097561, 0.36097561,\n",
       "          0.36097561, 0.36422764, 0.36422764, 0.36422764, 0.36422764,\n",
       "          0.36422764, 0.36422764, 0.36422764, 0.36422764, 0.36422764,\n",
       "          0.36422764, 0.36422764, 0.36747967, 0.37073171, 0.37398374,\n",
       "          0.37398374, 0.37398374, 0.37398374, 0.37398374, 0.37398374,\n",
       "          0.37398374, 0.37398374, 0.37398374, 0.37398374, 0.37398374]),\n",
       "   'Fb': array([5., 5., 5., 5., 5., 5., 5., 5., 5., 5., 5., 5., 5., 5., 5., 5., 5.,\n",
       "          5., 5., 5., 5., 5., 5., 5., 5., 5., 5., 5., 5., 5., 5., 5., 5., 5.,\n",
       "          5., 5., 5., 5., 5., 5., 5., 5., 5., 5., 5., 5., 5., 5., 5., 5., 5.,\n",
       "          5., 5., 5., 5., 5., 5., 5., 5., 5., 5., 5., 5., 5., 5., 5., 5., 5.,\n",
       "          5., 5., 5., 5., 5., 5., 5., 5., 5., 5., 5., 5., 5., 5., 5., 5., 5.,\n",
       "          5., 5., 5., 5., 5., 5., 5., 5., 5., 5., 5., 5., 5., 5., 5., 5., 5.,\n",
       "          5., 5., 5., 5., 5., 5., 5., 5., 5., 5., 5., 5., 5., 5., 5., 5., 5.,\n",
       "          5., 5., 5., 5., 5., 5., 5., 5., 5., 5., 5., 5., 5., 5., 5., 5., 5.,\n",
       "          5., 5., 5., 5., 5., 5., 5., 5., 5., 5., 5., 5., 5., 5., 5., 5., 5.,\n",
       "          5., 5., 5., 5., 5., 5., 5., 5., 5., 5., 5., 5., 5., 5., 5., 5., 5.,\n",
       "          5., 5., 5., 5., 5., 5., 5., 5., 5., 5., 5., 5., 5., 5., 5., 5., 5.,\n",
       "          5., 5., 5., 5., 5., 5., 5., 5., 5., 5., 5., 5., 5., 5., 5., 5., 5.,\n",
       "          5., 5., 5., 5., 5., 5., 5., 5., 5., 5., 5., 5., 5., 5., 5., 5., 5.,\n",
       "          5., 5., 5., 5., 5., 5., 5., 5., 5., 5., 5., 5., 5., 5., 5., 5., 5.,\n",
       "          5., 5., 5., 5., 5., 5., 5., 5., 5., 5., 5., 5., 5., 5., 5., 5., 5.,\n",
       "          5., 5., 5., 5., 5., 5., 5., 5., 5., 5., 5., 5., 5., 5., 5., 5., 5.,\n",
       "          5., 5., 5., 5., 5., 5., 5., 5., 5., 5., 5., 5., 5., 5., 5., 5., 5.,\n",
       "          5., 5., 5., 5., 5., 5., 5., 5., 5., 5., 5., 5., 5., 5., 5., 5., 5.,\n",
       "          5., 5., 5., 5., 5., 5., 5., 5., 5., 5., 5., 5., 5., 5., 5., 5., 5.,\n",
       "          5., 5., 5., 5., 5., 5., 5., 5., 5., 5., 5., 5., 5., 5., 5., 5., 5.,\n",
       "          5., 5., 5., 5., 5., 5., 5., 5., 5., 5., 5., 5., 5., 5., 5., 5., 5.,\n",
       "          5., 5., 5., 5., 5., 5., 5., 5., 5., 5., 5., 5., 5., 5., 5., 5., 5.,\n",
       "          5., 5., 5., 5., 5., 5., 5., 5., 5., 5., 5., 5., 5., 5., 5., 5., 5.,\n",
       "          5., 5., 5., 5., 5., 5., 5., 5., 5., 5., 5., 5., 5., 5., 5., 5., 5.,\n",
       "          5., 5., 5., 5., 5., 5., 5., 5., 5., 5., 5., 5., 5., 5., 5., 5., 5.,\n",
       "          5., 5., 5., 5., 5., 5., 5., 5., 5., 5., 5., 5., 5., 5., 5., 5., 5.,\n",
       "          5., 5., 5., 5., 5., 5., 5., 5., 5., 5., 5., 5., 5., 5., 5., 5., 5.,\n",
       "          5., 5., 5., 5., 5., 5., 5., 5., 5., 5., 5., 5., 5., 5., 5., 5., 5.,\n",
       "          5., 5., 5., 5., 5., 5., 5., 5., 5., 5., 5., 5., 5., 5., 5., 5., 5.,\n",
       "          5., 5., 5., 5., 5., 5., 5.]),\n",
       "   'precision': array([0.002, 0.002, 0.002, 0.002, 0.002, 0.002, 0.002, 0.002, 0.004,\n",
       "          0.006, 0.006, 0.006, 0.006, 0.006, 0.006, 0.006, 0.006, 0.008,\n",
       "          0.01 , 0.01 , 0.01 , 0.01 , 0.01 , 0.012, 0.012, 0.012, 0.012,\n",
       "          0.012, 0.012, 0.014, 0.016, 0.018, 0.018, 0.018, 0.018, 0.018,\n",
       "          0.018, 0.02 , 0.022, 0.022, 0.022, 0.022, 0.022, 0.024, 0.024,\n",
       "          0.024, 0.026, 0.028, 0.028, 0.028, 0.03 , 0.032, 0.032, 0.032,\n",
       "          0.032, 0.032, 0.032, 0.032, 0.032, 0.032, 0.032, 0.032, 0.034,\n",
       "          0.036, 0.036, 0.036, 0.036, 0.036, 0.036, 0.036, 0.036, 0.036,\n",
       "          0.036, 0.036, 0.036, 0.036, 0.036, 0.038, 0.038, 0.04 , 0.04 ,\n",
       "          0.042, 0.044, 0.046, 0.046, 0.046, 0.048, 0.05 , 0.05 , 0.05 ,\n",
       "          0.05 , 0.05 , 0.05 , 0.05 , 0.05 , 0.05 , 0.052, 0.052, 0.054,\n",
       "          0.056, 0.058, 0.058, 0.058, 0.058, 0.058, 0.058, 0.058, 0.058,\n",
       "          0.058, 0.058, 0.06 , 0.06 , 0.062, 0.062, 0.064, 0.064, 0.064,\n",
       "          0.064, 0.064, 0.064, 0.064, 0.066, 0.066, 0.066, 0.066, 0.066,\n",
       "          0.068, 0.068, 0.068, 0.068, 0.068, 0.068, 0.068, 0.07 , 0.07 ,\n",
       "          0.07 , 0.07 , 0.07 , 0.07 , 0.07 , 0.07 , 0.07 , 0.07 , 0.07 ,\n",
       "          0.07 , 0.07 , 0.07 , 0.07 , 0.07 , 0.07 , 0.07 , 0.072, 0.072,\n",
       "          0.072, 0.072, 0.072, 0.072, 0.072, 0.072, 0.072, 0.072, 0.072,\n",
       "          0.072, 0.072, 0.072, 0.072, 0.072, 0.072, 0.072, 0.072, 0.072,\n",
       "          0.072, 0.072, 0.072, 0.072, 0.074, 0.074, 0.074, 0.074, 0.074,\n",
       "          0.074, 0.074, 0.076, 0.076, 0.076, 0.076, 0.076, 0.076, 0.076,\n",
       "          0.078, 0.078, 0.08 , 0.08 , 0.08 , 0.08 , 0.08 , 0.08 , 0.082,\n",
       "          0.084, 0.086, 0.086, 0.086, 0.086, 0.086, 0.086, 0.086, 0.086,\n",
       "          0.086, 0.086, 0.086, 0.086, 0.086, 0.086, 0.088, 0.088, 0.09 ,\n",
       "          0.09 , 0.09 , 0.09 , 0.092, 0.092, 0.094, 0.094, 0.094, 0.096,\n",
       "          0.096, 0.096, 0.096, 0.098, 0.1  , 0.1  , 0.1  , 0.1  , 0.1  ,\n",
       "          0.1  , 0.1  , 0.1  , 0.1  , 0.102, 0.102, 0.102, 0.102, 0.102,\n",
       "          0.102, 0.102, 0.102, 0.104, 0.106, 0.108, 0.108, 0.108, 0.108,\n",
       "          0.108, 0.108, 0.11 , 0.11 , 0.112, 0.114, 0.116, 0.118, 0.12 ,\n",
       "          0.12 , 0.12 , 0.122, 0.122, 0.122, 0.124, 0.124, 0.124, 0.124,\n",
       "          0.124, 0.126, 0.128, 0.13 , 0.13 , 0.132, 0.132, 0.132, 0.132,\n",
       "          0.132, 0.132, 0.132, 0.132, 0.132, 0.132, 0.132, 0.132, 0.132,\n",
       "          0.132, 0.132, 0.132, 0.132, 0.132, 0.132, 0.132, 0.134, 0.134,\n",
       "          0.134, 0.136, 0.136, 0.136, 0.136, 0.136, 0.138, 0.138, 0.138,\n",
       "          0.138, 0.138, 0.138, 0.138, 0.138, 0.14 , 0.14 , 0.14 , 0.14 ,\n",
       "          0.14 , 0.14 , 0.142, 0.142, 0.142, 0.142, 0.142, 0.142, 0.142,\n",
       "          0.142, 0.142, 0.142, 0.142, 0.144, 0.144, 0.144, 0.146, 0.146,\n",
       "          0.146, 0.146, 0.146, 0.148, 0.15 , 0.15 , 0.15 , 0.152, 0.152,\n",
       "          0.152, 0.152, 0.152, 0.152, 0.152, 0.152, 0.152, 0.154, 0.154,\n",
       "          0.156, 0.158, 0.158, 0.158, 0.158, 0.158, 0.158, 0.16 , 0.162,\n",
       "          0.162, 0.162, 0.162, 0.162, 0.162, 0.162, 0.162, 0.162, 0.164,\n",
       "          0.164, 0.164, 0.166, 0.166, 0.168, 0.168, 0.168, 0.168, 0.168,\n",
       "          0.168, 0.168, 0.168, 0.168, 0.168, 0.17 , 0.172, 0.172, 0.172,\n",
       "          0.172, 0.174, 0.176, 0.176, 0.178, 0.178, 0.178, 0.178, 0.18 ,\n",
       "          0.18 , 0.18 , 0.18 , 0.18 , 0.18 , 0.182, 0.182, 0.182, 0.182,\n",
       "          0.182, 0.182, 0.182, 0.184, 0.184, 0.184, 0.184, 0.186, 0.186,\n",
       "          0.186, 0.186, 0.188, 0.188, 0.188, 0.188, 0.188, 0.19 , 0.192,\n",
       "          0.192, 0.192, 0.194, 0.194, 0.194, 0.196, 0.196, 0.196, 0.198,\n",
       "          0.2  , 0.2  , 0.202, 0.204, 0.204, 0.204, 0.206, 0.206, 0.206,\n",
       "          0.208, 0.208, 0.21 , 0.21 , 0.21 , 0.21 , 0.212, 0.214, 0.214,\n",
       "          0.214, 0.214, 0.216, 0.216, 0.216, 0.216, 0.216, 0.216, 0.216,\n",
       "          0.216, 0.216, 0.218, 0.218, 0.218, 0.218, 0.22 , 0.22 , 0.22 ,\n",
       "          0.22 , 0.222, 0.222, 0.222, 0.222, 0.222, 0.222, 0.222, 0.224,\n",
       "          0.224, 0.224, 0.224, 0.224, 0.224, 0.224, 0.224, 0.224, 0.224,\n",
       "          0.224, 0.226, 0.228, 0.23 , 0.23 , 0.23 , 0.23 , 0.23 , 0.23 ,\n",
       "          0.23 , 0.23 , 0.23 , 0.23 , 0.23 ]),\n",
       "   'recall': array([0.00869565, 0.00869565, 0.00869565, 0.00869565, 0.00869565,\n",
       "          0.00869565, 0.00869565, 0.00869565, 0.0173913 , 0.02608696,\n",
       "          0.02608696, 0.02608696, 0.02608696, 0.02608696, 0.02608696,\n",
       "          0.02608696, 0.02608696, 0.03478261, 0.04347826, 0.04347826,\n",
       "          0.04347826, 0.04347826, 0.04347826, 0.05217391, 0.05217391,\n",
       "          0.05217391, 0.05217391, 0.05217391, 0.05217391, 0.06086957,\n",
       "          0.06956522, 0.07826087, 0.07826087, 0.07826087, 0.07826087,\n",
       "          0.07826087, 0.07826087, 0.08695652, 0.09565217, 0.09565217,\n",
       "          0.09565217, 0.09565217, 0.09565217, 0.10434783, 0.10434783,\n",
       "          0.10434783, 0.11304348, 0.12173913, 0.12173913, 0.12173913,\n",
       "          0.13043478, 0.13913043, 0.13913043, 0.13913043, 0.13913043,\n",
       "          0.13913043, 0.13913043, 0.13913043, 0.13913043, 0.13913043,\n",
       "          0.13913043, 0.13913043, 0.14782609, 0.15652174, 0.15652174,\n",
       "          0.15652174, 0.15652174, 0.15652174, 0.15652174, 0.15652174,\n",
       "          0.15652174, 0.15652174, 0.15652174, 0.15652174, 0.15652174,\n",
       "          0.15652174, 0.15652174, 0.16521739, 0.16521739, 0.17391304,\n",
       "          0.17391304, 0.1826087 , 0.19130435, 0.2       , 0.2       ,\n",
       "          0.2       , 0.20869565, 0.2173913 , 0.2173913 , 0.2173913 ,\n",
       "          0.2173913 , 0.2173913 , 0.2173913 , 0.2173913 , 0.2173913 ,\n",
       "          0.2173913 , 0.22608696, 0.22608696, 0.23478261, 0.24347826,\n",
       "          0.25217391, 0.25217391, 0.25217391, 0.25217391, 0.25217391,\n",
       "          0.25217391, 0.25217391, 0.25217391, 0.25217391, 0.25217391,\n",
       "          0.26086957, 0.26086957, 0.26956522, 0.26956522, 0.27826087,\n",
       "          0.27826087, 0.27826087, 0.27826087, 0.27826087, 0.27826087,\n",
       "          0.27826087, 0.28695652, 0.28695652, 0.28695652, 0.28695652,\n",
       "          0.28695652, 0.29565217, 0.29565217, 0.29565217, 0.29565217,\n",
       "          0.29565217, 0.29565217, 0.29565217, 0.30434783, 0.30434783,\n",
       "          0.30434783, 0.30434783, 0.30434783, 0.30434783, 0.30434783,\n",
       "          0.30434783, 0.30434783, 0.30434783, 0.30434783, 0.30434783,\n",
       "          0.30434783, 0.30434783, 0.30434783, 0.30434783, 0.30434783,\n",
       "          0.30434783, 0.31304348, 0.31304348, 0.31304348, 0.31304348,\n",
       "          0.31304348, 0.31304348, 0.31304348, 0.31304348, 0.31304348,\n",
       "          0.31304348, 0.31304348, 0.31304348, 0.31304348, 0.31304348,\n",
       "          0.31304348, 0.31304348, 0.31304348, 0.31304348, 0.31304348,\n",
       "          0.31304348, 0.31304348, 0.31304348, 0.31304348, 0.31304348,\n",
       "          0.32173913, 0.32173913, 0.32173913, 0.32173913, 0.32173913,\n",
       "          0.32173913, 0.32173913, 0.33043478, 0.33043478, 0.33043478,\n",
       "          0.33043478, 0.33043478, 0.33043478, 0.33043478, 0.33913043,\n",
       "          0.33913043, 0.34782609, 0.34782609, 0.34782609, 0.34782609,\n",
       "          0.34782609, 0.34782609, 0.35652174, 0.36521739, 0.37391304,\n",
       "          0.37391304, 0.37391304, 0.37391304, 0.37391304, 0.37391304,\n",
       "          0.37391304, 0.37391304, 0.37391304, 0.37391304, 0.37391304,\n",
       "          0.37391304, 0.37391304, 0.37391304, 0.3826087 , 0.3826087 ,\n",
       "          0.39130435, 0.39130435, 0.39130435, 0.39130435, 0.4       ,\n",
       "          0.4       , 0.40869565, 0.40869565, 0.40869565, 0.4173913 ,\n",
       "          0.4173913 , 0.4173913 , 0.4173913 , 0.42608696, 0.43478261,\n",
       "          0.43478261, 0.43478261, 0.43478261, 0.43478261, 0.43478261,\n",
       "          0.43478261, 0.43478261, 0.43478261, 0.44347826, 0.44347826,\n",
       "          0.44347826, 0.44347826, 0.44347826, 0.44347826, 0.44347826,\n",
       "          0.44347826, 0.45217391, 0.46086957, 0.46956522, 0.46956522,\n",
       "          0.46956522, 0.46956522, 0.46956522, 0.46956522, 0.47826087,\n",
       "          0.47826087, 0.48695652, 0.49565217, 0.50434783, 0.51304348,\n",
       "          0.52173913, 0.52173913, 0.52173913, 0.53043478, 0.53043478,\n",
       "          0.53043478, 0.53913043, 0.53913043, 0.53913043, 0.53913043,\n",
       "          0.53913043, 0.54782609, 0.55652174, 0.56521739, 0.56521739,\n",
       "          0.57391304, 0.57391304, 0.57391304, 0.57391304, 0.57391304,\n",
       "          0.57391304, 0.57391304, 0.57391304, 0.57391304, 0.57391304,\n",
       "          0.57391304, 0.57391304, 0.57391304, 0.57391304, 0.57391304,\n",
       "          0.57391304, 0.57391304, 0.57391304, 0.57391304, 0.57391304,\n",
       "          0.5826087 , 0.5826087 , 0.5826087 , 0.59130435, 0.59130435,\n",
       "          0.59130435, 0.59130435, 0.59130435, 0.6       , 0.6       ,\n",
       "          0.6       , 0.6       , 0.6       , 0.6       , 0.6       ,\n",
       "          0.6       , 0.60869565, 0.60869565, 0.60869565, 0.60869565,\n",
       "          0.60869565, 0.60869565, 0.6173913 , 0.6173913 , 0.6173913 ,\n",
       "          0.6173913 , 0.6173913 , 0.6173913 , 0.6173913 , 0.6173913 ,\n",
       "          0.6173913 , 0.6173913 , 0.6173913 , 0.62608696, 0.62608696,\n",
       "          0.62608696, 0.63478261, 0.63478261, 0.63478261, 0.63478261,\n",
       "          0.63478261, 0.64347826, 0.65217391, 0.65217391, 0.65217391,\n",
       "          0.66086957, 0.66086957, 0.66086957, 0.66086957, 0.66086957,\n",
       "          0.66086957, 0.66086957, 0.66086957, 0.66086957, 0.66956522,\n",
       "          0.66956522, 0.67826087, 0.68695652, 0.68695652, 0.68695652,\n",
       "          0.68695652, 0.68695652, 0.68695652, 0.69565217, 0.70434783,\n",
       "          0.70434783, 0.70434783, 0.70434783, 0.70434783, 0.70434783,\n",
       "          0.70434783, 0.70434783, 0.70434783, 0.71304348, 0.71304348,\n",
       "          0.71304348, 0.72173913, 0.72173913, 0.73043478, 0.73043478,\n",
       "          0.73043478, 0.73043478, 0.73043478, 0.73043478, 0.73043478,\n",
       "          0.73043478, 0.73043478, 0.73043478, 0.73913043, 0.74782609,\n",
       "          0.74782609, 0.74782609, 0.74782609, 0.75652174, 0.76521739,\n",
       "          0.76521739, 0.77391304, 0.77391304, 0.77391304, 0.77391304,\n",
       "          0.7826087 , 0.7826087 , 0.7826087 , 0.7826087 , 0.7826087 ,\n",
       "          0.7826087 , 0.79130435, 0.79130435, 0.79130435, 0.79130435,\n",
       "          0.79130435, 0.79130435, 0.79130435, 0.8       , 0.8       ,\n",
       "          0.8       , 0.8       , 0.80869565, 0.80869565, 0.80869565,\n",
       "          0.80869565, 0.8173913 , 0.8173913 , 0.8173913 , 0.8173913 ,\n",
       "          0.8173913 , 0.82608696, 0.83478261, 0.83478261, 0.83478261,\n",
       "          0.84347826, 0.84347826, 0.84347826, 0.85217391, 0.85217391,\n",
       "          0.85217391, 0.86086957, 0.86956522, 0.86956522, 0.87826087,\n",
       "          0.88695652, 0.88695652, 0.88695652, 0.89565217, 0.89565217,\n",
       "          0.89565217, 0.90434783, 0.90434783, 0.91304348, 0.91304348,\n",
       "          0.91304348, 0.91304348, 0.92173913, 0.93043478, 0.93043478,\n",
       "          0.93043478, 0.93043478, 0.93913043, 0.93913043, 0.93913043,\n",
       "          0.93913043, 0.93913043, 0.93913043, 0.93913043, 0.93913043,\n",
       "          0.93913043, 0.94782609, 0.94782609, 0.94782609, 0.94782609,\n",
       "          0.95652174, 0.95652174, 0.95652174, 0.95652174, 0.96521739,\n",
       "          0.96521739, 0.96521739, 0.96521739, 0.96521739, 0.96521739,\n",
       "          0.96521739, 0.97391304, 0.97391304, 0.97391304, 0.97391304,\n",
       "          0.97391304, 0.97391304, 0.97391304, 0.97391304, 0.97391304,\n",
       "          0.97391304, 0.97391304, 0.9826087 , 0.99130435, 1.        ,\n",
       "          1.        , 1.        , 1.        , 1.        , 1.        ,\n",
       "          1.        , 1.        , 1.        , 1.        , 1.        ])}})"
      ]
     },
     "execution_count": 76,
     "metadata": {},
     "output_type": "execute_result"
    }
   ],
   "source": [
    "evaluate_boolean_model({0: \"comput scienc\".split()}, index_document, filtered_relevance_judgments, \"AND\")"
   ]
  },
  {
   "cell_type": "markdown",
   "metadata": {
    "heading_collapsed": true,
    "hidden": true
   },
   "source": [
    "## Evaluation ordonnée"
   ]
  },
  {
   "cell_type": "markdown",
   "metadata": {
    "hidden": true
   },
   "source": [
    "On applique maintenant le modèle vectoriel avec différentes stratégies de poids. Comme les requetes sont courtes, on constate que la stratégie de poids sur celle ci n'a pas d'influence sur le résultat final."
   ]
  },
  {
   "cell_type": "code",
   "execution_count": 92,
   "metadata": {
    "hidden": true
   },
   "outputs": [],
   "source": [
    "from collections import OrderedDict\n",
    "\n",
    "def run_model_and_evaluate(query, inverted_index, model, relevance_judgments ):\n",
    "    evaluation_vectorial_request = {}\n",
    "    # A completer \n",
    "    for request in query:\n",
    "        stat_of_collection = get_stats_collection(inverted_index)\n",
    "        weighting_scheme_document = model[0]\n",
    "        weighting_scheme_query = model[1]\n",
    "        request_with_operator = processing_vectorial_query(query[request], inverted_index, stat_of_collection, weighting_scheme_document, weighting_scheme_query)\n",
    "\n",
    "        results = [0 for i in range(len(request_with_operator))]\n",
    "        for i, doc in enumerate(request_with_operator):\n",
    "            if doc in relevance_judgments[request]:\n",
    "                results[i] = 1\n",
    "        recall = np.cumsum(results) / len(relevance_judgments[request])\n",
    "        precision = np.cumsum(results) / len(results)\n",
    "        evaluation_vectorial_request[request] = {\"recall\": recall, \"precision\": precision}\n",
    "    \n",
    "    return evaluation_vectorial_request"
   ]
  },
  {
   "cell_type": "code",
   "execution_count": 102,
   "metadata": {
    "hidden": true
   },
   "outputs": [],
   "source": [
    "results = run_model_and_evaluate({0: traite[0]}, index_document, [\"binary\", \"binary\"], filtered_relevance_judgments)"
   ]
  },
  {
   "cell_type": "code",
   "execution_count": 103,
   "metadata": {
    "hidden": true
   },
   "outputs": [
    {
     "data": {
      "text/plain": [
       "{0: {'precision': array([0.        , 0.        , 0.        , ..., 0.04315476, 0.04315476,\n",
       "         0.04315476]),\n",
       "  'recall': array([0.        , 0.        , 0.        , ..., 0.75652174, 0.75652174,\n",
       "         0.75652174])}}"
      ]
     },
     "execution_count": 103,
     "metadata": {},
     "output_type": "execute_result"
    }
   ],
   "source": [
    "results"
   ]
  },
  {
   "cell_type": "code",
   "execution_count": 95,
   "metadata": {
    "hidden": true
   },
   "outputs": [],
   "source": [
    "def draw_recall_precision_curve (query,inverted_index, model, relevance_judgments):\n",
    "    # A completer.\n",
    "    results = run_model_and_evaluate(query,inverted_index, model, relevance_judgments)\n",
    "    plt.plot(results[0]['recall'], results[0][\"precision\"])\n",
    "    plt.title('Precision en fonction du rappel')\n",
    "    plt.show()"
   ]
  },
  {
   "cell_type": "code",
   "execution_count": 112,
   "metadata": {
    "hidden": true
   },
   "outputs": [
    {
     "data": {
      "image/png": "[encoded data removed]",
      "text/plain": [
       "<Figure size 432x288 with 1 Axes>"
      ]
     },
     "metadata": {},
     "output_type": "display_data"
    }
   ],
   "source": [
    "draw_recall_precision_curve({0: traite[0]}, index_document, [\"binary\", \"binary\"], filtered_relevance_judgments)"
   ]
  },
  {
   "cell_type": "code",
   "execution_count": 104,
   "metadata": {
    "hidden": true
   },
   "outputs": [],
   "source": [
    "results2 = run_model_and_evaluate({0: traite[0]}, index_document, [\"frequency\", \"frequency\"], filtered_relevance_judgments)"
   ]
  },
  {
   "cell_type": "code",
   "execution_count": 105,
   "metadata": {
    "hidden": true
   },
   "outputs": [
    {
     "data": {
      "text/plain": [
       "{0: {'precision': array([0.00049603, 0.00049603, 0.00049603, ..., 0.04315476, 0.04315476,\n",
       "         0.04315476]),\n",
       "  'recall': array([0.00869565, 0.00869565, 0.00869565, ..., 0.75652174, 0.75652174,\n",
       "         0.75652174])}}"
      ]
     },
     "execution_count": 105,
     "metadata": {},
     "output_type": "execute_result"
    }
   ],
   "source": [
    "results2"
   ]
  },
  {
   "cell_type": "code",
   "execution_count": 110,
   "metadata": {
    "hidden": true
   },
   "outputs": [
    {
     "data": {
      "image/png": "[encoded data removed]",
      "text/plain": [
       "<Figure size 432x288 with 1 Axes>"
      ]
     },
     "metadata": {},
     "output_type": "display_data"
    }
   ],
   "source": [
    "draw_recall_precision_curve({0: traite[0]}, index_document, [\"frequency\", \"frequency\"], filtered_relevance_judgments)"
   ]
  },
  {
   "cell_type": "code",
   "execution_count": 134,
   "metadata": {
    "hidden": true
   },
   "outputs": [],
   "source": [
    "results3 = run_model_and_evaluate({0: traite[0]}, index_document, [\"tf_idf_normalize\", \"frequency\"], filtered_relevance_judgments)"
   ]
  },
  {
   "cell_type": "code",
   "execution_count": 135,
   "metadata": {
    "hidden": true
   },
   "outputs": [
    {
     "data": {
      "text/plain": [
       "{0: {'precision': array([0.00049603, 0.00049603, 0.00049603, ..., 0.04315476, 0.04315476,\n",
       "         0.04315476]),\n",
       "  'recall': array([0.00869565, 0.00869565, 0.00869565, ..., 0.75652174, 0.75652174,\n",
       "         0.75652174])}}"
      ]
     },
     "execution_count": 135,
     "metadata": {},
     "output_type": "execute_result"
    }
   ],
   "source": [
    "results3"
   ]
  },
  {
   "cell_type": "code",
   "execution_count": 137,
   "metadata": {
    "hidden": true
   },
   "outputs": [
    {
     "data": {
      "image/png": "[encoded data removed]",
      "text/plain": [
       "<Figure size 432x288 with 1 Axes>"
      ]
     },
     "metadata": {},
     "output_type": "display_data"
    }
   ],
   "source": [
    "draw_recall_precision_curve({0: traite[0]}, index_document, [\"tf_idf_normalize\", \"frequency\"], filtered_relevance_judgments)"
   ]
  },
  {
   "cell_type": "markdown",
   "metadata": {
    "heading_collapsed": true
   },
   "source": [
    "# Page Rank"
   ]
  },
  {
   "cell_type": "markdown",
   "metadata": {
    "hidden": true
   },
   "source": [
    "Pour tester cette approche, il faudrait connaitre les liens entrant et sortant des pages, ce qui n'est pas le cas, donc cette partie n'est pas traitée ici"
   ]
  },
  {
   "cell_type": "markdown",
   "metadata": {
    "heading_collapsed": true
   },
   "source": [
    "# Apprentissage : approche par point"
   ]
  },
  {
   "cell_type": "markdown",
   "metadata": {
    "hidden": true
   },
   "source": [
    "L'entrainement du modèle a été fait dans le lab 6. Pour plus de clareté, on a recopié ici l'entrainement complet de celui ci, mais pour le script on a sauvegardé le modèle dans un fichier qu'on importe, pour ne pas avoir à le réentrainer.\n",
    "\n",
    "On n'a malheureusement pas pu l'utiliser sur les données, car elles sont dans un format qui necessite un traitement préalable (il aurait notamment fallu que les outputs contiennent les resultats organisés par rang pour qu'on ait un moyen d'evaluer notre résultat)"
   ]
  },
  {
   "cell_type": "markdown",
   "metadata": {
    "heading_collapsed": true,
    "hidden": true
   },
   "source": [
    "## Etape 0 : Prise en main des données"
   ]
  },
  {
   "cell_type": "code",
   "execution_count": 77,
   "metadata": {
    "hidden": true
   },
   "outputs": [
    {
     "name": "stdout",
     "output_type": "stream",
     "text": [
      "query: stanford aoerc pool hours\n",
      "  url: http://events.stanford.edu/2014/February/18/\n",
      "    title: events at stanford tuesday february 18 2014\n",
      "    header: stanford university event calendar\n",
      "    header: teaching sex at stanford\n",
      "    header: rodin the complete stanford collection\n",
      "    header: stanford rec trx suspension training\n",
      "    header: memorial church open visiting hours\n",
      "    header: alternative transportation counseling tm 3 hour stanford univ shc employees retirees family members\n",
      "    body_hits: stanford 239 271 318 457 615 642 663 960 966 971\n",
      "    body_hits: aoerc 349 401 432 530 549 578 596\n",
      "    body_hits: pool 521\n",
      "    body_length: 981\n",
      "    pagerank: 1\n",
      "  url: http://events.stanford.edu/2014/February/6/\n",
      "    title: events at stanford thursday february 6 2014\n",
      "    header: stanford university event calendar\n",
      "    header: stanford woods environmental forum featuring roz naylor\n",
      "    header: stanford school of earth sciences alumni reception at nape\n",
      "    header: an evening with stanford alumnus and pandora founder tim westergren 88\n",
      "    header: rodin the complete stanford collection\n",
      "    header: stanford rec trx suspension training\n",
      "    header: memorial church open visiting hours\n",
      "    body_hits: stanford 248 327 371 418 514 653 796 817 1081 1087 1092\n",
      "    body_hits: aoerc 545 597 628 713 732 761 779\n",
      "    body_hits: pool 704\n",
      "    body_length: 1102\n",
      "    pagerank: 0\n",
      "  url: http://events.stanford.edu/2014/March/13/\n",
      "    title: events at stanford thursday march 13 2014\n",
      "    header: stanford university event calendar\n",
      "    header: rodin the complete stanford collection\n",
      "    header: stanford rec trx suspension training\n",
      "    header: memorial church open visiting hours\n",
      "    body_hits: stanford 160 188 274 297 367 506 654 675 681 926 977 983 988\n",
      "    body_hits: aoerc 398 450 481 566 585 605\n",
      "    body_hits: pool 557\n",
      "    body_length: 998\n",
      "    pagerank: 0\n",
      "  url: http://events.stanford.edu/2014/March/3/\n",
      "    title: events at stanford monday march 3 2014\n",
      "    header: stanford university event calendar\n",
      "    header: rodin the complete stanford collection\n",
      "    header: stanford rec trx suspension training\n",
      "    header: memorial church open visiting hours\n",
      "    body_hits: stanford 188 196 331 375 514 674 1096 1102 1107\n",
      "    body_hits: aoerc 406 458 489 574 593 622 640\n",
      "    body_hits: pool 565\n",
      "    body_length: 1117\n",
      "    pagerank: 0\n",
      "  url: http://med.stanford.edu/content/dam/sm/hip/documents/FreeFitnessWeek.pdf\n",
      "    title: ffw spring 2017 schedule\n",
      "    body_hits: aoerc 3 6 13 14 21 29\n",
      "    body_hits: pool 11\n",
      "    body_hits: stanford 125 135 264\n",
      "    body_length: 352\n",
      "    pagerank: 2\n",
      "  url: http://web.stanford.edu/group/masters/pool.html\n",
      "    title: stanford masters swimming pool & parking information\n",
      "    body_hits: pool 11\n",
      "    body_hits: stanford 33 203\n",
      "    body_hits: hours 131\n",
      "    body_length: 212\n",
      "    pagerank: 3\n",
      "    anchor_text: pool & parking info\n",
      "      stanford_anchor_count: 13\n",
      "  url: https://alumni.stanford.edu/get/page/perks/PoolAndGyms\n",
      "    title: pool & gyms\n",
      "    header: pool & gyms\n",
      "    body_hits: stanford 67 122 172 333 338 343 354\n",
      "    body_hits: aoerc 201\n",
      "    body_hits: hours 307 321\n",
      "    body_length: 355\n",
      "    pagerank: 4\n",
      "    anchor_text: access to stanford gyms and pools\n",
      "      stanford_anchor_count: 1\n",
      "  url: https://cardinalrec.stanford.edu/facilities/aoerc/\n",
      "    title:\n",
      "    body_length: 0\n",
      "    pagerank: 4\n",
      "    anchor_text: gyms aoerc\n",
      "      stanford_anchor_count: 3\n",
      "    anchor_text: aoerc\n",
      "      stanford_anchor_count: 13\n",
      "    anchor_text: http cardinalrec stanford edu facilities aoerc\n",
      "      stanford_anchor_count: 4\n",
      "    anchor_text: arrillaga outdoor education and recreation center aoerc link is external\n",
      "      stanford_anchor_count: 1\n",
      "    anchor_text: the arrillaga outdoor education and research center aoerc\n",
      "      stanford_anchor_count: 2\n",
      "    anchor_text: aoerc will shutdown for maintenance\n",
      "      stanford_anchor_count: 2\n",
      "  url: https://explorecourses.stanford.edu/search?view=catalog&filter-coursestatus-Active=on&page=0&catalog=&q=PE+128%3A+Swimming%3A+Beginning+I&collapse=\n",
      "    title: stanford university explore courses\n",
      "    body_hits: stanford 6 812\n",
      "    body_hits: pool 229 280 331 373 458 580\n",
      "    body_hits: aoerc 375\n",
      "    body_length: 818\n",
      "    pagerank: 1\n",
      "  url: https://glo.stanford.edu/events/stanford-rec-open-house\n",
      "    title: stanford rec open house graduate life office\n",
      "    header: stanford rec open house\n",
      "    body_hits: stanford 7 11 57 94 620 632 675 692 700 704 712 718 720\n",
      "    body_hits: aoerc 46 193 204 268 279 319 330 397 464 475 522 533 574 611\n",
      "    body_hits: pool 595 609\n",
      "    body_length: 724\n",
      "    pagerank: 1\n",
      "    anchor_text: stanford rec open house\n",
      "      stanford_anchor_count: 3\n",
      "query: alumni association benefits\n",
      "  url: http://alumni.stanford.edu/get/page/membership/benefits/creditcard\n",
      "    title: membership benefits stanford alumni association credit card\n",
      "    header: stanford alumni rewards visa credit card\n",
      "    header: carry the card that supports the stanford alumni association\n",
      "    body_hits: alumni 68 74 84 100 103 110 112 149 152 164 166 170 189 196 265 357 412 548 601 612 635 642 651 666 679 690\n",
      "    body_hits: benefits 161 421\n",
      "    body_hits: association 190 613 643 667\n",
      "    body_length: 711\n",
      "    pagerank: 2\n",
      "    anchor_text: exclusive alumni rewards visa credit card\n",
      "      stanford_anchor_count: 3\n",
      "  url: http://alumni.stanford.edu/get/page/membership/benefits/libraries\n",
      "    title: membership benefits libraries\n",
      "    header: library privileges for alumni members\n",
      "    body_hits: alumni 68 74 84 100 103 110 112 149 152 164 166 170 184 202 203 226 231 348 374 391\n",
      "    body_hits: benefits 161\n",
      "    body_hits: association 185 232\n",
      "    body_length: 412\n",
      "    pagerank: 2\n",
      "    anchor_text: double the free days of alumni library access\n",
      "      stanford_anchor_count: 2\n",
      "  url: http://alumni.stanford.edu/get/page/membership/students\n",
      "    title: membership students\n",
      "    header: benefits of membership\n",
      "    header: benefits great for students\n",
      "    header: membership dues support saa activities for students & alumni\n",
      "    header: special benefits for the class of 2017\n",
      "    body_hits: alumni 68 74 84 100 103 110 112 149 152 164 166 170 201 213 323 382 403 422 485 489 492 498 546 563 596 615 619\n",
      "    body_hits: benefits 161 217 290 333 473 610\n",
      "    body_hits: association 202\n",
      "    body_length: 640\n",
      "    pagerank: 4\n",
      "    anchor_text: click here to see more benefits\n",
      "      stanford_anchor_count: 3\n",
      "    anchor_text: click here to learn more about the benefits of membership\n",
      "      stanford_anchor_count: 1\n",
      "    anchor_text: click here to learn more about benefits\n",
      "      stanford_anchor_count: 1\n",
      "  url: https://alumni-esc.stanford.edu/get/page/membership/faq-general\n",
      "    title: membership general faq\n",
      "    header: i want to join saa what are the member benefits\n",
      "    header: what is the difference between the saa membership and the stanford gsb alumni association membership\n",
      "    body_hits: alumni 65 87 193 201 225 245 282 340 353 370 489 539 651 721 836 881 948 972 981 1044 1085 1102 1127 1146\n",
      "    body_hits: association 88 194 949 973 982 1045 1103\n",
      "    body_hits: benefits 99 232 237 347 405 989 1065 1141\n",
      "    body_length: 1169\n",
      "    pagerank: 0\n",
      "  url: https://alumni.stanford.edu/get/page/landing/resources\n",
      "    title: resources stanford alumni association\n",
      "    header: alumni career services\n",
      "    header: alumni center\n",
      "    header: alumni center event planning\n",
      "    body_hits: alumni 68 74 84 100 103 110 112 149 152 159 161 165 180 188 214 225 228 262 271 278 320 326 358 371 391 409 441\n",
      "    body_hits: benefits 246 276\n",
      "    body_hits: association 272\n",
      "    body_length: 462\n",
      "    pagerank: 5\n",
      "  url: https://alumni.stanford.edu/get/page/membership/benefits\n",
      "    title: membership benefits\n",
      "    header: members get special benefits\n",
      "    body_hits: alumni 68 74 84 100 103 110 112 149 152 164 166 170 184 243 252 343 352 358 369 386 400 413 506 511 642 712 721 773 783 795\n",
      "    body_hits: benefits 161 192 518 526 536 687 692 704 770\n",
      "    body_hits: association 185 370\n",
      "    body_length: 816\n",
      "    pagerank: 4\n",
      "    anchor_text: member benefits\n",
      "      stanford_anchor_count: 71\n",
      "    anchor_text: see our benefits\n",
      "      stanford_anchor_count: 1\n",
      "    anchor_text: see all benefits\n",
      "      stanford_anchor_count: 2\n",
      "    anchor_text: click here to see the full list of member benefits\n",
      "      stanford_anchor_count: 1\n",
      "    anchor_text: other saa member benefits\n",
      "      stanford_anchor_count: 1\n",
      "    anchor_text: for a complete list of member benefits please visit alumni stanford edu goto membership benefits\n",
      "      stanford_anchor_count: 1\n",
      "  url: https://alumni.stanford.edu/get/page/membership/benefits/golf\n",
      "    title: membership benefits golf\n",
      "    body_hits: alumni 68 74 84 100 103 110 112 149 152 164 166 170 184 319 333 340 360 474 599\n",
      "    body_hits: benefits 161\n",
      "    body_hits: association 185 320 341 475\n",
      "    body_length: 620\n",
      "    pagerank: 4\n",
      "    anchor_text: members of the stanford alumni association\n",
      "      stanford_anchor_count: 2\n",
      "  url: https://alumni.stanford.edu/get/page/membership/benefits/rh_alums\n",
      "    title: membership benefits reunion homecoming\n",
      "    body_hits: alumni 68 74 84 102 105 112 114 151 154 166 168 172 192 211 375 470 485 491\n",
      "    body_hits: benefits 163 306 410\n",
      "    body_hits: association 193 471\n",
      "    body_length: 512\n",
      "    pagerank: 0\n",
      "  url: https://alumni.stanford.edu/get/page/membership/join?memb_group=SAA\n",
      "    title: membership stanford alumni association\n",
      "    header: general alumni membership graduated from stanford more than 5 years ago\n",
      "    header: affiliate membership for non alumni includes stanford faculty staff interns residents fellows certificate holders postdocs travel study participants and stanford parents\n",
      "    header: friend of stanford membership non alumni non affiliate\n",
      "    body_hits: alumni 68 74 84 100 103 110 112 149 152 164 166 170 186 200 2164 2199\n",
      "    body_hits: benefits 161 195 245\n",
      "    body_hits: association 187\n",
      "    body_length: 2220\n",
      "    pagerank: 5\n",
      "    anchor_text: stanford alumni association members\n",
      "      stanford_anchor_count: 6\n",
      "  url: https://alumni.stanford.edu/get/page/perks/index\n",
      "    title: perks\n",
      "    header: stanford alumni email account\n",
      "    header: alumni network a\n",
      "...\n"
     ]
    }
   ],
   "source": [
    "import os\n",
    "\n",
    "data_dir = '../CS276/pa3-data'\n",
    "filename = os.path.join(data_dir, \"pa3.signal.train\")\n",
    "with open(filename, 'r', encoding = 'utf8') as f:\n",
    "    print(f.read()[0:10000])\n",
    "print(\"...\")"
   ]
  },
  {
   "cell_type": "code",
   "execution_count": 78,
   "metadata": {
    "hidden": true,
    "scrolled": true
   },
   "outputs": [
    {
     "name": "stdout",
     "output_type": "stream",
     "text": [
      "{'http://events.stanford.edu/2014/February/6/': title: events at stanford thursday february 6 2014\n",
      " headers: ['stanford university event calendar', 'stanford woods environmental forum featuring roz naylor', 'stanford school of earth sciences alumni reception at nape', 'an evening with stanford alumnus and pandora founder tim westergren 88', 'rodin the complete stanford collection', 'stanford rec trx suspension training', 'memorial church open visiting hours']\n",
      " body_hits: {'aoerc': [545, 597, 628, 713, 732, 761, 779], 'stanford': [248, 327, 371, 418, 514, 653, 796, 817, 1081, 1087, 1092], 'pool': [704]}\n",
      " body_length: 1102\n",
      ", 'http://events.stanford.edu/2014/February/18/': title: events at stanford tuesday february 18 2014\n",
      " headers: ['stanford university event calendar', 'teaching sex at stanford', 'rodin the complete stanford collection', 'stanford rec trx suspension training', 'memorial church open visiting hours', 'alternative transportation counseling tm 3 hour stanford univ shc employees retirees family members']\n",
      " body_hits: {'aoerc': [349, 401, 432, 530, 549, 578, 596], 'stanford': [239, 271, 318, 457, 615, 642, 663, 960, 966, 971], 'pool': [521]}\n",
      " body_length: 981\n",
      " pagerank: 1\n",
      ", 'http://med.stanford.edu/content/dam/sm/hip/documents/FreeFitnessWeek.pdf': title: ffw spring 2017 schedule\n",
      " body_hits: {'aoerc': [3, 6, 13, 14, 21, 29], 'pool': [11], 'stanford': [125, 135, 264]}\n",
      " body_length: 352\n",
      " pagerank: 2\n",
      ", 'https://cardinalrec.stanford.edu/facilities/aoerc/': title: \n",
      " pagerank: 4\n",
      " anchors: {'gyms aoerc': 3, 'http cardinalrec stanford edu facilities aoerc': 4, 'arrillaga outdoor education and recreation center aoerc link is external': 1, 'the arrillaga outdoor education and research center aoerc': 2, 'aoerc': 13, 'aoerc will shutdown for maintenance': 2}\n",
      ", 'http://web.stanford.edu/group/masters/pool.html': title: stanford masters swimming pool & parking information\n",
      " body_hits: {'stanford': [33, 203], 'pool': [11], 'hours': [131]}\n",
      " body_length: 212\n",
      " pagerank: 3\n",
      " anchors: {'pool & parking info': 13}\n",
      ", 'https://glo.stanford.edu/events/stanford-rec-open-house': title: stanford rec open house graduate life office\n",
      " headers: ['stanford rec open house']\n",
      " body_hits: {'aoerc': [46, 193, 204, 268, 279, 319, 330, 397, 464, 475, 522, 533, 574, 611], 'stanford': [7, 11, 57, 94, 620, 632, 675, 692, 700, 704, 712, 718, 720], 'pool': [595, 609]}\n",
      " body_length: 724\n",
      " pagerank: 1\n",
      " anchors: {'stanford rec open house': 3}\n",
      ", 'https://alumni.stanford.edu/get/page/perks/PoolAndGyms': title: pool & gyms\n",
      " headers: ['pool & gyms']\n",
      " body_hits: {'aoerc': [201], 'stanford': [67, 122, 172, 333, 338, 343, 354], 'hours': [307, 321]}\n",
      " body_length: 355\n",
      " pagerank: 4\n",
      " anchors: {'access to stanford gyms and pools': 1}\n",
      ", 'http://events.stanford.edu/2014/March/13/': title: events at stanford thursday march 13 2014\n",
      " headers: ['stanford university event calendar', 'rodin the complete stanford collection', 'stanford rec trx suspension training', 'memorial church open visiting hours']\n",
      " body_hits: {'aoerc': [398, 450, 481, 566, 585, 605], 'stanford': [160, 188, 274, 297, 367, 506, 654, 675, 681, 926, 977, 983, 988], 'pool': [557]}\n",
      " body_length: 998\n",
      ", 'http://events.stanford.edu/2014/March/3/': title: events at stanford monday march 3 2014\n",
      " headers: ['stanford university event calendar', 'rodin the complete stanford collection', 'stanford rec trx suspension training', 'memorial church open visiting hours']\n",
      " body_hits: {'aoerc': [406, 458, 489, 574, 593, 622, 640], 'stanford': [188, 196, 331, 375, 514, 674, 1096, 1102, 1107], 'pool': [565]}\n",
      " body_length: 1117\n",
      ", 'https://explorecourses.stanford.edu/search?view=catalog&filter-coursestatus-Active=on&page=0&catalog=&q=PE+128%3A+Swimming%3A+Beginning+I&collapse=': title: stanford university explore courses\n",
      " body_hits: {'aoerc': [375], 'stanford': [6, 812], 'pool': [229, 280, 331, 373, 458, 580]}\n",
      " body_length: 818\n",
      " pagerank: 1\n",
      "}\n",
      "Recupération du document\n",
      "document: title: stanford rec open house graduate life office\n",
      " headers: ['stanford rec open house']\n",
      " body_hits: {'aoerc': [46, 193, 204, 268, 279, 319, 330, 397, 464, 475, 522, 533, 574, 611], 'stanford': [7, 11, 57, 94, 620, 632, 675, 692, 700, 704, 712, 718, 720], 'pool': [595, 609]}\n",
      " body_length: 724\n",
      " pagerank: 1\n",
      " anchors: {'stanford rec open house': 3}\n",
      "\n",
      "url https://glo.stanford.edu/events/stanford-rec-open-house\n",
      "headers: ['stanford rec open house']\n",
      "body_hits: {'aoerc': [46, 193, 204, 268, 279, 319, 330, 397, 464, 475, 522, 533, 574, 611], 'stanford': [7, 11, 57, 94, 620, 632, 675, 692, 700, 704, 712, 718, 720], 'pool': [595, 609]}\n",
      "anchor_text: {'stanford rec open house': 3}\n"
     ]
    }
   ],
   "source": [
    "import os\n",
    "import sys\n",
    "from Utils.base_classes.load_train_data import load_train_data\n",
    "from Utils.base_classes.query import Query\n",
    "\n",
    "data_dir = '../CS276/pa3-data'\n",
    "file_name = os.path.join(data_dir, \"pa3.signal.train\")\n",
    "query_dict = load_train_data(file_name)\n",
    "# Récupération de l'information associée à une requête sous forme d'un dictionnaire de documents\n",
    "print(query_dict[Query(\"stanford aoerc pool hours\")])\n",
    "# Récupération d'un document\n",
    "print(\"Recupération du document\")\n",
    "sample_doc = query_dict[Query(\"stanford aoerc pool hours\")]['https://glo.stanford.edu/events/stanford-rec-open-house']\n",
    "#Affichage du document\n",
    "print(\"document:\", sample_doc)\n",
    "# affichage du contenu du champ url du document\n",
    "print(\"url\", sample_doc.url)\n",
    "# affichage du contenu du champ headers du document\n",
    "print(\"headers:\", sample_doc.headers)\n",
    "# affichage du contenu du champ body hits  du document\n",
    "print(\"body_hits:\",sample_doc.body_hits)\n",
    "\n",
    "# affichage du contenu du champ body hits  du document\n",
    "print(\"anchor_text:\",sample_doc.anchors)"
   ]
  },
  {
   "cell_type": "code",
   "execution_count": 79,
   "metadata": {
    "hidden": true
   },
   "outputs": [
    {
     "name": "stdout",
     "output_type": "stream",
     "text": [
      "Total Number of Terms is 347071\n",
      "1\n",
      "radiology\n",
      "radiology\n"
     ]
    }
   ],
   "source": [
    "import pickle as pkl\n",
    "from Utils.base_classes.id_map import IdMap\n",
    "import math\n",
    "\n",
    "with open(\"../CS276/pa3-data/terms.dict\", 'rb') as f:\n",
    "    terms = pkl.load(f)\n",
    "    total_term_num = len(terms)\n",
    "    print(\"Total Number of Terms is\", total_term_num)\n",
    "\n",
    "print(terms[\"radiology\"])\n",
    "print(terms[1])\n",
    "print(terms[terms[\"radiology\"]])\n"
   ]
  },
  {
   "cell_type": "code",
   "execution_count": 80,
   "metadata": {
    "hidden": true
   },
   "outputs": [
    {
     "name": "stdout",
     "output_type": "stream",
     "text": [
      "Total Number of Docs is 98998\n",
      "0/3dradiology.stanford.edu_patient_care_Case%2520studies_AVM.html\n",
      "1\n",
      "0/asiahealthpolicy.stanford.edu_news_3140\n"
     ]
    }
   ],
   "source": [
    "with open(\"../CS276/pa3-data/docs.dict\", 'rb') as f:\n",
    "    docs = pkl.load(f)\n",
    "    total_doc_num = len(docs)\n",
    "    print(\"Total Number of Docs is\", total_doc_num)\n",
    "    \n",
    "print(docs[1])\n",
    "print(docs[\"0/3dradiology.stanford.edu_patient_care_Case%2520studies_AVM.html\"])\n",
    "print(docs[3452])   \n"
   ]
  },
  {
   "cell_type": "code",
   "execution_count": 81,
   "metadata": {
    "hidden": true
   },
   "outputs": [
    {
     "name": "stdout",
     "output_type": "stream",
     "text": [
      "(6792, 429, 3432)\n"
     ]
    }
   ],
   "source": [
    "with open('../CS276/pa3-data/BSBI.dict', 'rb') as f:\n",
    "    postings_dict, termsID = pkl.load(f)\n",
    "\n",
    "print(postings_dict[1])\n"
   ]
  },
  {
   "cell_type": "code",
   "execution_count": 82,
   "metadata": {
    "hidden": true
   },
   "outputs": [],
   "source": [
    "import math\n",
    "\n",
    "def build_IDF_dict(terms_dict,BSBI_dict,doc_dict):\n",
    "    IDF_dict = {}\n",
    "    # A completer\n",
    "    N = len(doc_dict)\n",
    "    for word in terms_dict:\n",
    "        if terms_dict[word] in BSBI_dict:\n",
    "            IDF_dict[word] = math.log(N / BSBI_dict[terms_dict[word]][2])\n",
    "        else:\n",
    "            IDF_dict[word] = math.log(N)\n",
    "    return IDF_dict\n",
    "\n",
    "idf_dict = build_IDF_dict(terms, postings_dict, docs)\n"
   ]
  },
  {
   "cell_type": "markdown",
   "metadata": {
    "heading_collapsed": true,
    "hidden": true
   },
   "source": [
    "## Etape 1 : Construction du vecteur représentatif"
   ]
  },
  {
   "cell_type": "code",
   "execution_count": 83,
   "metadata": {
    "hidden": true
   },
   "outputs": [
    {
     "name": "stdout",
     "output_type": "stream",
     "text": [
      "[-1.7498628016805686, 11.50285492689246, 3.556945328279329, 0.8870059748725837]\n"
     ]
    }
   ],
   "source": [
    "# A compléter\n",
    "N = len(docs)\n",
    "\n",
    "def compute_request_vector(query):\n",
    "    vector = []\n",
    "    for term in query.split(\" \"):\n",
    "        if term in idf_dict:\n",
    "            vector.append(idf_dict[term])\n",
    "        else:\n",
    "            vector.append(math.log(N))\n",
    "    return vector\n",
    "\n",
    "print(compute_request_vector(\"stanford aoerc pool hours\"))"
   ]
  },
  {
   "cell_type": "code",
   "execution_count": 84,
   "metadata": {
    "hidden": true
   },
   "outputs": [
    {
     "name": "stdout",
     "output_type": "stream",
     "text": [
      "[[2, 0, 0, 0], [1, 0, 0, 0], [1, 0, 0, 0], [13, 14, 2, 0], [3, 0, 0, 0]]\n"
     ]
    }
   ],
   "source": [
    "# A compléter\n",
    "import re\n",
    "\n",
    "def compute_doc_vector(doc, query, input_dict):\n",
    "    vector = [[] for i in range(5)]\n",
    "    sample_doc = input_dict[Query(query)][doc]\n",
    "    for term in query.split(\" \"):\n",
    "        \n",
    "        matches = re.findall(term, sample_doc.url)\n",
    "        vector[0].append(len(matches))\n",
    "        \n",
    "        matches = re.findall(term, sample_doc.title)\n",
    "        vector[1].append(len(matches))\n",
    "        \n",
    "        count = 0\n",
    "        try:\n",
    "            for header in sample_doc.headers:\n",
    "                matches = re.findall(term, header)\n",
    "                count += len(matches)\n",
    "        except:\n",
    "            pass\n",
    "        vector[2].append(len(matches))\n",
    "        \n",
    "        try:\n",
    "            if term in sample_doc.body_hits:\n",
    "                vector[3].append(len(sample_doc.body_hits[term]))\n",
    "            else:\n",
    "                vector[3].append(0)\n",
    "        except:\n",
    "            vector[3].append(0)\n",
    "        \n",
    "            \n",
    "        count = 0\n",
    "        try:\n",
    "            for anchor in sample_doc.anchors:\n",
    "                if term in anchor.split(' '):\n",
    "                    count += sample_doc.anchors[anchor]\n",
    "        except:\n",
    "            pass\n",
    "        vector[4].append(count)\n",
    "        \n",
    "    return vector\n",
    "\n",
    "print(compute_doc_vector('https://glo.stanford.edu/events/stanford-rec-open-house', \"stanford aoerc pool hours\", query_dict))"
   ]
  },
  {
   "cell_type": "code",
   "execution_count": 85,
   "metadata": {
    "hidden": true
   },
   "outputs": [
    {
     "name": "stdout",
     "output_type": "stream",
     "text": [
      "[-1.7498628016805686, -1.7498628016805686, -1.7498628016805686, 66.57830179972086, 0.0]\n"
     ]
    }
   ],
   "source": [
    "# A compléter\n",
    "import numpy as np\n",
    "\n",
    "def compute_couple(doc, query, input_dict):\n",
    "    result = []\n",
    "    doc_vector = compute_doc_vector(doc, query, input_dict)\n",
    "    query_vector = compute_request_vector(query)\n",
    "    for i in range(len(doc_vector)):\n",
    "        result.append(np.dot(query_vector, doc_vector[i]))\n",
    "    return result\n",
    "\n",
    "print(compute_couple('http://events.stanford.edu/2014/February/18/', \"stanford aoerc pool hours\", query_dict))"
   ]
  },
  {
   "cell_type": "markdown",
   "metadata": {
    "heading_collapsed": true,
    "hidden": true
   },
   "source": [
    "## Etape 2 : Entrainement du modèle de régréssion linéaire"
   ]
  },
  {
   "cell_type": "code",
   "execution_count": 86,
   "metadata": {
    "hidden": true
   },
   "outputs": [
    {
     "name": "stdout",
     "output_type": "stream",
     "text": [
      "7026\n",
      "7026\n"
     ]
    }
   ],
   "source": [
    "# Calculer les caractéristiques et les valeurs de pertinences pour les données d'apprentissage\n",
    "\n",
    "train_signal_file = \"../CS276/pa3-data/pa3.signal.train\"\n",
    "train_rel_file = \"../CS276/pa3-data/pa3.rel.train\"\n",
    "query_dict = load_train_data(train_signal_file)\n",
    "rel_dict = load_train_data(train_rel_file)\n",
    "\n",
    "# A compléter\n",
    "\n",
    "diabetes_X_train = []\n",
    "diabetes_y_train = []\n",
    "\n",
    "for query in query_dict:\n",
    "    for doc1, doc2 in zip(query_dict[query], rel_dict[query]):\n",
    "        diabetes_X_train.append(compute_couple(doc1, str(query), query_dict))\n",
    "        diabetes_y_train.append(float(doc2.split(' ')[1]))\n",
    "\n",
    "print(len(diabetes_X_train))\n",
    "print(len(diabetes_y_train))"
   ]
  },
  {
   "cell_type": "code",
   "execution_count": 87,
   "metadata": {
    "hidden": true
   },
   "outputs": [
    {
     "data": {
      "text/plain": [
       "LinearRegression(copy_X=True, fit_intercept=True, n_jobs=None,\n",
       "         normalize=False)"
      ]
     },
     "execution_count": 87,
     "metadata": {},
     "output_type": "execute_result"
    }
   ],
   "source": [
    "# Entrainer un modèle de regression linéaire\n",
    "import numpy as np\n",
    "from sklearn import linear_model\n",
    "\n",
    "# A completer\n",
    "regr = linear_model.LinearRegression()\n",
    "\n",
    "regr.fit(diabetes_X_train, diabetes_y_train)"
   ]
  },
  {
   "cell_type": "code",
   "execution_count": 88,
   "metadata": {
    "hidden": true
   },
   "outputs": [
    {
     "name": "stdout",
     "output_type": "stream",
     "text": [
      "1187\n",
      "1187\n"
     ]
    }
   ],
   "source": [
    "# Calculer les caractéristiques et les valeurs de pertinences pour les données de test\n",
    "\n",
    "dev_signal_file = \"../CS276/pa3-data/pa3.signal.dev\"\n",
    "dev_rel_file = \"../CS276/pa3-data/pa3.rel.dev\"\n",
    "test_dict = load_train_data(dev_signal_file)\n",
    "rel_test_dict = load_train_data(dev_rel_file)\n",
    "\n",
    "\n",
    "# a completer\n",
    "diabetes_X_test = []\n",
    "diabetes_y_test = []\n",
    "\n",
    "for query in test_dict:\n",
    "    for doc1, doc2 in zip(test_dict[query], rel_test_dict[query]):\n",
    "        diabetes_X_test.append(compute_couple(doc1, str(query), test_dict))\n",
    "        diabetes_y_test.append(float(doc2.split(' ')[1]))\n",
    "\n",
    "print(len(diabetes_X_test))\n",
    "print(len(diabetes_y_test))"
   ]
  },
  {
   "cell_type": "code",
   "execution_count": 89,
   "metadata": {
    "hidden": true
   },
   "outputs": [
    {
     "name": "stdout",
     "output_type": "stream",
     "text": [
      "Coefficients: \n",
      " [4.50400374e-03 1.41140509e-03 1.66999354e-02 1.21261172e-04\n",
      " 3.26860703e-05]\n",
      "Mean squared error: 0.86\n",
      "Coefficient of determination: -0.01\n"
     ]
    }
   ],
   "source": [
    "# Obtenir les prédictions sur l'ensemble de test\n",
    "from sklearn.metrics import mean_squared_error, r2_score\n",
    "from matplotlib import pyplot as plt\n",
    "\n",
    "# A completer\n",
    "\n",
    "# Make predictions using the testing set\n",
    "diabetes_y_pred = regr.predict(diabetes_X_test)\n",
    "\n",
    "# The coefficients\n",
    "print('Coefficients: \\n', regr.coef_)\n",
    "# The mean squared error\n",
    "print('Mean squared error: %.2f'\n",
    "      % mean_squared_error(diabetes_y_test, diabetes_y_pred))\n",
    "# The coefficient of determination: 1 is perfect prediction\n",
    "print('Coefficient of determination: %.2f'\n",
    "      % r2_score(diabetes_y_test, diabetes_y_pred))\n"
   ]
  },
  {
   "cell_type": "code",
   "execution_count": 90,
   "metadata": {
    "hidden": true
   },
   "outputs": [],
   "source": [
    "from pickle import dump\n",
    "\n",
    "with open(\"modele.modele\", \"wb\") as f:\n",
    "    dump(regr, f)\n"
   ]
  },
  {
   "cell_type": "markdown",
   "metadata": {
    "heading_collapsed": true,
    "hidden": true
   },
   "source": [
    "## Etape 3 : Evaluation du modèle"
   ]
  },
  {
   "cell_type": "code",
   "execution_count": 91,
   "metadata": {
    "hidden": true
   },
   "outputs": [
    {
     "name": "stdout",
     "output_type": "stream",
     "text": [
      "0.7804661690813384\n",
      "Write ndcg result to resultats.txt sucessfully!\n"
     ]
    }
   ],
   "source": [
    "from sklearn.metrics import mean_squared_error\n",
    "from Utils.base_classes.ndcg import NDCG\n",
    "\n",
    "# A completer\n",
    "\n",
    "ndcg = NDCG()\n",
    "ndcg.get_rel_scores(dev_rel_file)\n",
    "\n",
    "ndcg.read_ranking_calc(dev_signal_file)\n",
    "average = ndcg.get_avg_ndcg()\n",
    "print(average)\n",
    "ndcg.write_ndcg_result('resultats.txt')"
   ]
  },
  {
   "cell_type": "code",
   "execution_count": null,
   "metadata": {
    "hidden": true
   },
   "outputs": [],
   "source": []
  }
 ],
 "metadata": {
  "kernelspec": {
   "display_name": "Python 3",
   "language": "python",
   "name": "python3"
  },
  "language_info": {
   "codemirror_mode": {
    "name": "ipython",
    "version": 3
   },
   "file_extension": ".py",
   "mimetype": "text/x-python",
   "name": "python",
   "nbconvert_exporter": "python",
   "pygments_lexer": "ipython3",
   "version": "3.5.6"
  }
 },
 "nbformat": 4,
 "nbformat_minor": 2
}
